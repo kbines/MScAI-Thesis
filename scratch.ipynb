{
 "cells": [
  {
   "cell_type": "code",
   "execution_count": 1,
   "outputs": [],
   "source": [
    "import pandas as pd\n",
    "import numpy as np"
   ],
   "metadata": {
    "collapsed": false,
    "pycharm": {
     "name": "#%%\n"
    }
   }
  },
  {
   "cell_type": "code",
   "execution_count": 3,
   "outputs": [],
   "source": [
    "df = pd.read_csv('sp500.csv', sep=',', parse_dates=[\"date\"],\n",
    "                  usecols=['tic','date','open','low','high','close','adj_close','ema_50','ema_200','bb_bbm','bb_bbh','bb_bbl','bb_bbhi','bb_bbli','stoch','stoch_signal','macd','macd_diff','macd_signal','obv','daily_returns'])"
   ],
   "metadata": {
    "collapsed": false,
    "pycharm": {
     "name": "#%%\n"
    }
   }
  },
  {
   "cell_type": "code",
   "execution_count": 8,
   "outputs": [],
   "source": [
    "obs=['daily_returns','ema_50', 'ema_200', 'bb_bbm', 'bb_bbh', 'bb_bbl','bb_bbhi', 'bb_bbli', 'stoch', 'stoch_signal', 'macd','macd_signal', 'obv']"
   ],
   "metadata": {
    "collapsed": false,
    "pycharm": {
     "name": "#%%\n"
    }
   }
  },
  {
   "cell_type": "code",
   "execution_count": 5,
   "outputs": [],
   "source": [
    "df['daily_returns'].fillna(0, inplace=True)\n",
    "df.sort_values(['date', 'tic'], ignore_index=True, inplace=True )\n",
    "df.index = df.date.factorize()[0]"
   ],
   "metadata": {
    "collapsed": false,
    "pycharm": {
     "name": "#%%\n"
    }
   }
  },
  {
   "cell_type": "code",
   "execution_count": 14,
   "outputs": [
    {
     "data": {
      "text/plain": "    daily_returns  ema_50  ema_200  bb_bbm  bb_bbh  bb_bbl  bb_bbhi  bb_bbli  \\\n0      -41.707388   22.66    22.66   22.66   22.66   22.66      0.0      0.0   \n0        0.000000    0.00     0.00    0.00    0.00    0.00      0.0      0.0   \n0      117.782520   53.07    53.07   53.07   53.07   53.07      0.0      0.0   \n0      -65.062144   33.57    33.57   33.57   33.57   33.57      0.0      0.0   \n0      -88.970729    2.57     2.57    2.57    2.57    2.57      0.0      0.0   \n..            ...     ...      ...     ...     ...     ...      ...      ...   \n0      -16.291008   71.10    71.10   71.10   71.10   71.10      0.0      0.0   \n0      -55.504971   34.88    34.88   34.88   34.88   34.88      0.0      0.0   \n0      121.586199   66.67    66.67   66.67   66.67   66.67      0.0      0.0   \n0        0.000000    0.00     0.00    0.00    0.00    0.00      0.0      0.0   \n0        0.000000    0.00     0.00    0.00    0.00    0.00      0.0      0.0   \n\n         stoch  stoch_signal  macd  macd_signal         obv  \n0  -796.503497   -796.503497   0.0          0.0   2574600.0  \n0    50.000000     50.000000   0.0          0.0         0.0  \n0   -27.062706    -27.062706   0.0          0.0   7923861.0  \n0  -136.936937   -136.936937   0.0          0.0    764200.0  \n0  -205.882353   -205.882353   0.0          0.0  44225700.0  \n..         ...           ...   ...          ...         ...  \n0  -253.275109   -253.275109   0.0          0.0   1792400.0  \n0    65.151515     65.151515   0.0          0.0    561400.0  \n0  -747.938144   -747.938144   0.0          0.0    693400.0  \n0    50.000000     50.000000   0.0          0.0         0.0  \n0    50.000000     50.000000   0.0          0.0         0.0  \n\n[731 rows x 13 columns]",
      "text/html": "<div>\n<style scoped>\n    .dataframe tbody tr th:only-of-type {\n        vertical-align: middle;\n    }\n\n    .dataframe tbody tr th {\n        vertical-align: top;\n    }\n\n    .dataframe thead th {\n        text-align: right;\n    }\n</style>\n<table border=\"1\" class=\"dataframe\">\n  <thead>\n    <tr style=\"text-align: right;\">\n      <th></th>\n      <th>daily_returns</th>\n      <th>ema_50</th>\n      <th>ema_200</th>\n      <th>bb_bbm</th>\n      <th>bb_bbh</th>\n      <th>bb_bbl</th>\n      <th>bb_bbhi</th>\n      <th>bb_bbli</th>\n      <th>stoch</th>\n      <th>stoch_signal</th>\n      <th>macd</th>\n      <th>macd_signal</th>\n      <th>obv</th>\n    </tr>\n  </thead>\n  <tbody>\n    <tr>\n      <th>0</th>\n      <td>-41.707388</td>\n      <td>22.66</td>\n      <td>22.66</td>\n      <td>22.66</td>\n      <td>22.66</td>\n      <td>22.66</td>\n      <td>0.0</td>\n      <td>0.0</td>\n      <td>-796.503497</td>\n      <td>-796.503497</td>\n      <td>0.0</td>\n      <td>0.0</td>\n      <td>2574600.0</td>\n    </tr>\n    <tr>\n      <th>0</th>\n      <td>0.000000</td>\n      <td>0.00</td>\n      <td>0.00</td>\n      <td>0.00</td>\n      <td>0.00</td>\n      <td>0.00</td>\n      <td>0.0</td>\n      <td>0.0</td>\n      <td>50.000000</td>\n      <td>50.000000</td>\n      <td>0.0</td>\n      <td>0.0</td>\n      <td>0.0</td>\n    </tr>\n    <tr>\n      <th>0</th>\n      <td>117.782520</td>\n      <td>53.07</td>\n      <td>53.07</td>\n      <td>53.07</td>\n      <td>53.07</td>\n      <td>53.07</td>\n      <td>0.0</td>\n      <td>0.0</td>\n      <td>-27.062706</td>\n      <td>-27.062706</td>\n      <td>0.0</td>\n      <td>0.0</td>\n      <td>7923861.0</td>\n    </tr>\n    <tr>\n      <th>0</th>\n      <td>-65.062144</td>\n      <td>33.57</td>\n      <td>33.57</td>\n      <td>33.57</td>\n      <td>33.57</td>\n      <td>33.57</td>\n      <td>0.0</td>\n      <td>0.0</td>\n      <td>-136.936937</td>\n      <td>-136.936937</td>\n      <td>0.0</td>\n      <td>0.0</td>\n      <td>764200.0</td>\n    </tr>\n    <tr>\n      <th>0</th>\n      <td>-88.970729</td>\n      <td>2.57</td>\n      <td>2.57</td>\n      <td>2.57</td>\n      <td>2.57</td>\n      <td>2.57</td>\n      <td>0.0</td>\n      <td>0.0</td>\n      <td>-205.882353</td>\n      <td>-205.882353</td>\n      <td>0.0</td>\n      <td>0.0</td>\n      <td>44225700.0</td>\n    </tr>\n    <tr>\n      <th>...</th>\n      <td>...</td>\n      <td>...</td>\n      <td>...</td>\n      <td>...</td>\n      <td>...</td>\n      <td>...</td>\n      <td>...</td>\n      <td>...</td>\n      <td>...</td>\n      <td>...</td>\n      <td>...</td>\n      <td>...</td>\n      <td>...</td>\n    </tr>\n    <tr>\n      <th>0</th>\n      <td>-16.291008</td>\n      <td>71.10</td>\n      <td>71.10</td>\n      <td>71.10</td>\n      <td>71.10</td>\n      <td>71.10</td>\n      <td>0.0</td>\n      <td>0.0</td>\n      <td>-253.275109</td>\n      <td>-253.275109</td>\n      <td>0.0</td>\n      <td>0.0</td>\n      <td>1792400.0</td>\n    </tr>\n    <tr>\n      <th>0</th>\n      <td>-55.504971</td>\n      <td>34.88</td>\n      <td>34.88</td>\n      <td>34.88</td>\n      <td>34.88</td>\n      <td>34.88</td>\n      <td>0.0</td>\n      <td>0.0</td>\n      <td>65.151515</td>\n      <td>65.151515</td>\n      <td>0.0</td>\n      <td>0.0</td>\n      <td>561400.0</td>\n    </tr>\n    <tr>\n      <th>0</th>\n      <td>121.586199</td>\n      <td>66.67</td>\n      <td>66.67</td>\n      <td>66.67</td>\n      <td>66.67</td>\n      <td>66.67</td>\n      <td>0.0</td>\n      <td>0.0</td>\n      <td>-747.938144</td>\n      <td>-747.938144</td>\n      <td>0.0</td>\n      <td>0.0</td>\n      <td>693400.0</td>\n    </tr>\n    <tr>\n      <th>0</th>\n      <td>0.000000</td>\n      <td>0.00</td>\n      <td>0.00</td>\n      <td>0.00</td>\n      <td>0.00</td>\n      <td>0.00</td>\n      <td>0.0</td>\n      <td>0.0</td>\n      <td>50.000000</td>\n      <td>50.000000</td>\n      <td>0.0</td>\n      <td>0.0</td>\n      <td>0.0</td>\n    </tr>\n    <tr>\n      <th>0</th>\n      <td>0.000000</td>\n      <td>0.00</td>\n      <td>0.00</td>\n      <td>0.00</td>\n      <td>0.00</td>\n      <td>0.00</td>\n      <td>0.0</td>\n      <td>0.0</td>\n      <td>50.000000</td>\n      <td>50.000000</td>\n      <td>0.0</td>\n      <td>0.0</td>\n      <td>0.0</td>\n    </tr>\n  </tbody>\n</table>\n<p>731 rows × 13 columns</p>\n</div>"
     },
     "execution_count": 14,
     "metadata": {},
     "output_type": "execute_result"
    }
   ],
   "source": [
    "df.head()"
   ],
   "metadata": {
    "collapsed": false,
    "pycharm": {
     "name": "#%%\n"
    }
   }
  },
  {
   "cell_type": "code",
   "execution_count": 15,
   "outputs": [
    {
     "data": {
      "text/plain": "    daily_returns  ema_50  ema_200  bb_bbm  bb_bbh  bb_bbl  bb_bbhi  bb_bbli  \\\n0      -41.707388   22.66    22.66   22.66   22.66   22.66      0.0      0.0   \n0        0.000000    0.00     0.00    0.00    0.00    0.00      0.0      0.0   \n0      117.782520   53.07    53.07   53.07   53.07   53.07      0.0      0.0   \n0      -65.062144   33.57    33.57   33.57   33.57   33.57      0.0      0.0   \n0      -88.970729    2.57     2.57    2.57    2.57    2.57      0.0      0.0   \n..            ...     ...      ...     ...     ...     ...      ...      ...   \n0      -16.291008   71.10    71.10   71.10   71.10   71.10      0.0      0.0   \n0      -55.504971   34.88    34.88   34.88   34.88   34.88      0.0      0.0   \n0      121.586199   66.67    66.67   66.67   66.67   66.67      0.0      0.0   \n0        0.000000    0.00     0.00    0.00    0.00    0.00      0.0      0.0   \n0        0.000000    0.00     0.00    0.00    0.00    0.00      0.0      0.0   \n\n         stoch  stoch_signal  macd  macd_signal         obv  \n0  -796.503497   -796.503497   0.0          0.0   2574600.0  \n0    50.000000     50.000000   0.0          0.0         0.0  \n0   -27.062706    -27.062706   0.0          0.0   7923861.0  \n0  -136.936937   -136.936937   0.0          0.0    764200.0  \n0  -205.882353   -205.882353   0.0          0.0  44225700.0  \n..         ...           ...   ...          ...         ...  \n0  -253.275109   -253.275109   0.0          0.0   1792400.0  \n0    65.151515     65.151515   0.0          0.0    561400.0  \n0  -747.938144   -747.938144   0.0          0.0    693400.0  \n0    50.000000     50.000000   0.0          0.0         0.0  \n0    50.000000     50.000000   0.0          0.0         0.0  \n\n[731 rows x 13 columns]",
      "text/html": "<div>\n<style scoped>\n    .dataframe tbody tr th:only-of-type {\n        vertical-align: middle;\n    }\n\n    .dataframe tbody tr th {\n        vertical-align: top;\n    }\n\n    .dataframe thead th {\n        text-align: right;\n    }\n</style>\n<table border=\"1\" class=\"dataframe\">\n  <thead>\n    <tr style=\"text-align: right;\">\n      <th></th>\n      <th>daily_returns</th>\n      <th>ema_50</th>\n      <th>ema_200</th>\n      <th>bb_bbm</th>\n      <th>bb_bbh</th>\n      <th>bb_bbl</th>\n      <th>bb_bbhi</th>\n      <th>bb_bbli</th>\n      <th>stoch</th>\n      <th>stoch_signal</th>\n      <th>macd</th>\n      <th>macd_signal</th>\n      <th>obv</th>\n    </tr>\n  </thead>\n  <tbody>\n    <tr>\n      <th>0</th>\n      <td>-41.707388</td>\n      <td>22.66</td>\n      <td>22.66</td>\n      <td>22.66</td>\n      <td>22.66</td>\n      <td>22.66</td>\n      <td>0.0</td>\n      <td>0.0</td>\n      <td>-796.503497</td>\n      <td>-796.503497</td>\n      <td>0.0</td>\n      <td>0.0</td>\n      <td>2574600.0</td>\n    </tr>\n    <tr>\n      <th>0</th>\n      <td>0.000000</td>\n      <td>0.00</td>\n      <td>0.00</td>\n      <td>0.00</td>\n      <td>0.00</td>\n      <td>0.00</td>\n      <td>0.0</td>\n      <td>0.0</td>\n      <td>50.000000</td>\n      <td>50.000000</td>\n      <td>0.0</td>\n      <td>0.0</td>\n      <td>0.0</td>\n    </tr>\n    <tr>\n      <th>0</th>\n      <td>117.782520</td>\n      <td>53.07</td>\n      <td>53.07</td>\n      <td>53.07</td>\n      <td>53.07</td>\n      <td>53.07</td>\n      <td>0.0</td>\n      <td>0.0</td>\n      <td>-27.062706</td>\n      <td>-27.062706</td>\n      <td>0.0</td>\n      <td>0.0</td>\n      <td>7923861.0</td>\n    </tr>\n    <tr>\n      <th>0</th>\n      <td>-65.062144</td>\n      <td>33.57</td>\n      <td>33.57</td>\n      <td>33.57</td>\n      <td>33.57</td>\n      <td>33.57</td>\n      <td>0.0</td>\n      <td>0.0</td>\n      <td>-136.936937</td>\n      <td>-136.936937</td>\n      <td>0.0</td>\n      <td>0.0</td>\n      <td>764200.0</td>\n    </tr>\n    <tr>\n      <th>0</th>\n      <td>-88.970729</td>\n      <td>2.57</td>\n      <td>2.57</td>\n      <td>2.57</td>\n      <td>2.57</td>\n      <td>2.57</td>\n      <td>0.0</td>\n      <td>0.0</td>\n      <td>-205.882353</td>\n      <td>-205.882353</td>\n      <td>0.0</td>\n      <td>0.0</td>\n      <td>44225700.0</td>\n    </tr>\n    <tr>\n      <th>...</th>\n      <td>...</td>\n      <td>...</td>\n      <td>...</td>\n      <td>...</td>\n      <td>...</td>\n      <td>...</td>\n      <td>...</td>\n      <td>...</td>\n      <td>...</td>\n      <td>...</td>\n      <td>...</td>\n      <td>...</td>\n      <td>...</td>\n    </tr>\n    <tr>\n      <th>0</th>\n      <td>-16.291008</td>\n      <td>71.10</td>\n      <td>71.10</td>\n      <td>71.10</td>\n      <td>71.10</td>\n      <td>71.10</td>\n      <td>0.0</td>\n      <td>0.0</td>\n      <td>-253.275109</td>\n      <td>-253.275109</td>\n      <td>0.0</td>\n      <td>0.0</td>\n      <td>1792400.0</td>\n    </tr>\n    <tr>\n      <th>0</th>\n      <td>-55.504971</td>\n      <td>34.88</td>\n      <td>34.88</td>\n      <td>34.88</td>\n      <td>34.88</td>\n      <td>34.88</td>\n      <td>0.0</td>\n      <td>0.0</td>\n      <td>65.151515</td>\n      <td>65.151515</td>\n      <td>0.0</td>\n      <td>0.0</td>\n      <td>561400.0</td>\n    </tr>\n    <tr>\n      <th>0</th>\n      <td>121.586199</td>\n      <td>66.67</td>\n      <td>66.67</td>\n      <td>66.67</td>\n      <td>66.67</td>\n      <td>66.67</td>\n      <td>0.0</td>\n      <td>0.0</td>\n      <td>-747.938144</td>\n      <td>-747.938144</td>\n      <td>0.0</td>\n      <td>0.0</td>\n      <td>693400.0</td>\n    </tr>\n    <tr>\n      <th>0</th>\n      <td>0.000000</td>\n      <td>0.00</td>\n      <td>0.00</td>\n      <td>0.00</td>\n      <td>0.00</td>\n      <td>0.00</td>\n      <td>0.0</td>\n      <td>0.0</td>\n      <td>50.000000</td>\n      <td>50.000000</td>\n      <td>0.0</td>\n      <td>0.0</td>\n      <td>0.0</td>\n    </tr>\n    <tr>\n      <th>0</th>\n      <td>0.000000</td>\n      <td>0.00</td>\n      <td>0.00</td>\n      <td>0.00</td>\n      <td>0.00</td>\n      <td>0.00</td>\n      <td>0.0</td>\n      <td>0.0</td>\n      <td>50.000000</td>\n      <td>50.000000</td>\n      <td>0.0</td>\n      <td>0.0</td>\n      <td>0.0</td>\n    </tr>\n  </tbody>\n</table>\n<p>731 rows × 13 columns</p>\n</div>"
     },
     "execution_count": 15,
     "metadata": {},
     "output_type": "execute_result"
    }
   ],
   "source": [
    "x=df.loc[0, :][obs]\n",
    "x"
   ],
   "metadata": {
    "collapsed": false,
    "pycharm": {
     "name": "#%%\n"
    }
   }
  },
  {
   "cell_type": "code",
   "execution_count": 16,
   "outputs": [
    {
     "data": {
      "text/plain": "   daily_returns  ema_50  ema_200  bb_bbm  bb_bbh  bb_bbl  bb_bbhi  bb_bbli  \\\n0     -41.707388   22.66    22.66   22.66   22.66   22.66      0.0      0.0   \n0       0.000000    0.00     0.00    0.00    0.00    0.00      0.0      0.0   \n0     117.782520   53.07    53.07   53.07   53.07   53.07      0.0      0.0   \n0     -65.062144   33.57    33.57   33.57   33.57   33.57      0.0      0.0   \n0     -88.970729    2.57     2.57    2.57    2.57    2.57      0.0      0.0   \n\n        stoch  stoch_signal  macd  macd_signal         obv  \n0 -796.503497   -796.503497   0.0          0.0   2574600.0  \n0   50.000000     50.000000   0.0          0.0         0.0  \n0  -27.062706    -27.062706   0.0          0.0   7923861.0  \n0 -136.936937   -136.936937   0.0          0.0    764200.0  \n0 -205.882353   -205.882353   0.0          0.0  44225700.0  ",
      "text/html": "<div>\n<style scoped>\n    .dataframe tbody tr th:only-of-type {\n        vertical-align: middle;\n    }\n\n    .dataframe tbody tr th {\n        vertical-align: top;\n    }\n\n    .dataframe thead th {\n        text-align: right;\n    }\n</style>\n<table border=\"1\" class=\"dataframe\">\n  <thead>\n    <tr style=\"text-align: right;\">\n      <th></th>\n      <th>daily_returns</th>\n      <th>ema_50</th>\n      <th>ema_200</th>\n      <th>bb_bbm</th>\n      <th>bb_bbh</th>\n      <th>bb_bbl</th>\n      <th>bb_bbhi</th>\n      <th>bb_bbli</th>\n      <th>stoch</th>\n      <th>stoch_signal</th>\n      <th>macd</th>\n      <th>macd_signal</th>\n      <th>obv</th>\n    </tr>\n  </thead>\n  <tbody>\n    <tr>\n      <th>0</th>\n      <td>-41.707388</td>\n      <td>22.66</td>\n      <td>22.66</td>\n      <td>22.66</td>\n      <td>22.66</td>\n      <td>22.66</td>\n      <td>0.0</td>\n      <td>0.0</td>\n      <td>-796.503497</td>\n      <td>-796.503497</td>\n      <td>0.0</td>\n      <td>0.0</td>\n      <td>2574600.0</td>\n    </tr>\n    <tr>\n      <th>0</th>\n      <td>0.000000</td>\n      <td>0.00</td>\n      <td>0.00</td>\n      <td>0.00</td>\n      <td>0.00</td>\n      <td>0.00</td>\n      <td>0.0</td>\n      <td>0.0</td>\n      <td>50.000000</td>\n      <td>50.000000</td>\n      <td>0.0</td>\n      <td>0.0</td>\n      <td>0.0</td>\n    </tr>\n    <tr>\n      <th>0</th>\n      <td>117.782520</td>\n      <td>53.07</td>\n      <td>53.07</td>\n      <td>53.07</td>\n      <td>53.07</td>\n      <td>53.07</td>\n      <td>0.0</td>\n      <td>0.0</td>\n      <td>-27.062706</td>\n      <td>-27.062706</td>\n      <td>0.0</td>\n      <td>0.0</td>\n      <td>7923861.0</td>\n    </tr>\n    <tr>\n      <th>0</th>\n      <td>-65.062144</td>\n      <td>33.57</td>\n      <td>33.57</td>\n      <td>33.57</td>\n      <td>33.57</td>\n      <td>33.57</td>\n      <td>0.0</td>\n      <td>0.0</td>\n      <td>-136.936937</td>\n      <td>-136.936937</td>\n      <td>0.0</td>\n      <td>0.0</td>\n      <td>764200.0</td>\n    </tr>\n    <tr>\n      <th>0</th>\n      <td>-88.970729</td>\n      <td>2.57</td>\n      <td>2.57</td>\n      <td>2.57</td>\n      <td>2.57</td>\n      <td>2.57</td>\n      <td>0.0</td>\n      <td>0.0</td>\n      <td>-205.882353</td>\n      <td>-205.882353</td>\n      <td>0.0</td>\n      <td>0.0</td>\n      <td>44225700.0</td>\n    </tr>\n  </tbody>\n</table>\n</div>"
     },
     "execution_count": 16,
     "metadata": {},
     "output_type": "execute_result"
    }
   ],
   "source": [
    "x.head()"
   ],
   "metadata": {
    "collapsed": false,
    "pycharm": {
     "name": "#%%\n"
    }
   }
  },
  {
   "cell_type": "code",
   "execution_count": 24,
   "outputs": [],
   "source": [
    "u=x.unstack()"
   ],
   "metadata": {
    "collapsed": false,
    "pycharm": {
     "name": "#%%\n"
    }
   }
  },
  {
   "cell_type": "code",
   "execution_count": 22,
   "outputs": [],
   "source": [
    "y=x.values[:, np.newaxis, :]"
   ],
   "metadata": {
    "collapsed": false,
    "pycharm": {
     "name": "#%%\n"
    }
   }
  },
  {
   "cell_type": "code",
   "execution_count": 1,
   "outputs": [],
   "source": [
    "import tensorflow as tf"
   ],
   "metadata": {
    "collapsed": false,
    "pycharm": {
     "name": "#%%\n"
    }
   }
  },
  {
   "cell_type": "code",
   "execution_count": 4,
   "outputs": [
    {
     "data": {
      "text/plain": "[PhysicalDevice(name='/physical_device:GPU:0', device_type='GPU')]"
     },
     "execution_count": 4,
     "metadata": {},
     "output_type": "execute_result"
    }
   ],
   "source": [
    "tf.config.list_physical_devices('GPU')"
   ],
   "metadata": {
    "collapsed": false,
    "pycharm": {
     "name": "#%%\n"
    }
   }
  }
 ],
 "metadata": {
  "kernelspec": {
   "display_name": "Python 3",
   "language": "python",
   "name": "python3"
  },
  "language_info": {
   "codemirror_mode": {
    "name": "ipython",
    "version": 2
   },
   "file_extension": ".py",
   "mimetype": "text/x-python",
   "name": "python",
   "nbconvert_exporter": "python",
   "pygments_lexer": "ipython2",
   "version": "2.7.6"
  }
 },
 "nbformat": 4,
 "nbformat_minor": 0
}