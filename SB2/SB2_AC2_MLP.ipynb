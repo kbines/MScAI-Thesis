{
 "cells": [
  {
   "cell_type": "code",
   "execution_count": 1,
   "metadata": {
    "executionInfo": {
     "elapsed": 523,
     "status": "ok",
     "timestamp": 1628675770654,
     "user": {
      "displayName": "Keith Bines",
      "photoUrl": "https://lh3.googleusercontent.com/a-/AOh14Gh-1rHYFN7Yxp7RK0dmcaDIhb3bISQHVPcOLlyYAA=s64",
      "userId": "04847342589282886972"
     },
     "user_tz": -60
    },
    "id": "UMwfnZQ48f3n"
   },
   "outputs": [],
   "source": [
    "import warnings\n",
    "warnings.filterwarnings(action='ignore',\n",
    "                        category=DeprecationWarning,\n",
    "                        module='stable_baselines')\n",
    "warnings.filterwarnings(action='ignore',\n",
    "                        category=UserWarning,\n",
    "                        module='stable_baselines')\n",
    "warnings.filterwarnings(\"ignore\", category=FutureWarning, module='tensorflow')\n",
    "warnings.filterwarnings(\"ignore\", category=FutureWarning, module='tensorboard')\n",
    "warnings.filterwarnings(\"ignore\", category=UserWarning, module='gym')\n",
    "\n",
    "import gym\n",
    "import PortfolioAllocationGym\n",
    "import numpy as np\n",
    "from stable_baselines import A2C\n",
    "from stable_baselines.common.policies import MlpLnLstmPolicy #, MlpPolicy, MlpLstmPolicy\n",
    "from stable_baselines.common.evaluation import evaluate_policy\n",
    "from stable_baselines.common.env_checker import check_env\n",
    "from stable_baselines.bench import Monitor\n",
    "from tensorflow import nn as nn\n",
    "\n",
    "import pandas as pd\n",
    "pd.options.mode.chained_assignment = None  # default='warn'\n",
    "\n",
    "from datetime import datetime"
   ]
  },
  {
   "cell_type": "code",
   "execution_count": 2,
   "metadata": {
    "executionInfo": {
     "elapsed": 9939,
     "status": "ok",
     "timestamp": 1628675850134,
     "user": {
      "displayName": "Keith Bines",
      "photoUrl": "https://lh3.googleusercontent.com/a-/AOh14Gh-1rHYFN7Yxp7RK0dmcaDIhb3bISQHVPcOLlyYAA=s64",
      "userId": "04847342589282886972"
     },
     "user_tz": -60
    },
    "id": "Au1mKD618f3w",
    "pycharm": {
     "name": "#%%\n"
    }
   },
   "outputs": [],
   "source": [
    "reward_fn = 'benchmark'\n",
    "sample_size=100\n",
    "observations = ['daily_returns', 'ema_50', 'ema_200', 'bb_bbm', 'bb_bbh', 'bb_bbl','bb_bbhi', 'bb_bbli', 'stoch', 'stoch_signal', 'macd','macd_signal', 'obv']\n",
    "env_kwargs = {'filename':'sp500.csv',\n",
    "    'date_from':'2008-01-01',\n",
    "    'date_to':'2017-12-31',\n",
    "    'investment':1000000,\n",
    "    'risk_free_rate': 0.5, # approx US Treasury Note return\n",
    "    'sample_size':sample_size,\n",
    "    'random_sample':True,\n",
    "    'observations' : observations,\n",
    "    'save_info' : True,\n",
    "    #'report_point' : 252,\n",
    "    'reward_function':reward_fn}\n",
    "\n",
    "train_env = gym.make('PortfolioAllocation-v0', **env_kwargs)\n",
    "train_env = Monitor(train_env, 'monitor')"
   ]
  },
  {
   "cell_type": "code",
   "execution_count": 3,
   "metadata": {
    "pycharm": {
     "name": "#%%\n"
    }
   },
   "outputs": [],
   "source": [
    "check_env(train_env)"
   ]
  },
  {
   "cell_type": "code",
   "execution_count": 4,
   "metadata": {
    "pycharm": {
     "name": "#%%\n"
    }
   },
   "outputs": [],
   "source": [
    "venv, obs = train_env.get_sb_env()"
   ]
  },
  {
   "cell_type": "code",
   "execution_count": 5,
   "metadata": {
    "id": "pmyfRQxy8f33",
    "pycharm": {
     "name": "#%%\n"
    },
    "scrolled": false
   },
   "outputs": [
    {
     "name": "stdout",
     "output_type": "stream",
     "text": [
      "WARNING:tensorflow:From C:\\Users\\kbine\\anaconda3\\envs\\stable2\\lib\\site-packages\\stable_baselines\\common\\tf_util.py:191: The name tf.ConfigProto is deprecated. Please use tf.compat.v1.ConfigProto instead.\n",
      "\n",
      "WARNING:tensorflow:From C:\\Users\\kbine\\anaconda3\\envs\\stable2\\lib\\site-packages\\stable_baselines\\common\\tf_util.py:200: The name tf.Session is deprecated. Please use tf.compat.v1.Session instead.\n",
      "\n",
      "WARNING:tensorflow:From C:\\Users\\kbine\\anaconda3\\envs\\stable2\\lib\\site-packages\\stable_baselines\\common\\policies.py:116: The name tf.variable_scope is deprecated. Please use tf.compat.v1.variable_scope instead.\n",
      "\n",
      "WARNING:tensorflow:From C:\\Users\\kbine\\anaconda3\\envs\\stable2\\lib\\site-packages\\stable_baselines\\common\\input.py:25: The name tf.placeholder is deprecated. Please use tf.compat.v1.placeholder instead.\n",
      "\n",
      "WARNING:tensorflow:From C:\\Users\\kbine\\anaconda3\\envs\\stable2\\lib\\site-packages\\stable_baselines\\common\\policies.py:442: flatten (from tensorflow.python.layers.core) is deprecated and will be removed in a future version.\n",
      "Instructions for updating:\n",
      "Use keras.layers.flatten instead.\n",
      "WARNING:tensorflow:From C:\\Users\\kbine\\anaconda3\\envs\\stable2\\lib\\site-packages\\stable_baselines\\common\\tf_layers.py:123: The name tf.get_variable is deprecated. Please use tf.compat.v1.get_variable instead.\n",
      "\n",
      "WARNING:tensorflow:From C:\\Users\\kbine\\anaconda3\\envs\\stable2\\lib\\site-packages\\stable_baselines\\a2c\\a2c.py:160: The name tf.summary.scalar is deprecated. Please use tf.compat.v1.summary.scalar instead.\n",
      "\n",
      "WARNING:tensorflow:From C:\\Users\\kbine\\anaconda3\\envs\\stable2\\lib\\site-packages\\tensorflow\\python\\ops\\clip_ops.py:286: add_dispatch_support.<locals>.wrapper (from tensorflow.python.ops.array_ops) is deprecated and will be removed in a future version.\n",
      "Instructions for updating:\n",
      "Use tf.where in 2.0, which has the same broadcast rule as np.where\n",
      "WARNING:tensorflow:From C:\\Users\\kbine\\anaconda3\\envs\\stable2\\lib\\site-packages\\stable_baselines\\a2c\\a2c.py:176: The name tf.summary.histogram is deprecated. Please use tf.compat.v1.summary.histogram instead.\n",
      "\n",
      "WARNING:tensorflow:From C:\\Users\\kbine\\anaconda3\\envs\\stable2\\lib\\site-packages\\stable_baselines\\a2c\\a2c.py:184: The name tf.train.RMSPropOptimizer is deprecated. Please use tf.compat.v1.train.RMSPropOptimizer instead.\n",
      "\n",
      "WARNING:tensorflow:From C:\\Users\\kbine\\anaconda3\\envs\\stable2\\lib\\site-packages\\tensorflow\\python\\training\\rmsprop.py:119: calling Ones.__init__ (from tensorflow.python.ops.init_ops) with dtype is deprecated and will be removed in a future version.\n",
      "Instructions for updating:\n",
      "Call initializer instance with the dtype argument instead of passing it to the constructor\n",
      "WARNING:tensorflow:From C:\\Users\\kbine\\anaconda3\\envs\\stable2\\lib\\site-packages\\stable_baselines\\a2c\\a2c.py:196: The name tf.summary.merge_all is deprecated. Please use tf.compat.v1.summary.merge_all instead.\n",
      "\n"
     ]
    }
   ],
   "source": [
    "#{'gamma': 0.9999, 'n_steps': 1, 'lr_schedule': 'constant', 'lr': 0.001, 'ent_coef': 0.1, 'vf_coef': 0, 'max_grad_norm': 5, 'n_lstm': 128, 'activation_fn': 'tanh', 'net_arch': 'medium'}.\n",
    "model_kwargs =   {\n",
    "    'gamma': 0.9999,\n",
    "    'n_steps': 1,\n",
    "    'lr_schedule': 'linear',\n",
    "    'learning_rate': 0.001,\n",
    "    'ent_coef': 0.1,\n",
    "    'vf_coef': 0,\n",
    "    'max_grad_norm': 5,\n",
    "    'full_tensorboard_log': True,\n",
    "    'policy_kwargs' : dict (\n",
    "        n_lstm=128,\n",
    "        act_fun=nn.tanh,\n",
    "        net_arch=[64, 'lstm', dict(pi=[256, 256], vf=[256, 256])]\n",
    "        )\n",
    "    }\n",
    "\n",
    "a2c_model = A2C(policy = MlpLnLstmPolicy, tensorboard_log=\"tensorboard\",env = venv, **model_kwargs)"
   ]
  },
  {
   "cell_type": "code",
   "execution_count": 6,
   "metadata": {
    "id": "rC1P65268f3-",
    "pycharm": {
     "name": "#%%\n"
    }
   },
   "outputs": [],
   "source": [
    "ts_factor = 40\n",
    "total_timesteps = ts_factor* (len(venv.venv.envs[0].data.date.unique()))"
   ]
  },
  {
   "cell_type": "code",
   "execution_count": 7,
   "metadata": {
    "pycharm": {
     "name": "#%%\n"
    }
   },
   "outputs": [
    {
     "name": "stdout",
     "output_type": "stream",
     "text": [
      "WARNING:tensorflow:From C:\\Users\\kbine\\anaconda3\\envs\\stable2\\lib\\site-packages\\stable_baselines\\common\\base_class.py:1169: The name tf.summary.FileWriter is deprecated. Please use tf.compat.v1.summary.FileWriter instead.\n",
      "\n",
      "day: 2516                 sharpe: 9.002                 index : 18.340                 excess mean: 0.433                 cum. rtns: 122.542                 portf val: 2,225,424.88\n",
      "day: 2516                 sharpe: 12.440                 index : 18.340                 excess mean: 1.825                 cum. rtns: 216.213                 portf val: 3,162,130.13\n",
      "day: 2516                 sharpe: 9.765                 index : 18.340                 excess mean: 0.767                 cum. rtns: 138.078                 portf val: 2,380,784.30\n",
      "day: 2516                 sharpe: 11.826                 index : 18.340                 excess mean: 1.245                 cum. rtns: 179.282                 portf val: 2,792,823.34\n",
      "day: 2516                 sharpe: 11.979                 index : 18.340                 excess mean: 1.105                 cum. rtns: 166.133                 portf val: 2,661,332.58\n",
      "day: 2516                 sharpe: 10.637                 index : 18.340                 excess mean: 1.078                 cum. rtns: 165.530                 portf val: 2,655,298.81\n",
      "day: 2516                 sharpe: 12.575                 index : 18.340                 excess mean: 1.681                 cum. rtns: 213.286                 portf val: 3,132,857.33\n",
      "day: 2516                 sharpe: 10.509                 index : 18.340                 excess mean: 0.898                 cum. rtns: 152.415                 portf val: 2,524,150.24\n",
      "day: 2516                 sharpe: 13.204                 index : 18.340                 excess mean: 1.825                 cum. rtns: 209.484                 portf val: 3,094,835.67\n",
      "day: 2516                 sharpe: 10.744                 index : 18.340                 excess mean: 1.663                 cum. rtns: 203.899                 portf val: 3,038,989.56\n",
      "day: 2516                 sharpe: 8.263                 index : 18.340                 excess mean: 0.577                 cum. rtns: 123.949                 portf val: 2,239,489.38\n",
      "day: 2516                 sharpe: 11.690                 index : 18.340                 excess mean: 1.575                 cum. rtns: 189.356                 portf val: 2,893,558.79\n",
      "day: 2516                 sharpe: 12.717                 index : 18.340                 excess mean: 1.967                 cum. rtns: 222.632                 portf val: 3,226,322.52\n",
      "day: 2516                 sharpe: 10.976                 index : 18.340                 excess mean: 1.286                 cum. rtns: 172.204                 portf val: 2,722,039.33\n",
      "day: 2516                 sharpe: 10.604                 index : 18.340                 excess mean: 1.595                 cum. rtns: 185.469                 portf val: 2,854,686.39\n",
      "day: 2516                 sharpe: 11.687                 index : 18.340                 excess mean: 0.971                 cum. rtns: 162.576                 portf val: 2,625,760.90\n",
      "day: 2516                 sharpe: 10.048                 index : 18.340                 excess mean: 0.908                 cum. rtns: 150.089                 portf val: 2,500,889.50\n",
      "day: 2516                 sharpe: 10.937                 index : 18.340                 excess mean: 1.290                 cum. rtns: 168.523                 portf val: 2,685,232.99\n",
      "day: 2516                 sharpe: 13.142                 index : 18.340                 excess mean: 1.322                 cum. rtns: 183.532                 portf val: 2,835,324.10\n",
      "day: 2516                 sharpe: 11.753                 index : 18.340                 excess mean: 1.279                 cum. rtns: 178.661                 portf val: 2,786,607.16\n",
      "day: 2516                 sharpe: 11.980                 index : 18.340                 excess mean: 1.701                 cum. rtns: 199.054                 portf val: 2,990,539.37\n",
      "day: 2516                 sharpe: 8.722                 index : 18.340                 excess mean: 0.186                 cum. rtns: 114.684                 portf val: 2,146,841.05\n",
      "day: 2516                 sharpe: 11.579                 index : 18.340                 excess mean: 1.310                 cum. rtns: 176.949                 portf val: 2,769,487.51\n",
      "day: 2516                 sharpe: 11.743                 index : 18.340                 excess mean: 2.063                 cum. rtns: 229.734                 portf val: 3,297,344.10\n",
      "day: 2516                 sharpe: 9.378                 index : 18.340                 excess mean: -0.186                 cum. rtns: 101.100                 portf val: 2,010,997.09\n",
      "day: 2516                 sharpe: 12.446                 index : 18.340                 excess mean: 1.112                 cum. rtns: 173.428                 portf val: 2,734,275.07\n",
      "day: 2516                 sharpe: 10.948                 index : 18.340                 excess mean: 1.585                 cum. rtns: 196.420                 portf val: 2,964,201.39\n",
      "day: 2516                 sharpe: 12.035                 index : 18.340                 excess mean: 1.775                 cum. rtns: 211.599                 portf val: 3,115,985.60\n",
      "day: 2516                 sharpe: 11.282                 index : 18.340                 excess mean: 1.565                 cum. rtns: 198.076                 portf val: 2,980,762.83\n",
      "day: 2516                 sharpe: 12.687                 index : 18.340                 excess mean: 1.526                 cum. rtns: 197.354                 portf val: 2,973,543.75\n",
      "day: 2516                 sharpe: 6.657                 index : 18.340                 excess mean: -0.095                 cum. rtns: 97.281                 portf val: 1,972,813.53\n",
      "day: 2516                 sharpe: 12.762                 index : 18.340                 excess mean: 1.783                 cum. rtns: 213.556                 portf val: 3,135,555.64\n",
      "day: 2516                 sharpe: 9.266                 index : 18.340                 excess mean: 0.091                 cum. rtns: 112.693                 portf val: 2,126,929.85\n",
      "day: 2516                 sharpe: 11.183                 index : 18.340                 excess mean: 1.495                 cum. rtns: 188.299                 portf val: 2,882,986.59\n",
      "day: 2516                 sharpe: 11.143                 index : 18.340                 excess mean: 1.587                 cum. rtns: 191.964                 portf val: 2,919,637.28\n",
      "day: 2516                 sharpe: 14.376                 index : 18.340                 excess mean: 1.820                 cum. rtns: 217.935                 portf val: 3,179,349.40\n",
      "day: 2516                 sharpe: 12.013                 index : 18.340                 excess mean: 1.228                 cum. rtns: 173.129                 portf val: 2,731,290.18\n",
      "day: 2516                 sharpe: 12.035                 index : 18.340                 excess mean: 1.467                 cum. rtns: 191.518                 portf val: 2,915,179.14\n",
      "day: 2516                 sharpe: 13.468                 index : 18.340                 excess mean: 1.573                 cum. rtns: 202.940                 portf val: 3,029,400.29\n",
      "day: 2516                 sharpe: 11.631                 index : 18.340                 excess mean: 1.767                 cum. rtns: 207.199                 portf val: 3,071,988.22\n"
     ]
    }
   ],
   "source": [
    "trained_a2c_model= a2c_model.learn(total_timesteps=total_timesteps,\n",
    "                                   tb_log_name='A2C_'+str(sample_size)+'_'+reward_fn+'_'+datetime.now().strftime(\"%H-%M\"))"
   ]
  },
  {
   "cell_type": "code",
   "execution_count": 8,
   "metadata": {
    "pycharm": {
     "name": "#%%\n"
    }
   },
   "outputs": [],
   "source": [
    "trained_a2c_model.save('ac2_mlplnltsm_'+str(sample_size)+'_'+str(ts_factor)+'_'+reward_fn+'.zip')"
   ]
  },
  {
   "cell_type": "code",
   "execution_count": 19,
   "metadata": {
    "pycharm": {
     "name": "#%%\n"
    }
   },
   "outputs": [],
   "source": [
    "eval_kwargs = {'filename':'sp500.csv',\n",
    "    'date_from':'2018-01-01',\n",
    "    'date_to':'2020-12-31',\n",
    "    'investment':1000000,\n",
    "    'risk_free_rate': 0.5, # approx US Treasury Note return\n",
    "    'sample_size':sample_size,\n",
    "    'random_sample':False,\n",
    "    'observations' : observations,\n",
    "    'save_info' : True,\n",
    "    #'report_point' : 252,\n",
    "    'reward_function':reward_fn}\n",
    "\n",
    "eval_env =  gym.make('PortfolioAllocation-v0', **eval_kwargs)"
   ]
  },
  {
   "cell_type": "code",
   "execution_count": 20,
   "metadata": {
    "pycharm": {
     "name": "#%%\n"
    }
   },
   "outputs": [],
   "source": [
    "eval_venv, obs = eval_env.get_sb_env()"
   ]
  },
  {
   "cell_type": "code",
   "execution_count": 21,
   "metadata": {
    "pycharm": {
     "name": "#%%\n"
    }
   },
   "outputs": [
    {
     "name": "stdout",
     "output_type": "stream",
     "text": [
      "day: 653                 sharpe: 2.113                 index : 64.277                 excess mean: 0.994                 cum. rtns: 30.603                 portf val: 1,306,031.22\n",
      "day: 653                 sharpe: 2.233                 index : 64.277                 excess mean: 1.277                 cum. rtns: 32.975                 portf val: 1,329,752.52\n",
      "day: 653                 sharpe: 2.105                 index : 64.277                 excess mean: 0.975                 cum. rtns: 30.393                 portf val: 1,303,926.48\n",
      "day: 653                 sharpe: 2.121                 index : 64.277                 excess mean: 1.014                 cum. rtns: 30.748                 portf val: 1,307,481.55\n",
      "day: 653                 sharpe: 2.303                 index : 64.277                 excess mean: 1.442                 cum. rtns: 34.484                 portf val: 1,344,841.85\n",
      "day: 653                 sharpe: 2.363                 index : 64.277                 excess mean: 1.584                 cum. rtns: 35.797                 portf val: 1,357,969.92\n",
      "day: 653                 sharpe: 2.406                 index : 64.277                 excess mean: 1.685                 cum. rtns: 36.690                 portf val: 1,366,904.62\n",
      "day: 653                 sharpe: 2.400                 index : 64.277                 excess mean: 1.671                 cum. rtns: 36.553                 portf val: 1,365,527.06\n",
      "day: 653                 sharpe: 2.392                 index : 64.277                 excess mean: 1.651                 cum. rtns: 36.372                 portf val: 1,363,722.47\n",
      "day: 653                 sharpe: 2.394                 index : 64.277                 excess mean: 1.656                 cum. rtns: 36.419                 portf val: 1,364,192.87\n",
      "mean_reward:5.83 +/- 1.77\n"
     ]
    }
   ],
   "source": [
    "# Random Agent, before training\n",
    "mean_reward, std_reward = evaluate_policy(a2c_model, eval_venv, n_eval_episodes=10)\n",
    "print(f\"mean_reward:{mean_reward:.2f} +/- {std_reward:.2f}\")"
   ]
  },
  {
   "cell_type": "code",
   "execution_count": 22,
   "metadata": {
    "pycharm": {
     "name": "#%%\n"
    }
   },
   "outputs": [
    {
     "name": "stdout",
     "output_type": "stream",
     "text": [
      "day: 653                 sharpe: 2.394                 index : 64.277                 excess mean: 1.657                 cum. rtns: 36.428                 portf val: 1,364,283.82\n",
      "day: 653                 sharpe: 2.395                 index : 64.277                 excess mean: 1.659                 cum. rtns: 36.447                 portf val: 1,364,469.36\n",
      "day: 653                 sharpe: 2.392                 index : 64.277                 excess mean: 1.651                 cum. rtns: 36.372                 portf val: 1,363,718.29\n",
      "day: 653                 sharpe: 2.385                 index : 64.277                 excess mean: 1.634                 cum. rtns: 36.227                 portf val: 1,362,271.62\n",
      "day: 653                 sharpe: 2.364                 index : 64.277                 excess mean: 1.586                 cum. rtns: 35.800                 portf val: 1,358,004.98\n",
      "day: 653                 sharpe: 2.358                 index : 64.277                 excess mean: 1.571                 cum. rtns: 35.670                 portf val: 1,356,704.41\n",
      "day: 653                 sharpe: 2.359                 index : 64.277                 excess mean: 1.574                 cum. rtns: 35.696                 portf val: 1,356,962.39\n",
      "day: 653                 sharpe: 2.364                 index : 64.277                 excess mean: 1.585                 cum. rtns: 35.795                 portf val: 1,357,951.55\n",
      "day: 653                 sharpe: 2.371                 index : 64.277                 excess mean: 1.603                 cum. rtns: 35.947                 portf val: 1,359,469.56\n",
      "day: 653                 sharpe: 2.378                 index : 64.277                 excess mean: 1.619                 cum. rtns: 36.094                 portf val: 1,360,944.13\n",
      "mean_reward:6.05 +/- 0.12\n"
     ]
    }
   ],
   "source": [
    "obs = eval_venv.reset()\n",
    "mean_reward, std_reward = evaluate_policy(trained_a2c_model, eval_venv, n_eval_episodes=10)\n",
    "print(f\"mean_reward:{mean_reward:.2f} +/- {std_reward:.2f}\")"
   ]
  }
 ],
 "metadata": {
  "accelerator": "GPU",
  "colab": {
   "collapsed_sections": [],
   "name": "Example.ipynb",
   "provenance": []
  },
  "kernelspec": {
   "display_name": "Python 3",
   "language": "python",
   "name": "python3"
  },
  "language_info": {
   "codemirror_mode": {
    "name": "ipython",
    "version": 3
   },
   "file_extension": ".py",
   "mimetype": "text/x-python",
   "name": "python",
   "nbconvert_exporter": "python",
   "pygments_lexer": "ipython3",
   "version": "3.8.5"
  }
 },
 "nbformat": 4,
 "nbformat_minor": 1
}