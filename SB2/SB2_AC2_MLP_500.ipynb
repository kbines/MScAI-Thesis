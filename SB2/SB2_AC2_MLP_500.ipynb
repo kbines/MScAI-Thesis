{
 "cells": [
  {
   "cell_type": "code",
   "execution_count": 1,
   "metadata": {
    "executionInfo": {
     "elapsed": 523,
     "status": "ok",
     "timestamp": 1628675770654,
     "user": {
      "displayName": "Keith Bines",
      "photoUrl": "https://lh3.googleusercontent.com/a-/AOh14Gh-1rHYFN7Yxp7RK0dmcaDIhb3bISQHVPcOLlyYAA=s64",
      "userId": "04847342589282886972"
     },
     "user_tz": -60
    },
    "id": "UMwfnZQ48f3n"
   },
   "outputs": [],
   "source": [
    "import warnings\n",
    "warnings.filterwarnings(action='ignore',\n",
    "                        category=DeprecationWarning,\n",
    "                        module='stable_baselines')\n",
    "warnings.filterwarnings(action='ignore',\n",
    "                        category=UserWarning,\n",
    "                        module='stable_baselines')\n",
    "warnings.filterwarnings(\"ignore\", category=FutureWarning, module='tensorflow')\n",
    "warnings.filterwarnings(\"ignore\", category=FutureWarning, module='tensorboard')\n",
    "warnings.filterwarnings(\"ignore\", category=UserWarning, module='gym')\n",
    "\n",
    "import gym\n",
    "import PortfolioAllocationGym\n",
    "import numpy as np\n",
    "from stable_baselines import A2C\n",
    "from stable_baselines.common.policies import MlpLnLstmPolicy #, MlpPolicy, MlpLstmPolicy\n",
    "from stable_baselines.common.evaluation import evaluate_policy\n",
    "from stable_baselines.common.env_checker import check_env\n",
    "from stable_baselines.bench import Monitor\n",
    "from tensorflow import nn as nn\n",
    "\n",
    "import pandas as pd\n",
    "pd.options.mode.chained_assignment = None  # default='warn'\n",
    "\n",
    "from datetime import datetime"
   ]
  },
  {
   "cell_type": "code",
   "execution_count": 2,
   "metadata": {
    "executionInfo": {
     "elapsed": 9939,
     "status": "ok",
     "timestamp": 1628675850134,
     "user": {
      "displayName": "Keith Bines",
      "photoUrl": "https://lh3.googleusercontent.com/a-/AOh14Gh-1rHYFN7Yxp7RK0dmcaDIhb3bISQHVPcOLlyYAA=s64",
      "userId": "04847342589282886972"
     },
     "user_tz": -60
    },
    "id": "Au1mKD618f3w",
    "pycharm": {
     "name": "#%%\n"
    }
   },
   "outputs": [],
   "source": [
    "reward_fn = 'benchmark'\n",
    "sample_size=500\n",
    "observations = ['daily_returns', 'ema_50', 'ema_200', 'bb_bbm', 'bb_bbh', 'bb_bbl','bb_bbhi', 'bb_bbli', 'stoch', 'stoch_signal', 'macd','macd_signal', 'obv']\n",
    "env_kwargs = {'filename':'sp500.csv',\n",
    "    'date_from':'2008-01-01',\n",
    "    'date_to':'2017-12-31',\n",
    "    'investment':1000000,\n",
    "    'risk_free_rate': 0.5, # approx US Treasury Note return\n",
    "    'sample_size':sample_size,\n",
    "    'random_sample':True,\n",
    "    'observations' : observations,\n",
    "    'save_info' : True,\n",
    "    #'report_point' : 252,\n",
    "    'reward_function':reward_fn}\n",
    "\n",
    "train_env = gym.make('PortfolioAllocation-v0', **env_kwargs)\n",
    "train_env = Monitor(train_env, 'monitor')"
   ]
  },
  {
   "cell_type": "code",
   "execution_count": 3,
   "metadata": {
    "pycharm": {
     "name": "#%%\n"
    }
   },
   "outputs": [],
   "source": [
    "check_env(train_env)"
   ]
  },
  {
   "cell_type": "code",
   "execution_count": 4,
   "metadata": {
    "pycharm": {
     "name": "#%%\n"
    }
   },
   "outputs": [],
   "source": [
    "venv, obs = train_env.get_sb_env()"
   ]
  },
  {
   "cell_type": "code",
   "execution_count": 5,
   "metadata": {
    "id": "pmyfRQxy8f33",
    "pycharm": {
     "name": "#%%\n"
    },
    "scrolled": false
   },
   "outputs": [
    {
     "name": "stdout",
     "output_type": "stream",
     "text": [
      "WARNING:tensorflow:From C:\\Users\\kbine\\anaconda3\\envs\\stable2\\lib\\site-packages\\stable_baselines\\common\\tf_util.py:191: The name tf.ConfigProto is deprecated. Please use tf.compat.v1.ConfigProto instead.\n",
      "\n",
      "WARNING:tensorflow:From C:\\Users\\kbine\\anaconda3\\envs\\stable2\\lib\\site-packages\\stable_baselines\\common\\tf_util.py:200: The name tf.Session is deprecated. Please use tf.compat.v1.Session instead.\n",
      "\n",
      "WARNING:tensorflow:From C:\\Users\\kbine\\anaconda3\\envs\\stable2\\lib\\site-packages\\stable_baselines\\common\\policies.py:116: The name tf.variable_scope is deprecated. Please use tf.compat.v1.variable_scope instead.\n",
      "\n",
      "WARNING:tensorflow:From C:\\Users\\kbine\\anaconda3\\envs\\stable2\\lib\\site-packages\\stable_baselines\\common\\input.py:25: The name tf.placeholder is deprecated. Please use tf.compat.v1.placeholder instead.\n",
      "\n",
      "WARNING:tensorflow:From C:\\Users\\kbine\\anaconda3\\envs\\stable2\\lib\\site-packages\\stable_baselines\\common\\policies.py:442: flatten (from tensorflow.python.layers.core) is deprecated and will be removed in a future version.\n",
      "Instructions for updating:\n",
      "Use keras.layers.flatten instead.\n",
      "WARNING:tensorflow:From C:\\Users\\kbine\\anaconda3\\envs\\stable2\\lib\\site-packages\\stable_baselines\\common\\tf_layers.py:123: The name tf.get_variable is deprecated. Please use tf.compat.v1.get_variable instead.\n",
      "\n",
      "WARNING:tensorflow:From C:\\Users\\kbine\\anaconda3\\envs\\stable2\\lib\\site-packages\\stable_baselines\\a2c\\a2c.py:160: The name tf.summary.scalar is deprecated. Please use tf.compat.v1.summary.scalar instead.\n",
      "\n",
      "WARNING:tensorflow:From C:\\Users\\kbine\\anaconda3\\envs\\stable2\\lib\\site-packages\\tensorflow\\python\\ops\\clip_ops.py:286: add_dispatch_support.<locals>.wrapper (from tensorflow.python.ops.array_ops) is deprecated and will be removed in a future version.\n",
      "Instructions for updating:\n",
      "Use tf.where in 2.0, which has the same broadcast rule as np.where\n",
      "WARNING:tensorflow:From C:\\Users\\kbine\\anaconda3\\envs\\stable2\\lib\\site-packages\\stable_baselines\\a2c\\a2c.py:176: The name tf.summary.histogram is deprecated. Please use tf.compat.v1.summary.histogram instead.\n",
      "\n",
      "WARNING:tensorflow:From C:\\Users\\kbine\\anaconda3\\envs\\stable2\\lib\\site-packages\\stable_baselines\\a2c\\a2c.py:184: The name tf.train.RMSPropOptimizer is deprecated. Please use tf.compat.v1.train.RMSPropOptimizer instead.\n",
      "\n",
      "WARNING:tensorflow:From C:\\Users\\kbine\\anaconda3\\envs\\stable2\\lib\\site-packages\\tensorflow\\python\\training\\rmsprop.py:119: calling Ones.__init__ (from tensorflow.python.ops.init_ops) with dtype is deprecated and will be removed in a future version.\n",
      "Instructions for updating:\n",
      "Call initializer instance with the dtype argument instead of passing it to the constructor\n",
      "WARNING:tensorflow:From C:\\Users\\kbine\\anaconda3\\envs\\stable2\\lib\\site-packages\\stable_baselines\\a2c\\a2c.py:196: The name tf.summary.merge_all is deprecated. Please use tf.compat.v1.summary.merge_all instead.\n",
      "\n"
     ]
    }
   ],
   "source": [
    "#{'gamma': 0.9999, 'n_steps': 1, 'lr_schedule': 'constant', 'lr': 0.001, 'ent_coef': 0.1, 'vf_coef': 0, 'max_grad_norm': 5, 'n_lstm': 128, 'activation_fn': 'tanh', 'net_arch': 'medium'}.\n",
    "model_kwargs =   {\n",
    "    'gamma': 0.9999,\n",
    "    'n_steps': 1,\n",
    "    'lr_schedule': 'linear',\n",
    "    'learning_rate': 0.001,\n",
    "    'ent_coef': 0.1,\n",
    "    'vf_coef': 0,\n",
    "    'max_grad_norm': 5,\n",
    "    'full_tensorboard_log': True,\n",
    "    'policy_kwargs' : dict (\n",
    "        n_lstm=128,\n",
    "        act_fun=nn.tanh,\n",
    "        net_arch=[64, 'lstm', dict(pi=[256, 256], vf=[256, 256])]\n",
    "        )\n",
    "    }\n",
    "\n",
    "a2c_model = A2C(policy = MlpLnLstmPolicy, tensorboard_log=\"tensorboard\",env = venv, **model_kwargs)"
   ]
  },
  {
   "cell_type": "code",
   "execution_count": 6,
   "metadata": {
    "id": "rC1P65268f3-",
    "pycharm": {
     "name": "#%%\n"
    }
   },
   "outputs": [],
   "source": [
    "ts_factor = 40\n",
    "total_timesteps = ts_factor* (len(venv.venv.envs[0].data.date.unique()))"
   ]
  },
  {
   "cell_type": "code",
   "execution_count": 7,
   "metadata": {
    "pycharm": {
     "name": "#%%\n"
    }
   },
   "outputs": [
    {
     "name": "stdout",
     "output_type": "stream",
     "text": [
      "WARNING:tensorflow:From C:\\Users\\kbine\\anaconda3\\envs\\stable2\\lib\\site-packages\\stable_baselines\\common\\base_class.py:1169: The name tf.summary.FileWriter is deprecated. Please use tf.compat.v1.summary.FileWriter instead.\n",
      "\n",
      "day: 2516                 sharpe: 11.701                 index : 18.340                 excess mean: 1.442                 cum. rtns: 187.913                 portf val: 2,879,132.36\n",
      "day: 2516                 sharpe: 10.747                 index : 18.340                 excess mean: 0.795                 cum. rtns: 147.935                 portf val: 2,479,348.30\n",
      "day: 2516                 sharpe: 12.077                 index : 18.340                 excess mean: 1.063                 cum. rtns: 162.795                 portf val: 2,627,954.22\n",
      "day: 2516                 sharpe: 12.165                 index : 18.340                 excess mean: 1.058                 cum. rtns: 163.439                 portf val: 2,634,390.72\n",
      "day: 2516                 sharpe: 10.976                 index : 18.340                 excess mean: 1.204                 cum. rtns: 168.571                 portf val: 2,685,705.84\n",
      "day: 2516                 sharpe: 12.632                 index : 18.340                 excess mean: 1.414                 cum. rtns: 185.525                 portf val: 2,855,248.65\n",
      "day: 2516                 sharpe: 12.425                 index : 18.340                 excess mean: 1.226                 cum. rtns: 173.267                 portf val: 2,732,673.28\n",
      "day: 2516                 sharpe: 11.818                 index : 18.340                 excess mean: 1.051                 cum. rtns: 163.165                 portf val: 2,631,651.93\n",
      "day: 2516                 sharpe: 11.957                 index : 18.340                 excess mean: 1.187                 cum. rtns: 168.939                 portf val: 2,689,391.37\n",
      "day: 2516                 sharpe: 11.723                 index : 18.340                 excess mean: 1.124                 cum. rtns: 167.634                 portf val: 2,676,342.08\n",
      "day: 2516                 sharpe: 12.401                 index : 18.340                 excess mean: 1.363                 cum. rtns: 180.515                 portf val: 2,805,151.41\n",
      "day: 2516                 sharpe: 11.556                 index : 18.340                 excess mean: 1.132                 cum. rtns: 166.103                 portf val: 2,661,033.23\n",
      "day: 2516                 sharpe: 13.303                 index : 18.340                 excess mean: 1.656                 cum. rtns: 202.144                 portf val: 3,021,435.09\n",
      "day: 2516                 sharpe: 11.511                 index : 18.340                 excess mean: 1.134                 cum. rtns: 167.498                 portf val: 2,674,979.11\n",
      "day: 2516                 sharpe: 12.041                 index : 18.340                 excess mean: 1.101                 cum. rtns: 165.824                 portf val: 2,658,236.53\n",
      "day: 2516                 sharpe: 12.425                 index : 18.340                 excess mean: 1.346                 cum. rtns: 182.740                 portf val: 2,827,400.20\n",
      "day: 2516                 sharpe: 12.073                 index : 18.340                 excess mean: 1.080                 cum. rtns: 164.037                 portf val: 2,640,372.59\n",
      "day: 2516                 sharpe: 11.559                 index : 18.340                 excess mean: 1.104                 cum. rtns: 164.638                 portf val: 2,646,379.24\n",
      "day: 2516                 sharpe: 12.992                 index : 18.340                 excess mean: 1.436                 cum. rtns: 189.163                 portf val: 2,891,628.50\n",
      "day: 2516                 sharpe: 11.450                 index : 18.340                 excess mean: 1.034                 cum. rtns: 159.802                 portf val: 2,598,021.64\n",
      "day: 2516                 sharpe: 10.621                 index : 18.340                 excess mean: 0.722                 cum. rtns: 142.074                 portf val: 2,420,737.19\n",
      "day: 2516                 sharpe: 12.361                 index : 18.340                 excess mean: 1.378                 cum. rtns: 182.670                 portf val: 2,826,698.29\n",
      "day: 2516                 sharpe: 11.638                 index : 18.340                 excess mean: 1.091                 cum. rtns: 163.351                 portf val: 2,633,512.66\n",
      "day: 2516                 sharpe: 11.931                 index : 18.340                 excess mean: 1.307                 cum. rtns: 177.840                 portf val: 2,778,399.67\n",
      "day: 2516                 sharpe: 12.133                 index : 18.340                 excess mean: 1.041                 cum. rtns: 162.883                 portf val: 2,628,831.99\n",
      "day: 2516                 sharpe: 11.692                 index : 18.340                 excess mean: 0.983                 cum. rtns: 159.281                 portf val: 2,592,814.20\n",
      "day: 2516                 sharpe: 12.285                 index : 18.340                 excess mean: 1.388                 cum. rtns: 182.219                 portf val: 2,822,193.36\n",
      "day: 2516                 sharpe: 11.853                 index : 18.340                 excess mean: 1.186                 cum. rtns: 170.128                 portf val: 2,701,284.87\n",
      "day: 2516                 sharpe: 11.119                 index : 18.340                 excess mean: 0.883                 cum. rtns: 151.155                 portf val: 2,511,549.67\n",
      "day: 2516                 sharpe: 12.332                 index : 18.340                 excess mean: 1.187                 cum. rtns: 170.886                 portf val: 2,708,856.04\n",
      "day: 2516                 sharpe: 12.848                 index : 18.340                 excess mean: 1.515                 cum. rtns: 192.363                 portf val: 2,923,625.90\n",
      "day: 2516                 sharpe: 12.101                 index : 18.340                 excess mean: 1.136                 cum. rtns: 168.507                 portf val: 2,685,070.20\n",
      "day: 2516                 sharpe: 11.456                 index : 18.340                 excess mean: 1.157                 cum. rtns: 167.998                 portf val: 2,679,975.96\n",
      "day: 2516                 sharpe: 10.835                 index : 18.340                 excess mean: 0.984                 cum. rtns: 156.317                 portf val: 2,563,173.24\n",
      "day: 2516                 sharpe: 11.502                 index : 18.340                 excess mean: 1.087                 cum. rtns: 163.458                 portf val: 2,634,578.22\n",
      "day: 2516                 sharpe: 11.619                 index : 18.340                 excess mean: 1.128                 cum. rtns: 168.163                 portf val: 2,681,627.12\n",
      "day: 2516                 sharpe: 12.402                 index : 18.340                 excess mean: 1.314                 cum. rtns: 179.797                 portf val: 2,797,974.51\n",
      "day: 2516                 sharpe: 10.870                 index : 18.340                 excess mean: 0.800                 cum. rtns: 147.043                 portf val: 2,470,427.38\n",
      "day: 2516                 sharpe: 11.600                 index : 18.340                 excess mean: 1.183                 cum. rtns: 170.949                 portf val: 2,709,490.22\n",
      "day: 2516                 sharpe: 11.367                 index : 18.340                 excess mean: 1.099                 cum. rtns: 162.245                 portf val: 2,622,453.59\n"
     ]
    }
   ],
   "source": [
    "trained_a2c_model= a2c_model.learn(total_timesteps=total_timesteps,\n",
    "                                   tb_log_name='A2C_'+str(sample_size)+'_'+reward_fn+'_'+datetime.now().strftime(\"%H-%M\"))"
   ]
  },
  {
   "cell_type": "code",
   "execution_count": 8,
   "metadata": {
    "pycharm": {
     "name": "#%%\n"
    }
   },
   "outputs": [],
   "source": [
    "trained_a2c_model.save('ac2_mlplnltsm_'+str(sample_size)+'_'+str(ts_factor)+'_'+reward_fn+'.zip')"
   ]
  },
  {
   "cell_type": "code",
   "execution_count": 9,
   "metadata": {
    "pycharm": {
     "name": "#%%\n"
    }
   },
   "outputs": [],
   "source": [
    "eval_kwargs = {'filename':'sp500.csv',\n",
    "    'date_from':'2018-01-01',\n",
    "    'date_to':'2020-12-31',\n",
    "    'investment':1000000,\n",
    "    'risk_free_rate': 0.5, # approx US Treasury Note return\n",
    "    'sample_size':sample_size,\n",
    "    'random_sample':False,\n",
    "    'observations' : observations,\n",
    "    'save_info' : True,\n",
    "    #'report_point' : 252,\n",
    "    'reward_function':reward_fn}\n",
    "\n",
    "eval_env =  gym.make('PortfolioAllocation-v0', **eval_kwargs)"
   ]
  },
  {
   "cell_type": "code",
   "execution_count": 10,
   "metadata": {
    "pycharm": {
     "name": "#%%\n"
    }
   },
   "outputs": [],
   "source": [
    "eval_venv, obs = eval_env.get_sb_env()"
   ]
  },
  {
   "cell_type": "code",
   "execution_count": 11,
   "metadata": {
    "pycharm": {
     "name": "#%%\n"
    }
   },
   "outputs": [
    {
     "name": "stdout",
     "output_type": "stream",
     "text": [
      "day: 653                 sharpe: 1.174                 index : 64.277                 excess mean: -1.355                 cum. rtns: 13.391                 portf val: 1,133,907.09\n",
      "day: 653                 sharpe: 1.146                 index : 64.277                 excess mean: -1.412                 cum. rtns: 12.926                 portf val: 1,129,257.38\n",
      "day: 653                 sharpe: 1.161                 index : 64.277                 excess mean: -1.378                 cum. rtns: 13.171                 portf val: 1,131,709.46\n",
      "day: 653                 sharpe: 1.139                 index : 64.277                 excess mean: -1.426                 cum. rtns: 12.807                 portf val: 1,128,071.74\n",
      "day: 653                 sharpe: 1.126                 index : 64.277                 excess mean: -1.453                 cum. rtns: 12.607                 portf val: 1,126,067.72\n",
      "day: 653                 sharpe: 1.136                 index : 64.277                 excess mean: -1.431                 cum. rtns: 12.769                 portf val: 1,127,694.30\n",
      "day: 653                 sharpe: 1.161                 index : 64.277                 excess mean: -1.376                 cum. rtns: 13.174                 portf val: 1,131,743.85\n",
      "day: 653                 sharpe: 1.171                 index : 64.277                 excess mean: -1.353                 cum. rtns: 13.347                 portf val: 1,133,467.68\n",
      "day: 653                 sharpe: 1.177                 index : 64.277                 excess mean: -1.340                 cum. rtns: 13.441                 portf val: 1,134,405.27\n",
      "day: 653                 sharpe: 1.181                 index : 64.277                 excess mean: -1.330                 cum. rtns: 13.509                 portf val: 1,135,091.48\n",
      "mean_reward:-6.15 +/- 2.21\n"
     ]
    }
   ],
   "source": [
    "# Random Agent, before training\n",
    "mean_reward, std_reward = evaluate_policy(a2c_model, eval_venv, n_eval_episodes=10)\n",
    "print(f\"mean_reward:{mean_reward:.2f} +/- {std_reward:.2f}\")"
   ]
  },
  {
   "cell_type": "code",
   "execution_count": 12,
   "metadata": {
    "pycharm": {
     "name": "#%%\n"
    }
   },
   "outputs": [
    {
     "name": "stdout",
     "output_type": "stream",
     "text": [
      "day: 653                 sharpe: 1.183                 index : 64.277                 excess mean: -1.324                 cum. rtns: 13.556                 portf val: 1,135,563.34\n",
      "day: 653                 sharpe: 1.186                 index : 64.277                 excess mean: -1.319                 cum. rtns: 13.597                 portf val: 1,135,969.46\n",
      "day: 653                 sharpe: 1.188                 index : 64.277                 excess mean: -1.313                 cum. rtns: 13.637                 portf val: 1,136,365.90\n",
      "day: 653                 sharpe: 1.190                 index : 64.277                 excess mean: -1.309                 cum. rtns: 13.665                 portf val: 1,136,648.69\n",
      "day: 653                 sharpe: 1.192                 index : 64.277                 excess mean: -1.305                 cum. rtns: 13.700                 portf val: 1,137,000.42\n",
      "day: 653                 sharpe: 1.194                 index : 64.277                 excess mean: -1.299                 cum. rtns: 13.739                 portf val: 1,137,393.44\n",
      "day: 653                 sharpe: 1.197                 index : 64.277                 excess mean: -1.293                 cum. rtns: 13.787                 portf val: 1,137,874.14\n",
      "day: 653                 sharpe: 1.200                 index : 64.277                 excess mean: -1.286                 cum. rtns: 13.840                 portf val: 1,138,398.80\n",
      "day: 653                 sharpe: 1.203                 index : 64.277                 excess mean: -1.279                 cum. rtns: 13.888                 portf val: 1,138,879.79\n",
      "day: 653                 sharpe: 1.205                 index : 64.277                 excess mean: -1.275                 cum. rtns: 13.919                 portf val: 1,139,194.06\n",
      "mean_reward:-4.89 +/- 0.07\n"
     ]
    }
   ],
   "source": [
    "obs = eval_venv.reset()\n",
    "mean_reward, std_reward = evaluate_policy(trained_a2c_model, eval_venv, n_eval_episodes=10)\n",
    "print(f\"mean_reward:{mean_reward:.2f} +/- {std_reward:.2f}\")"
   ]
  }
 ],
 "metadata": {
  "accelerator": "GPU",
  "colab": {
   "collapsed_sections": [],
   "name": "Example.ipynb",
   "provenance": []
  },
  "kernelspec": {
   "display_name": "Python 3",
   "language": "python",
   "name": "python3"
  },
  "language_info": {
   "codemirror_mode": {
    "name": "ipython",
    "version": 3
   },
   "file_extension": ".py",
   "mimetype": "text/x-python",
   "name": "python",
   "nbconvert_exporter": "python",
   "pygments_lexer": "ipython3",
   "version": "3.8.5"
  }
 },
 "nbformat": 4,
 "nbformat_minor": 1
}