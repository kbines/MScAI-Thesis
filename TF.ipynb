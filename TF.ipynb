{
  "cells": [
    {
      "cell_type": "code",
      "execution_count": 10,
      "source": [
        "from tensorforce.environments import Environment\n",
        "from tensorforce.agents import Agent\n",
        "from tensorforce.execution import Runner\n",
        "import pandas as pd\n",
        "pd.options.mode.chained_assignment = None  # default='warn'\n"
      ],
      "outputs": [],
      "metadata": {
        "collapsed": false,
        "jupyter": {
          "outputs_hidden": false
        },
        "pycharm": {
          "name": "#%%\n"
        },
        "gather": {
          "logged": 1629632368450
        }
      }
    },
    {
      "cell_type": "code",
      "execution_count": 11,
      "source": [
        "train_env_kwargs = {'filename':'sp500.csv',\n",
        "    'date_from':'2008-01-01',\n",
        "    'date_to':'2017-12-31',\n",
        "    'investment':1000000,\n",
        "    'risk_free_rate': 0.5, # approx US Treasury Note return\n",
        "    'sample_size':100,\n",
        "    #'report_point':252,\n",
        "    'random_sample':True,\n",
        "    'reward_function':'portfolio_value'}\n",
        "\n",
        "train_portfolio = Environment.create(\n",
        "    environment='PortfolioTF',\n",
        "    **train_env_kwargs\n",
        ")\n",
        "_ = train_portfolio.reset()\n",
        "total_timesteps = 1 * (len(train_portfolio._environment.data.date.unique())-1)\n"
      ],
      "outputs": [],
      "metadata": {
        "collapsed": false,
        "jupyter": {
          "outputs_hidden": false
        },
        "pycharm": {
          "name": "#%%\n"
        },
        "gather": {
          "logged": 1629632371600
        }
      }
    },
    {
      "cell_type": "code",
      "execution_count": 12,
      "source": [
        "total_timesteps = 10 * (len(train_portfolio._environment.data.date.unique())-1)\n",
        "a2cagent = Agent.create(\n",
        "    agent='a2c',\n",
        "    environment=train_portfolio,\n",
        "    max_episode_timesteps=total_timesteps,\n",
        "    network=dict(type='auto',\n",
        "                 rnn=10  ),\n",
        "    critic_optimizer=dict(optimizer='adam'),\n",
        "    batch_size=5\n",
        ")"
      ],
      "outputs": [
        {
          "output_type": "stream",
          "name": "stderr",
          "text": [
            "WARNING:root:No min_value bound specified for state.\n"
          ]
        }
      ],
      "metadata": {
        "collapsed": false,
        "jupyter": {
          "outputs_hidden": false
        },
        "pycharm": {
          "name": "#%%\n"
        },
        "gather": {
          "logged": 1629560835058
        }
      }
    },
    {
      "cell_type": "code",
      "execution_count": 13,
      "source": [
        "a2crunner = Runner(\n",
        "    agent=a2cagent,\n",
        "    environment=train_portfolio\n",
        ")"
      ],
      "outputs": [],
      "metadata": {
        "collapsed": false,
        "jupyter": {
          "outputs_hidden": false
        },
        "pycharm": {
          "name": "#%%\n"
        },
        "gather": {
          "logged": 1629560838509
        }
      }
    },
    {
      "cell_type": "code",
      "execution_count": 14,
      "source": [
        "print(a2crunner.agent.get_architecture())"
      ],
      "outputs": [
        {
          "output_type": "stream",
          "name": "stdout",
          "text": [
            "Policy:\n",
            "    Network:  \n",
            "        Conv2d(name=conv2d0, size=64, window=3, padding=same, bias=True, activation=relu)\n",
            "        Conv2d(name=conv2d1, size=64, window=3, padding=same, bias=True, activation=relu)\n",
            "        Pooling(name=pooling, reduction=max)\n",
            "        Lstm(name=lstm, cell=lstm, size=64, horizon=10, bias=False)\n",
            "    Action-distribution:\n",
            "        Mean:  Linear(name=mean, size=100, bias=True, initialization_scale=0.01)\n",
            "        Stddev:  Linear(name=stddev, size=100, bias=True, initialization_scale=0.01)\n",
            "Baseline:\n",
            "    Network:  \n",
            "        Conv2d(name=conv2d0, size=64, window=3, padding=same, bias=True, activation=relu)\n",
            "        Conv2d(name=conv2d1, size=64, window=3, padding=same, bias=True, activation=relu)\n",
            "        Pooling(name=pooling, reduction=max)\n",
            "    State-value:  Linear(name=value, size=0, bias=True)\n"
          ]
        }
      ],
      "metadata": {
        "collapsed": false,
        "jupyter": {
          "outputs_hidden": false
        },
        "pycharm": {
          "name": "#%%\n"
        },
        "gather": {
          "logged": 1629560844062
        }
      }
    },
    {
      "cell_type": "code",
      "execution_count": 16,
      "source": [
        "a2crunner.agent.get_specification()"
      ],
      "outputs": [
        {
          "output_type": "execute_result",
          "data": {
            "text/plain": [
              "{'agent': 'a2c',\n",
              " 'states': {'type': 'float', 'shape': (100, 1, 13)},\n",
              " 'actions': {'type': 'float', 'shape': (100,), 'min_value': 0, 'max_value': 1},\n",
              " 'batch_size': 5,\n",
              " 'max_episode_timesteps': 25170,\n",
              " 'network': {'type': 'auto', 'rnn': 10},\n",
              " 'use_beta_distribution': False,\n",
              " 'memory': 'minimum',\n",
              " 'update_frequency': 1.0,\n",
              " 'learning_rate': 0.001,\n",
              " 'horizon': 1,\n",
              " 'discount': 0.99,\n",
              " 'return_processing': None,\n",
              " 'advantage_processing': None,\n",
              " 'predict_terminal_values': False,\n",
              " 'critic': 'auto',\n",
              " 'critic_optimizer': {'optimizer': 'adam'},\n",
              " 'state_preprocessing': 'linear_normalization',\n",
              " 'reward_preprocessing': None,\n",
              " 'exploration': 0.0,\n",
              " 'variable_noise': 0.0,\n",
              " 'l2_regularization': 0.0,\n",
              " 'entropy_regularization': 0.0,\n",
              " 'parallel_interactions': 1,\n",
              " 'config': None,\n",
              " 'saver': None,\n",
              " 'summarizer': None,\n",
              " 'tracking': None,\n",
              " 'recorder': None}"
            ]
          },
          "metadata": {},
          "execution_count": 16
        }
      ],
      "metadata": {
        "collapsed": false,
        "jupyter": {
          "outputs_hidden": false
        },
        "pycharm": {
          "name": "#%%\n"
        },
        "gather": {
          "logged": 1629560854689
        }
      }
    },
    {
      "cell_type": "code",
      "execution_count": 17,
      "source": [
        "a2crunner.run(num_episodes=10)"
      ],
      "outputs": [
        {
          "output_type": "display_data",
          "data": {
            "text/plain": [
              "Episodes:   0%|          | 0/10 [00:00, return=0.00, ts/ep=0, sec/ep=0.00, ms/ts=0.0, agent=0.0%]"
            ],
            "application/vnd.jupyter.widget-view+json": {
              "version_major": 2,
              "version_minor": 0,
              "model_id": "a1c398f97c2a4d9ca2f34aec8ebb2650"
            }
          },
          "metadata": {}
        },
        {
          "output_type": "stream",
          "name": "stderr",
          "text": [
            "/anaconda/envs/azureml_py38_tensorflow/lib/python3.8/site-packages/tensorflow/python/framework/indexed_slices.py:447: UserWarning: Converting sparse IndexedSlices(IndexedSlices(indices=Tensor(\"gradients/lstm/GatherV2_grad/Reshape_1:0\", shape=(None,), dtype=int64), values=Tensor(\"gradients/lstm/GatherV2_grad/Reshape:0\", shape=(None, 64), dtype=float32), dense_shape=Tensor(\"gradients/lstm/GatherV2_grad/Cast:0\", shape=(2,), dtype=int32))) to a dense Tensor of unknown shape. This may consume a large amount of memory.\n",
            "  warnings.warn(\n"
          ]
        },
        {
          "output_type": "stream",
          "name": "stdout",
          "text": [
            "day: 2516                 reward: 2435212.329                 sharpe: 0.313                  cum. rtns: 143.521                 portf val: 2,435,212.33\n",
            "day: 2516                 reward: 2463270.868                 sharpe: 0.272                  cum. rtns: 146.327                 portf val: 2,463,270.87\n",
            "day: 2516                 reward: 2576439.598                 sharpe: 0.432                  cum. rtns: 157.644                 portf val: 2,576,439.60\n",
            "day: 2516                 reward: 2200693.001                 sharpe: 0.342                  cum. rtns: 120.069                 portf val: 2,200,693.00\n",
            "day: 2516                 reward: 3125848.207                 sharpe: 0.441                  cum. rtns: 212.585                 portf val: 3,125,848.21\n",
            "day: 2516                 reward: 2502562.767                 sharpe: 0.399                  cum. rtns: 150.256                 portf val: 2,502,562.77\n",
            "day: 2516                 reward: 2992904.410                 sharpe: 0.417                  cum. rtns: 199.290                 portf val: 2,992,904.41\n",
            "day: 2516                 reward: 2952145.039                 sharpe: 0.341                  cum. rtns: 195.215                 portf val: 2,952,145.04\n",
            "day: 2516                 reward: 2589988.414                 sharpe: 0.257                  cum. rtns: 158.999                 portf val: 2,589,988.41\n",
            "day: 2516                 reward: 2378844.984                 sharpe: 0.496                  cum. rtns: 137.884                 portf val: 2,378,844.98\n"
          ]
        }
      ],
      "metadata": {
        "collapsed": false,
        "jupyter": {
          "outputs_hidden": false
        },
        "pycharm": {
          "name": "#%%\n"
        },
        "gather": {
          "logged": 1629564571053
        }
      }
    },
    {
      "cell_type": "code",
      "execution_count": 19,
      "source": [
        "a2crunner.run(num_episodes=10, evaluation=True, save_best_agent=('model'))\n",
        "\n",
        "##%"
      ],
      "outputs": [
        {
          "output_type": "display_data",
          "data": {
            "text/plain": [
              "Episodes:   0%|          | 0/10 [00:00, return=0.00, ts/ep=0, sec/ep=0.00, ms/ts=0.0, agent=0.0%]"
            ],
            "application/vnd.jupyter.widget-view+json": {
              "version_major": 2,
              "version_minor": 0,
              "model_id": "150dc70c086340ef985d221762c3d2ce"
            }
          },
          "metadata": {}
        },
        {
          "output_type": "stream",
          "name": "stderr",
          "text": [
            "/anaconda/envs/azureml_py38_tensorflow/lib/python3.8/site-packages/pandas/core/generic.py:6383: SettingWithCopyWarning: \n",
            "A value is trying to be set on a copy of a slice from a DataFrame\n",
            "\n",
            "See the caveats in the documentation: https://pandas.pydata.org/pandas-docs/stable/user_guide/indexing.html#returning-a-view-versus-a-copy\n",
            "  return self._update_inplace(result)\n",
            "/anaconda/envs/azureml_py38_tensorflow/lib/python3.8/site-packages/pandas/util/_decorators.py:311: SettingWithCopyWarning: \n",
            "A value is trying to be set on a copy of a slice from a DataFrame\n",
            "\n",
            "See the caveats in the documentation: https://pandas.pydata.org/pandas-docs/stable/user_guide/indexing.html#returning-a-view-versus-a-copy\n",
            "  return func(*args, **kwargs)\n"
          ]
        },
        {
          "output_type": "stream",
          "name": "stdout",
          "text": [
            "day: 2516                 reward: 2716839.626                 sharpe: 0.374                  cum. rtns: 171.684                 portf val: 2,716,839.63\n",
            "day: 2516                 reward: 2747959.742                 sharpe: 0.456                  cum. rtns: 174.796                 portf val: 2,747,959.74\n",
            "day: 2516                 reward: 2326394.347                 sharpe: 0.268                  cum. rtns: 132.639                 portf val: 2,326,394.35\n",
            "day: 2516                 reward: 2823562.330                 sharpe: 0.448                  cum. rtns: 182.356                 portf val: 2,823,562.33\n",
            "day: 2516                 reward: 2819091.869                 sharpe: 0.431                  cum. rtns: 181.909                 portf val: 2,819,091.87\n",
            "day: 2516                 reward: 2380090.695                 sharpe: 0.335                  cum. rtns: 138.009                 portf val: 2,380,090.69\n",
            "day: 2516                 reward: 2863271.313                 sharpe: 0.318                  cum. rtns: 186.327                 portf val: 2,863,271.31\n",
            "day: 2516                 reward: 2716678.927                 sharpe: 0.385                  cum. rtns: 171.668                 portf val: 2,716,678.93\n",
            "day: 2516                 reward: 2687814.824                 sharpe: 0.295                  cum. rtns: 168.781                 portf val: 2,687,814.82\n",
            "day: 2516                 reward: 2676177.391                 sharpe: 0.438                  cum. rtns: 167.618                 portf val: 2,676,177.39\n"
          ]
        }
      ],
      "metadata": {
        "collapsed": false,
        "jupyter": {
          "outputs_hidden": false
        },
        "pycharm": {
          "name": "#%%\n"
        },
        "gather": {
          "logged": 1629564983373
        }
      }
    },
    {
      "cell_type": "code",
      "execution_count": 20,
      "source": [
        "test_env_kwargs = {'filename':'sp500.csv',\n",
        "    'date_from':'2017-01-01',\n",
        "    'date_to':'2019-12-31',\n",
        "    'investment':1000000,\n",
        "    'risk_free_rate': 0.5, # approx US Treasury Note return\n",
        "    'sample_size':100,\n",
        "    #'report_point':252,\n",
        "    'random_sample':False,\n",
        "    'reward_function':'portfolio_value'}\n",
        "\n",
        "test_portfolio = Environment.create(\n",
        "    environment='PortfolioTF',\n",
        "    **test_env_kwargs\n",
        ")\n",
        "_ = test_portfolio.reset()\n",
        "test_timesteps = 1 * (len(test_portfolio._environment.data.date.unique())-1)"
      ],
      "outputs": [],
      "metadata": {
        "collapsed": false,
        "jupyter": {
          "outputs_hidden": false
        },
        "pycharm": {
          "name": "#%%\n"
        },
        "gather": {
          "logged": 1629569350001
        }
      }
    },
    {
      "cell_type": "code",
      "execution_count": 21,
      "source": [
        "testa2c=Agent.load(directory='model',filename='best-model',environment=test_portfolio)\n"
      ],
      "outputs": [
        {
          "output_type": "stream",
          "name": "stderr",
          "text": [
            "WARNING:root:No min_value bound specified for state.\n"
          ]
        }
      ],
      "metadata": {
        "collapsed": false,
        "jupyter": {
          "outputs_hidden": false
        },
        "pycharm": {
          "name": "#%%\n"
        },
        "gather": {
          "logged": 1629569375367
        }
      }
    },
    {
      "cell_type": "code",
      "execution_count": 22,
      "source": [
        "test2crunner = Runner(\n",
        "    agent=testa2c,\n",
        "    environment=test_portfolio\n",
        ")"
      ],
      "outputs": [],
      "metadata": {
        "collapsed": false,
        "jupyter": {
          "outputs_hidden": false
        },
        "pycharm": {
          "name": "#%%\n"
        },
        "gather": {
          "logged": 1629569383592
        }
      }
    },
    {
      "cell_type": "code",
      "execution_count": 23,
      "source": [
        "print(test2crunner.agent.get_architecture())\n",
        "test2crunner.agent.get_specification()"
      ],
      "outputs": [
        {
          "output_type": "stream",
          "name": "stdout",
          "text": [
            "Policy:\n",
            "    Network:  \n",
            "        Conv2d(name=conv2d0, size=64, window=3, padding=same, bias=True, activation=relu)\n",
            "        Conv2d(name=conv2d1, size=64, window=3, padding=same, bias=True, activation=relu)\n",
            "        Pooling(name=pooling, reduction=max)\n",
            "        Lstm(name=lstm, cell=lstm, size=64, horizon=252, bias=False)\n",
            "    Action-distribution:\n",
            "        Mean:  Linear(name=mean, size=100, bias=True, initialization_scale=0.01)\n",
            "        Stddev:  Linear(name=stddev, size=100, bias=True, initialization_scale=0.01)\n",
            "Baseline:\n",
            "    Network:  \n",
            "        Conv2d(name=conv2d0, size=64, window=3, padding=same, bias=True, activation=relu)\n",
            "        Conv2d(name=conv2d1, size=64, window=3, padding=same, bias=True, activation=relu)\n",
            "        Pooling(name=pooling, reduction=max)\n",
            "    State-value:  Linear(name=value, size=0, bias=True)\n"
          ]
        },
        {
          "output_type": "execute_result",
          "data": {
            "text/plain": [
              "{'agent': 'a2c',\n",
              " 'states': {'type': 'float', 'shape': [100, 1, 13]},\n",
              " 'actions': {'type': 'float', 'shape': [100], 'min_value': 0, 'max_value': 1},\n",
              " 'batch_size': 5,\n",
              " 'max_episode_timesteps': 25170,\n",
              " 'network': {'type': 'auto', 'rnn': 252},\n",
              " 'use_beta_distribution': False,\n",
              " 'memory': 'minimum',\n",
              " 'update_frequency': 1.0,\n",
              " 'learning_rate': 0.001,\n",
              " 'horizon': 1,\n",
              " 'discount': 0.99,\n",
              " 'return_processing': None,\n",
              " 'advantage_processing': None,\n",
              " 'predict_terminal_values': False,\n",
              " 'critic': 'auto',\n",
              " 'critic_optimizer': {'optimizer': 'adam'},\n",
              " 'state_preprocessing': 'linear_normalization',\n",
              " 'reward_preprocessing': None,\n",
              " 'exploration': 0.0,\n",
              " 'variable_noise': 0.0,\n",
              " 'l2_regularization': 0.0,\n",
              " 'entropy_regularization': 0.0,\n",
              " 'parallel_interactions': 1,\n",
              " 'config': None,\n",
              " 'saver': None,\n",
              " 'summarizer': None,\n",
              " 'tracking': None,\n",
              " 'recorder': None}"
            ]
          },
          "metadata": {},
          "execution_count": 23
        }
      ],
      "metadata": {
        "collapsed": false,
        "jupyter": {
          "outputs_hidden": false
        },
        "pycharm": {
          "name": "#%%\n"
        },
        "gather": {
          "logged": 1629569391018
        }
      }
    },
    {
      "cell_type": "code",
      "execution_count": 24,
      "source": [
        "test2crunner.run(num_episodes=10)"
      ],
      "outputs": [
        {
          "output_type": "display_data",
          "data": {
            "text/plain": [
              "Episodes:   0%|          | 0/10 [00:00, return=0.00, ts/ep=0, sec/ep=0.00, ms/ts=0.0, agent=0.0%]"
            ],
            "application/vnd.jupyter.widget-view+json": {
              "version_major": 2,
              "version_minor": 0,
              "model_id": "213dc7e565864388b55ae226a5907143"
            }
          },
          "metadata": {}
        },
        {
          "output_type": "stream",
          "name": "stderr",
          "text": [
            "/anaconda/envs/azureml_py38_tensorflow/lib/python3.8/site-packages/tensorflow/python/framework/indexed_slices.py:447: UserWarning: Converting sparse IndexedSlices(IndexedSlices(indices=Tensor(\"gradients/lstm/GatherV2_grad/Reshape_1:0\", shape=(None,), dtype=int64), values=Tensor(\"gradients/lstm/GatherV2_grad/Reshape:0\", shape=(None, 64), dtype=float32), dense_shape=Tensor(\"gradients/lstm/GatherV2_grad/Cast:0\", shape=(2,), dtype=int32))) to a dense Tensor of unknown shape. This may consume a large amount of memory.\n",
            "  warnings.warn(\n"
          ]
        },
        {
          "output_type": "stream",
          "name": "stdout",
          "text": [
            "day: 751                 reward: 1467151.144                 sharpe: 0.351                  cum. rtns: 46.715                 portf val: 1,467,151.14\n",
            "day: 751                 reward: 1479934.122                 sharpe: 0.345                  cum. rtns: 47.993                 portf val: 1,479,934.12\n",
            "day: 751                 reward: 1476597.791                 sharpe: 0.359                  cum. rtns: 47.660                 portf val: 1,476,597.79\n",
            "day: 751                 reward: 1472070.959                 sharpe: 0.354                  cum. rtns: 47.207                 portf val: 1,472,070.96\n",
            "day: 751                 reward: 1473712.938                 sharpe: 0.360                  cum. rtns: 47.371                 portf val: 1,473,712.94\n",
            "day: 751                 reward: 1474768.664                 sharpe: 0.355                  cum. rtns: 47.477                 portf val: 1,474,768.66\n",
            "day: 751                 reward: 1485059.913                 sharpe: 0.375                  cum. rtns: 48.506                 portf val: 1,485,059.91\n",
            "day: 751                 reward: 1448324.379                 sharpe: 0.336                  cum. rtns: 44.832                 portf val: 1,448,324.38\n",
            "day: 751                 reward: 1469963.813                 sharpe: 0.342                  cum. rtns: 46.996                 portf val: 1,469,963.81\n",
            "day: 751                 reward: 1471531.665                 sharpe: 0.341                  cum. rtns: 47.153                 portf val: 1,471,531.66\n"
          ]
        }
      ],
      "metadata": {
        "collapsed": false,
        "jupyter": {
          "outputs_hidden": false
        },
        "pycharm": {
          "is_executing": true,
          "name": "#%%\n"
        },
        "gather": {
          "logged": 1629570464624
        }
      }
    },
    {
      "cell_type": "code",
      "execution_count": 25,
      "source": [
        "timesteps = len(test_portfolio._environment.data.date.unique())-1\r\n",
        "random = Agent.create(\r\n",
        "    agent='random',\r\n",
        "    environment=test_portfolio,\r\n",
        "    max_episode_timesteps=timesteps,\r\n",
        ")"
      ],
      "outputs": [
        {
          "output_type": "stream",
          "name": "stderr",
          "text": [
            "WARNING:root:No min_value bound specified for state.\n"
          ]
        }
      ],
      "metadata": {
        "collapsed": true,
        "jupyter": {
          "source_hidden": false,
          "outputs_hidden": false
        },
        "nteract": {
          "transient": {
            "deleting": false
          }
        },
        "gather": {
          "logged": 1629570854403
        }
      }
    },
    {
      "cell_type": "code",
      "execution_count": 26,
      "source": [
        "randomrunner = Runner(\r\n",
        "    agent=random,\r\n",
        "    environment=test_portfolio\r\n",
        ")"
      ],
      "outputs": [],
      "metadata": {
        "collapsed": true,
        "jupyter": {
          "source_hidden": false,
          "outputs_hidden": false
        },
        "nteract": {
          "transient": {
            "deleting": false
          }
        },
        "gather": {
          "logged": 1629570859105
        }
      }
    },
    {
      "cell_type": "code",
      "execution_count": 27,
      "source": [
        "randomrunner.run(num_episodes=10)"
      ],
      "outputs": [
        {
          "output_type": "display_data",
          "data": {
            "text/plain": [
              "Episodes:   0%|          | 0/10 [00:00, return=0.00, ts/ep=0, sec/ep=0.00, ms/ts=0.0, agent=0.0%]"
            ],
            "application/vnd.jupyter.widget-view+json": {
              "version_major": 2,
              "version_minor": 0,
              "model_id": "7a599b22e8a741e0a7867c8705c306fa"
            }
          },
          "metadata": {}
        },
        {
          "output_type": "stream",
          "name": "stderr",
          "text": [
            "/anaconda/envs/azureml_py38_tensorflow/lib/python3.8/site-packages/pandas/core/generic.py:6383: SettingWithCopyWarning: \n",
            "A value is trying to be set on a copy of a slice from a DataFrame\n",
            "\n",
            "See the caveats in the documentation: https://pandas.pydata.org/pandas-docs/stable/user_guide/indexing.html#returning-a-view-versus-a-copy\n",
            "  return self._update_inplace(result)\n",
            "/anaconda/envs/azureml_py38_tensorflow/lib/python3.8/site-packages/pandas/util/_decorators.py:311: SettingWithCopyWarning: \n",
            "A value is trying to be set on a copy of a slice from a DataFrame\n",
            "\n",
            "See the caveats in the documentation: https://pandas.pydata.org/pandas-docs/stable/user_guide/indexing.html#returning-a-view-versus-a-copy\n",
            "  return func(*args, **kwargs)\n"
          ]
        },
        {
          "output_type": "stream",
          "name": "stdout",
          "text": [
            "day: 751                 reward: 1425852.642                 sharpe: 0.334                  cum. rtns: 42.585                 portf val: 1,425,852.64\n",
            "day: 751                 reward: 1436983.676                 sharpe: 0.343                  cum. rtns: 43.698                 portf val: 1,436,983.68\n",
            "day: 751                 reward: 1541072.161                 sharpe: 0.378                  cum. rtns: 54.107                 portf val: 1,541,072.16\n",
            "day: 751                 reward: 1475162.084                 sharpe: 0.380                  cum. rtns: 47.516                 portf val: 1,475,162.08\n",
            "day: 751                 reward: 1434898.877                 sharpe: 0.346                  cum. rtns: 43.490                 portf val: 1,434,898.88\n",
            "day: 751                 reward: 1481293.404                 sharpe: 0.366                  cum. rtns: 48.129                 portf val: 1,481,293.40\n",
            "day: 751                 reward: 1484133.162                 sharpe: 0.345                  cum. rtns: 48.413                 portf val: 1,484,133.16\n",
            "day: 751                 reward: 1483273.943                 sharpe: 0.371                  cum. rtns: 48.327                 portf val: 1,483,273.94\n",
            "day: 751                 reward: 1455356.381                 sharpe: 0.366                  cum. rtns: 45.536                 portf val: 1,455,356.38\n",
            "day: 751                 reward: 1508846.307                 sharpe: 0.379                  cum. rtns: 50.885                 portf val: 1,508,846.31\n"
          ]
        }
      ],
      "metadata": {
        "collapsed": true,
        "jupyter": {
          "source_hidden": false,
          "outputs_hidden": false
        },
        "nteract": {
          "transient": {
            "deleting": false
          }
        },
        "gather": {
          "logged": 1629570893003
        }
      }
    }
  ],
  "metadata": {
    "accelerator": "GPU",
    "colab": {
      "collapsed_sections": [],
      "name": "Example.ipynb",
      "provenance": []
    },
    "kernel_info": {
      "name": "azureml_py38_tensorflow"
    },
    "kernelspec": {
      "name": "python3",
      "display_name": "Python 3.8.1 64-bit ('azureml_py38_tensorflow': conda)"
    },
    "language_info": {
      "name": "python",
      "version": "3.8.1",
      "mimetype": "text/x-python",
      "codemirror_mode": {
        "name": "ipython",
        "version": 3
      },
      "pygments_lexer": "ipython3",
      "nbconvert_exporter": "python",
      "file_extension": ".py"
    },
    "nteract": {
      "version": "nteract-front-end@1.0.0"
    },
    "microsoft": {
      "host": {
        "AzureML": {
          "notebookHasBeenCompleted": true
        }
      }
    },
    "interpreter": {
      "hash": "65a6f409335480eea527ba85caf0c55990537f0a0b4ff679a027198f08ca6989"
    }
  },
  "nbformat": 4,
  "nbformat_minor": 4
}