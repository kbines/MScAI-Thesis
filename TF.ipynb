{
 "nbformat": 4,
 "nbformat_minor": 0,
 "metadata": {
  "kernelspec": {
   "display_name": "Python 3",
   "language": "python",
   "name": "python3"
  },
  "language_info": {
   "codemirror_mode": {
    "name": "ipython",
    "version": 2
   },
   "file_extension": ".py",
   "mimetype": "text/x-python",
   "name": "python",
   "nbconvert_exporter": "python",
   "pygments_lexer": "ipython2",
   "version": "2.7.6"
  },
  "colab": {
   "name": "Example.ipynb",
   "provenance": [],
   "collapsed_sections": []
  },
  "accelerator": "GPU"
 },
 "cells": [
  {
   "cell_type": "code",
   "execution_count": 1,
   "outputs": [],
   "source": [
    "from tensorforce.environments import Environment\n",
    "from tensorforce.agents import Agent\n",
    "from tensorforce.execution import Runner"
   ],
   "metadata": {
    "collapsed": false,
    "pycharm": {
     "name": "#%%\n"
    }
   }
  },
  {
   "cell_type": "code",
   "execution_count": 2,
   "outputs": [
    {
     "name": "stderr",
     "output_type": "stream",
     "text": [
      "C:\\Users\\kbine\\anaconda3\\envs\\tensorforce\\lib\\site-packages\\pandas\\core\\generic.py:6392: SettingWithCopyWarning: \n",
      "A value is trying to be set on a copy of a slice from a DataFrame\n",
      "\n",
      "See the caveats in the documentation: https://pandas.pydata.org/pandas-docs/stable/user_guide/indexing.html#returning-a-view-versus-a-copy\n",
      "  return self._update_inplace(result)\n",
      "C:\\Users\\kbine\\anaconda3\\envs\\tensorforce\\lib\\site-packages\\pandas\\util\\_decorators.py:311: SettingWithCopyWarning: \n",
      "A value is trying to be set on a copy of a slice from a DataFrame\n",
      "\n",
      "See the caveats in the documentation: https://pandas.pydata.org/pandas-docs/stable/user_guide/indexing.html#returning-a-view-versus-a-copy\n",
      "  return func(*args, **kwargs)\n"
     ]
    }
   ],
   "source": [
    "train_env_kwargs = {'filename':'sp500.csv',\n",
    "    'date_from':'2008-01-01',\n",
    "    'date_to':'2017-12-31',\n",
    "    'investment':1000000,\n",
    "    'risk_free_rate': 0.5, # approx US Treasury Note return\n",
    "    'sample_size':100,\n",
    "    #'report_point':252,\n",
    "    'random_sample':True,\n",
    "    'reward_function':'portfolio_value'}\n",
    "\n",
    "train_portfolio = Environment.create(\n",
    "    environment='PortfolioTF',\n",
    "    **train_env_kwargs\n",
    ")\n",
    "_ = train_portfolio.reset()\n",
    "total_timesteps = 1 * (len(train_portfolio._environment.data.date.unique())-1)\n"
   ],
   "metadata": {
    "collapsed": false,
    "pycharm": {
     "name": "#%%\n"
    }
   }
  },
  {
   "cell_type": "code",
   "execution_count": null,
   "outputs": [],
   "source": [
    "vanilla = Agent.create(\n",
    "    agent='reinforce',\n",
    "    environment=train_portfolio,\n",
    "    max_episode_timesteps=total_timesteps,\n",
    "    network=dict(type='auto',\n",
    "                 rnn=10  ),\n",
    "    batch_size=5\n",
    ")\n"
   ],
   "metadata": {
    "collapsed": false,
    "pycharm": {
     "name": "#%%\n"
    }
   }
  },
  {
   "cell_type": "code",
   "execution_count": null,
   "outputs": [],
   "source": [
    "runner = Runner(\n",
    "    agent=vanilla,\n",
    "    environment=train_portfolio\n",
    ")"
   ],
   "metadata": {
    "collapsed": false,
    "pycharm": {
     "name": "#%%\n"
    }
   }
  },
  {
   "cell_type": "code",
   "execution_count": null,
   "outputs": [],
   "source": [
    "print(runner.agent.get_architecture())"
   ],
   "metadata": {
    "collapsed": false,
    "pycharm": {
     "name": "#%%\n"
    }
   }
  },
  {
   "cell_type": "code",
   "execution_count": null,
   "outputs": [],
   "source": [
    "runner.agent.get_specification()"
   ],
   "metadata": {
    "collapsed": false,
    "pycharm": {
     "name": "#%%\n"
    }
   }
  },
  {
   "cell_type": "code",
   "execution_count": null,
   "outputs": [],
   "source": [
    "runner.run(num_episodes=10)"
   ],
   "metadata": {
    "collapsed": false,
    "pycharm": {
     "name": "#%%\n"
    }
   }
  },
  {
   "cell_type": "code",
   "execution_count": null,
   "outputs": [],
   "source": [
    "runner.run(num_episodes=10, evaluation=True)"
   ],
   "metadata": {
    "collapsed": false,
    "pycharm": {
     "name": "#%%\n"
    }
   }
  },
  {
   "cell_type": "code",
   "execution_count": null,
   "outputs": [],
   "source": [
    "timesteps = len(train_portfolio._environment.data.date.unique())-1\n",
    "random = Agent.create(\n",
    "    agent='random',\n",
    "    environment=train_portfolio,\n",
    "    max_episode_timesteps=timesteps,\n",
    ")"
   ],
   "metadata": {
    "collapsed": false,
    "pycharm": {
     "name": "#%%\n"
    }
   }
  },
  {
   "cell_type": "code",
   "execution_count": null,
   "outputs": [],
   "source": [
    "randomrunner = Runner(\n",
    "    agent=random,\n",
    "    environment=train_portfolio\n",
    ")"
   ],
   "metadata": {
    "collapsed": false,
    "pycharm": {
     "name": "#%%\n"
    }
   }
  },
  {
   "cell_type": "code",
   "execution_count": null,
   "outputs": [],
   "source": [
    "randomrunner.run(num_episodes=10)"
   ],
   "metadata": {
    "collapsed": false,
    "pycharm": {
     "name": "#%%\n"
    }
   }
  },
  {
   "cell_type": "code",
   "execution_count": null,
   "outputs": [],
   "source": [
    "total_timesteps = 1000 * (len(train_portfolio._environment.data.date.unique())-1)\n",
    "a2cagent = Agent.create(\n",
    "    agent='a2c',\n",
    "    environment=train_portfolio,\n",
    "    max_episode_timesteps=total_timesteps,\n",
    "    network=dict(type='auto',\n",
    "                 rnn=252  ),\n",
    "    critic_optimizer=dict(optimizer='adam'),\n",
    "    batch_size=5\n",
    ")"
   ],
   "metadata": {
    "collapsed": false,
    "pycharm": {
     "name": "#%%\n"
    }
   }
  },
  {
   "cell_type": "code",
   "execution_count": null,
   "outputs": [],
   "source": [
    "a2crunner = Runner(\n",
    "    agent=a2cagent,\n",
    "    environment=train_portfolio\n",
    ")"
   ],
   "metadata": {
    "collapsed": false,
    "pycharm": {
     "name": "#%%\n"
    }
   }
  },
  {
   "cell_type": "code",
   "execution_count": null,
   "outputs": [],
   "source": [
    "print(a2crunner.agent.get_architecture())"
   ],
   "metadata": {
    "collapsed": false,
    "pycharm": {
     "name": "#%%\n"
    }
   }
  },
  {
   "cell_type": "code",
   "execution_count": null,
   "outputs": [],
   "source": [
    "a2crunner.agent.get_specification()"
   ],
   "metadata": {
    "collapsed": false,
    "pycharm": {
     "name": "#%%\n"
    }
   }
  },
  {
   "cell_type": "code",
   "execution_count": null,
   "outputs": [],
   "source": [
    "a2crunner.run(num_episodes=1000)"
   ],
   "metadata": {
    "collapsed": false,
    "pycharm": {
     "name": "#%%\n"
    }
   }
  },
  {
   "cell_type": "code",
   "execution_count": 2,
   "outputs": [
    {
     "ename": "NameError",
     "evalue": "name 'a2crunner' is not defined",
     "output_type": "error",
     "traceback": [
      "\u001B[1;31m---------------------------------------------------------------------------\u001B[0m",
      "\u001B[1;31mNameError\u001B[0m                                 Traceback (most recent call last)",
      "\u001B[1;32m~\\AppData\\Local\\Temp/ipykernel_29836/3231916982.py\u001B[0m in \u001B[0;36m<module>\u001B[1;34m\u001B[0m\n\u001B[1;32m----> 1\u001B[1;33m \u001B[0ma2crunner\u001B[0m\u001B[1;33m.\u001B[0m\u001B[0mrun\u001B[0m\u001B[1;33m(\u001B[0m\u001B[0mnum_episodes\u001B[0m\u001B[1;33m=\u001B[0m\u001B[1;36m1000\u001B[0m\u001B[1;33m,\u001B[0m \u001B[0mevaluation\u001B[0m\u001B[1;33m=\u001B[0m\u001B[1;32mTrue\u001B[0m\u001B[1;33m,\u001B[0m \u001B[0msave_best_agent\u001B[0m\u001B[1;33m=\u001B[0m\u001B[1;34m'.'\u001B[0m \u001B[1;33m)\u001B[0m\u001B[1;33m\u001B[0m\u001B[1;33m\u001B[0m\u001B[0m\n\u001B[0m\u001B[0;32m      2\u001B[0m \u001B[1;33m\u001B[0m\u001B[0m\n\u001B[0;32m      3\u001B[0m \u001B[1;31m##%\u001B[0m\u001B[1;33m\u001B[0m\u001B[1;33m\u001B[0m\u001B[1;33m\u001B[0m\u001B[0m\n\u001B[0;32m      4\u001B[0m \u001B[0ma2crunner\u001B[0m\u001B[1;33m.\u001B[0m\u001B[0magent\u001B[0m\u001B[1;33m.\u001B[0m\u001B[0msave\u001B[0m\u001B[1;33m(\u001B[0m\u001B[1;34m'models\\ac2ltsm'\u001B[0m\u001B[1;33m)\u001B[0m\u001B[1;33m\u001B[0m\u001B[1;33m\u001B[0m\u001B[0m\n\u001B[0;32m      5\u001B[0m \u001B[1;33m\u001B[0m\u001B[0m\n",
      "\u001B[1;31mNameError\u001B[0m: name 'a2crunner' is not defined"
     ]
    }
   ],
   "source": [
    "a2crunner.run(num_episodes=1000, evaluation=True, save_best_agent='.' )\n",
    "\n",
    "##%"
   ],
   "metadata": {
    "collapsed": false,
    "pycharm": {
     "name": "#%%\n"
    }
   }
  },
  {
   "cell_type": "code",
   "execution_count": 3,
   "outputs": [
    {
     "name": "stderr",
     "output_type": "stream",
     "text": [
      "C:\\Users\\kbine\\anaconda3\\envs\\tensorforce\\lib\\site-packages\\pandas\\core\\generic.py:6392: SettingWithCopyWarning: \n",
      "A value is trying to be set on a copy of a slice from a DataFrame\n",
      "\n",
      "See the caveats in the documentation: https://pandas.pydata.org/pandas-docs/stable/user_guide/indexing.html#returning-a-view-versus-a-copy\n",
      "  return self._update_inplace(result)\n",
      "C:\\Users\\kbine\\anaconda3\\envs\\tensorforce\\lib\\site-packages\\pandas\\util\\_decorators.py:311: SettingWithCopyWarning: \n",
      "A value is trying to be set on a copy of a slice from a DataFrame\n",
      "\n",
      "See the caveats in the documentation: https://pandas.pydata.org/pandas-docs/stable/user_guide/indexing.html#returning-a-view-versus-a-copy\n",
      "  return func(*args, **kwargs)\n"
     ]
    }
   ],
   "source": [
    "test_env_kwargs = {'filename':'sp500.csv',\n",
    "    'date_from':'2017-01-01',\n",
    "    'date_to':'2019-12-31',\n",
    "    'investment':1000000,\n",
    "    'risk_free_rate': 0.5, # approx US Treasury Note return\n",
    "    'sample_size':100,\n",
    "    #'report_point':252,\n",
    "    'random_sample':False,\n",
    "    'reward_function':'portfolio_value'}\n",
    "\n",
    "test_portfolio = Environment.create(\n",
    "    environment='PortfolioTF',\n",
    "    **test_env_kwargs\n",
    ")\n",
    "_ = test_portfolio.reset()\n",
    "test_timesteps = 1 * (len(test_portfolio._environment.data.date.unique())-1)"
   ],
   "metadata": {
    "collapsed": false,
    "pycharm": {
     "name": "#%%\n"
    }
   }
  },
  {
   "cell_type": "code",
   "execution_count": 5,
   "outputs": [
    {
     "name": "stderr",
     "output_type": "stream",
     "text": [
      "WARNING:root:No min_value bound specified for state.\n"
     ]
    }
   ],
   "source": [
    "testa2c=Agent.load(directory='.',filename='best-model',environment=test_portfolio)\n"
   ],
   "metadata": {
    "collapsed": false,
    "pycharm": {
     "name": "#%%\n"
    }
   }
  },
  {
   "cell_type": "code",
   "execution_count": 6,
   "outputs": [],
   "source": [
    "test2crunner = Runner(\n",
    "    agent=testa2c,\n",
    "    environment=test_portfolio\n",
    ")"
   ],
   "metadata": {
    "collapsed": false,
    "pycharm": {
     "name": "#%%\n"
    }
   }
  },
  {
   "cell_type": "code",
   "execution_count": 8,
   "outputs": [
    {
     "name": "stdout",
     "output_type": "stream",
     "text": [
      "Policy:\n",
      "    Network:  \n",
      "        Conv2d(name=conv2d0, size=64, window=3, padding=same, bias=True, activation=relu)\n",
      "        Conv2d(name=conv2d1, size=64, window=3, padding=same, bias=True, activation=relu)\n",
      "        Pooling(name=pooling, reduction=max)\n",
      "        Lstm(name=lstm, cell=lstm, size=64, horizon=252, bias=False)\n",
      "    Action-distribution:\n",
      "        Mean:  Linear(name=mean, size=100, bias=True, initialization_scale=0.01)\n",
      "        Stddev:  Linear(name=stddev, size=100, bias=True, initialization_scale=0.01)\n",
      "Baseline:\n",
      "    Network:  \n",
      "        Conv2d(name=conv2d0, size=64, window=3, padding=same, bias=True, activation=relu)\n",
      "        Conv2d(name=conv2d1, size=64, window=3, padding=same, bias=True, activation=relu)\n",
      "        Pooling(name=pooling, reduction=max)\n",
      "    State-value:  Linear(name=value, size=0, bias=True)\n"
     ]
    },
    {
     "data": {
      "text/plain": "{'agent': 'a2c',\n 'states': {'type': 'float', 'shape': [100, 1, 13]},\n 'actions': {'type': 'float', 'shape': [100], 'min_value': 0, 'max_value': 1},\n 'batch_size': 5,\n 'max_episode_timesteps': 2517000,\n 'network': {'type': 'auto', 'rnn': 252},\n 'use_beta_distribution': False,\n 'memory': 'minimum',\n 'update_frequency': 1.0,\n 'learning_rate': 0.001,\n 'horizon': 1,\n 'discount': 0.99,\n 'return_processing': None,\n 'advantage_processing': None,\n 'predict_terminal_values': False,\n 'critic': 'auto',\n 'critic_optimizer': {'optimizer': 'adam'},\n 'state_preprocessing': 'linear_normalization',\n 'reward_preprocessing': None,\n 'exploration': 0.0,\n 'variable_noise': 0.0,\n 'l2_regularization': 0.0,\n 'entropy_regularization': 0.0,\n 'parallel_interactions': 1,\n 'config': None,\n 'saver': None,\n 'summarizer': None,\n 'tracking': None,\n 'recorder': None}"
     },
     "execution_count": 8,
     "metadata": {},
     "output_type": "execute_result"
    }
   ],
   "source": [
    "print(test2crunner.agent.get_architecture())\n",
    "test2crunner.agent.get_specification()"
   ],
   "metadata": {
    "collapsed": false,
    "pycharm": {
     "name": "#%%\n"
    }
   }
  },
  {
   "cell_type": "code",
   "execution_count": null,
   "outputs": [
    {
     "data": {
      "text/plain": "Episodes:   0%|          | 0/10 [00:00, return=0.00, ts/ep=0, sec/ep=0.00, ms/ts=0.0, agent=0.0%]",
      "application/vnd.jupyter.widget-view+json": {
       "version_major": 2,
       "version_minor": 0,
       "model_id": "31ffc817d69e485da238662911cdd663"
      }
     },
     "metadata": {},
     "output_type": "display_data"
    }
   ],
   "source": [
    "test2crunner.run(num_episodes=10)"
   ],
   "metadata": {
    "collapsed": false,
    "pycharm": {
     "name": "#%%\n",
     "is_executing": true
    }
   }
  },
  {
   "cell_type": "code",
   "execution_count": null,
   "outputs": [],
   "source": [
    "a2crunner.run(num_episodes=1000, evaluation=True )\n",
    "\n",
    "\n"
   ],
   "metadata": {
    "collapsed": false,
    "pycharm": {
     "name": "#%%\n"
    }
   }
  }
 ]
}