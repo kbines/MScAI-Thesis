{
 "cells": [
  {
   "cell_type": "code",
   "execution_count": 112,
   "metadata": {
    "collapsed": true,
    "pycharm": {
     "name": "#%%\n"
    }
   },
   "outputs": [],
   "source": [
    "import gym\n",
    "import PortfolioAllocationGym\n",
    "import sys\n",
    "import numpy\n",
    "numpy.set_printoptions(threshold=sys.maxsize)\n",
    "import pandas as pd\n",
    "from ta.trend import EMAIndicator, MACD\n",
    "from ta.volatility import BollingerBands\n",
    "from ta.momentum import StochasticOscillator\n",
    "from ta.volume import OnBalanceVolumeIndicator\n",
    "from ta.others import DailyReturnIndicator"
   ]
  },
  {
   "cell_type": "code",
   "execution_count": 2,
   "outputs": [
    {
     "name": "stdout",
     "output_type": "stream",
     "text": [
      "reset\n"
     ]
    },
    {
     "data": {
      "text/plain": "array([[-5.5330642e+09, -3.9672827e+11,  1.9987680e+02,  1.9987680e+02,\n         1.9987680e+02,  1.0000000e+00,  0.0000000e+00,  9.9331810e+01,\n         2.2794462e+01,  1.0042476e+07,  1.4768212e+07, -2.4503056e+12],\n       [-4.7148652e+09, -3.8117219e+11,  9.6071320e+02,  9.6071320e+02,\n         9.6071320e+02,  1.0000000e+00,  0.0000000e+00,  1.0000000e+02,\n         3.7249660e+01,  7.3826795e+06,  1.0855343e+07, -2.4503093e+12],\n       [-1.0972415e+08, -1.4889530e+11,  6.3786029e+02,  6.3786029e+02,\n         6.3786029e+02,  1.0000000e+00,  0.0000000e+00,  1.0000000e+02,\n         5.9694778e+01,  6.2418623e+03,  8.0146035e+03, -2.4503373e+12],\n       [-1.6079797e+07, -9.2133573e+10,  3.0625051e+03,  3.0625051e+03,\n         3.0625051e+03,  1.0000000e+00,  0.0000000e+00,  9.8523964e+01,\n         3.6913307e+01,  4.8966919e+03,  1.1208610e+03, -2.4504222e+12],\n       [-9.5590190e+06, -8.0901980e+10,  3.1500769e+03,  3.1500769e+03,\n         3.1500769e+03,  0.0000000e+00,  1.0000000e+00,  1.3187019e+00,\n         3.9067659e-01, -4.4428549e+02,  9.6065651e+01, -2.4504723e+12],\n       [-6.4071370e+06, -7.3203081e+10,  2.8049149e+02,  2.8049149e+02,\n         2.8049149e+02,  1.0000000e+00,  0.0000000e+00,  9.7769699e+01,\n         2.3832010e+01, -3.4881519e+02, -4.6390128e+02, -2.4504899e+12],\n       [-3.5148670e+06, -6.3006396e+10,  1.6446963e+03,  1.6446963e+03,\n         1.6446963e+03,  1.0000000e+00,  0.0000000e+00,  1.0000000e+02,\n         2.2956696e+01,  2.0514766e+03,  1.4899936e+02, -2.4504938e+12],\n       [-1.3379943e+04, -1.5693155e+10,  1.3662741e+02,  1.3662741e+02,\n         1.3662741e+02,  1.0000000e+00,  0.0000000e+00,  9.9091850e+01,\n         3.3900818e+01,  1.2012822e+02,  1.6783689e+01, -2.4504859e+12],\n       [-3.1704465e+03, -1.1169890e+10,  3.3772275e+02,  3.3772275e+02,\n         3.3772275e+02,  1.0000000e+00,  0.0000000e+00,  9.9881821e+01,\n         4.4529438e+01,  4.4112888e+02,  8.0023552e+01, -2.4505187e+12],\n       [-2.6216610e+12, -1.8505986e+12,  3.6650171e+02,  3.6650171e+02,\n         3.6650171e+02,  1.0000000e+00,  0.0000000e+00,  9.8835281e+01,\n         5.1495098e+01,  1.2727597e+12,  1.6292226e+12, -2.4506513e+12]],\n      dtype=float32)"
     },
     "execution_count": 2,
     "metadata": {},
     "output_type": "execute_result"
    }
   ],
   "source": [
    "env_kwargs = {'filename':'yahoo_daily_sp500_prices.csv',\n",
    "    'date_from':'2017-01-01',\n",
    "    'date_to':'2017-12-31',\n",
    "    'investment':1000000,\n",
    "    'risk_free_rate': 0.5, # approx US Treasury Note return\n",
    "    'sample_size':10,\n",
    "    'report_point':252/4, # 1 year\n",
    "    'reward_function':'psr'}\n",
    "\n",
    "portfolio =  gym.make('PortfolioAllocation-v0', **env_kwargs)\n",
    "portfolio.reset()"
   ],
   "metadata": {
    "collapsed": false,
    "pycharm": {
     "name": "#%%\n"
    }
   }
  },
  {
   "cell_type": "code",
   "execution_count": 3,
   "outputs": [
    {
     "name": "stdout",
     "output_type": "stream",
     "text": [
      "[0. 0. 0. 0. 0. 0. 0. 0. 0. 0. 0. 0. 0. 0. 0. 0. 0. 0. 0. 0. 0. 0. 0. 0.\n",
      " 0. 0. 0. 0. 0. 0. 0. 0. 0. 0. 0. 0. 0. 0. 0. 0. 0. 0. 0. 0. 0. 0. 0. 0.\n",
      " 0. 0. 0. 0. 0. 0. 0. 0. 0. 0. 0. 0. 0. 0. 0. 0. 0. 0. 0. 0. 0. 0. 0. 0.\n",
      " 0. 0. 0. 0. 0. 0. 0. 0. 0. 0. 0. 0. 0. 0. 0. 0. 0. 0. 0. 0. 0. 0. 0. 0.\n",
      " 0. 0. 0. 0. 0. 0. 0. 0. 0. 0. 0. 0. 0. 0. 0. 0. 0. 0. 0. 0. 0. 0. 0. 0.\n",
      " 0. 0. 0. 0. 0. 0. 0. 0. 0. 0. 0. 0. 0. 0. 0. 0. 0. 0. 0. 0. 0. 0. 0. 0.\n",
      " 0. 0. 0. 0. 0. 0. 0. 0. 0. 0. 0. 0. 0. 0. 0. 0. 0. 0. 0. 0. 0. 0. 0. 0.\n",
      " 0. 0. 0. 0. 0. 0. 0. 0. 0. 0. 0. 0. 0. 0. 0. 0. 0. 0. 0. 0. 0. 0. 0. 0.\n",
      " 0. 0. 0. 0. 0. 0. 0. 0. 0. 0. 0. 0. 0. 0. 0. 0. 0. 0. 0. 0. 0. 0. 0. 0.\n",
      " 0. 0. 0. 0. 0. 0. 0. 0. 0. 0. 0. 0. 0. 0. 0. 0. 0. 0. 0. 0. 0. 0. 0. 0.\n",
      " 0. 0. 0. 0. 0. 0. 0. 0. 0. 0.]\n",
      "[1. 1. 1. 1. 1. 1. 1. 1. 1. 1. 1. 1. 1. 1. 1. 1. 1. 1. 1. 1. 1. 1. 1. 1.\n",
      " 1. 1. 1. 1. 1. 1. 1. 1. 1. 1. 1. 1. 1. 1. 1. 1. 1. 1. 1. 1. 1. 1. 1. 1.\n",
      " 1. 1. 1. 1. 1. 1. 1. 1. 1. 1. 1. 1. 1. 1. 1. 1. 1. 1. 1. 1. 1. 1. 1. 1.\n",
      " 1. 1. 1. 1. 1. 1. 1. 1. 1. 1. 1. 1. 1. 1. 1. 1. 1. 1. 1. 1. 1. 1. 1. 1.\n",
      " 1. 1. 1. 1. 1. 1. 1. 1. 1. 1. 1. 1. 1. 1. 1. 1. 1. 1. 1. 1. 1. 1. 1. 1.\n",
      " 1. 1. 1. 1. 1. 1. 1. 1. 1. 1. 1. 1. 1. 1. 1. 1. 1. 1. 1. 1. 1. 1. 1. 1.\n",
      " 1. 1. 1. 1. 1. 1. 1. 1. 1. 1. 1. 1. 1. 1. 1. 1. 1. 1. 1. 1. 1. 1. 1. 1.\n",
      " 1. 1. 1. 1. 1. 1. 1. 1. 1. 1. 1. 1. 1. 1. 1. 1. 1. 1. 1. 1. 1. 1. 1. 1.\n",
      " 1. 1. 1. 1. 1. 1. 1. 1. 1. 1. 1. 1. 1. 1. 1. 1. 1. 1. 1. 1. 1. 1. 1. 1.\n",
      " 1. 1. 1. 1. 1. 1. 1. 1. 1. 1. 1. 1. 1. 1. 1. 1. 1. 1. 1. 1. 1. 1. 1. 1.\n",
      " 1. 1. 1. 1. 1. 1. 1. 1. 1. 1.]\n"
     ]
    }
   ],
   "source": [],
   "metadata": {
    "collapsed": false,
    "pycharm": {
     "name": "#%%\n"
    }
   }
  },
  {
   "cell_type": "code",
   "execution_count": 25,
   "outputs": [
    {
     "data": {
      "text/plain": "   Unnamed: 0       date          open          high           low  \\\n0     1094278 2017-01-03   1476.910034   1487.359985   1459.489990   \n0     1094282 2017-01-03  14800.000000  15200.000000  14200.000000   \n0     1094376 2017-01-03  11530.200195  11530.200195  11530.200195   \n0     1094424 2017-01-03  61000.000000  61000.000000  59900.000000   \n0     1094437 2017-01-03    800.619995    811.440002    796.890015   \n\n          close     volume    tic  day        ema_50  ...       bb_bbl  \\\n0   1477.569946   458500.0   BKNG    1 -5.533064e+09  ...   199.876795   \n0  15200.000000    14750.0    BMC    1 -4.714865e+09  ...   960.713225   \n0  11530.200195        0.0    EMC    1 -1.097241e+08  ...   637.860308   \n0  60100.000000   119390.0    GAS    1 -1.607980e+07  ...  3062.505218   \n0    808.010010  1959000.0  GOOGL    1 -9.559019e+06  ...  3150.076915   \n\n   bb_bbhi  bb_bbli       stoch  stoch_signal          macd     macd_diff  \\\n0      1.0      0.0   99.331811     22.794463  1.004248e+07 -4.725736e+06   \n0      1.0      0.0  100.000000     37.249661  7.382679e+06 -3.472663e+06   \n0      1.0      0.0  100.000000     59.694777  6.241863e+03 -1.772741e+03   \n0      1.0      0.0   98.523962     36.913309  4.896692e+03  3.775831e+03   \n0      0.0      1.0    1.318702      0.390677 -4.442855e+02 -5.403511e+02   \n\n    macd_signal           obv  daily_returns  \n0  1.476821e+07 -2.450305e+12    3332.583892  \n0  1.085534e+07 -2.450309e+12   41607.004695  \n0  8.014603e+03 -2.450337e+12   15501.746280  \n0  1.120861e+03 -2.450422e+12  136018.344136  \n0  9.606565e+01 -2.450472e+12       2.781947  \n\n[5 rows x 23 columns]",
      "text/html": "<div>\n<style scoped>\n    .dataframe tbody tr th:only-of-type {\n        vertical-align: middle;\n    }\n\n    .dataframe tbody tr th {\n        vertical-align: top;\n    }\n\n    .dataframe thead th {\n        text-align: right;\n    }\n</style>\n<table border=\"1\" class=\"dataframe\">\n  <thead>\n    <tr style=\"text-align: right;\">\n      <th></th>\n      <th>Unnamed: 0</th>\n      <th>date</th>\n      <th>open</th>\n      <th>high</th>\n      <th>low</th>\n      <th>close</th>\n      <th>volume</th>\n      <th>tic</th>\n      <th>day</th>\n      <th>ema_50</th>\n      <th>...</th>\n      <th>bb_bbl</th>\n      <th>bb_bbhi</th>\n      <th>bb_bbli</th>\n      <th>stoch</th>\n      <th>stoch_signal</th>\n      <th>macd</th>\n      <th>macd_diff</th>\n      <th>macd_signal</th>\n      <th>obv</th>\n      <th>daily_returns</th>\n    </tr>\n  </thead>\n  <tbody>\n    <tr>\n      <th>0</th>\n      <td>1094278</td>\n      <td>2017-01-03</td>\n      <td>1476.910034</td>\n      <td>1487.359985</td>\n      <td>1459.489990</td>\n      <td>1477.569946</td>\n      <td>458500.0</td>\n      <td>BKNG</td>\n      <td>1</td>\n      <td>-5.533064e+09</td>\n      <td>...</td>\n      <td>199.876795</td>\n      <td>1.0</td>\n      <td>0.0</td>\n      <td>99.331811</td>\n      <td>22.794463</td>\n      <td>1.004248e+07</td>\n      <td>-4.725736e+06</td>\n      <td>1.476821e+07</td>\n      <td>-2.450305e+12</td>\n      <td>3332.583892</td>\n    </tr>\n    <tr>\n      <th>0</th>\n      <td>1094282</td>\n      <td>2017-01-03</td>\n      <td>14800.000000</td>\n      <td>15200.000000</td>\n      <td>14200.000000</td>\n      <td>15200.000000</td>\n      <td>14750.0</td>\n      <td>BMC</td>\n      <td>1</td>\n      <td>-4.714865e+09</td>\n      <td>...</td>\n      <td>960.713225</td>\n      <td>1.0</td>\n      <td>0.0</td>\n      <td>100.000000</td>\n      <td>37.249661</td>\n      <td>7.382679e+06</td>\n      <td>-3.472663e+06</td>\n      <td>1.085534e+07</td>\n      <td>-2.450309e+12</td>\n      <td>41607.004695</td>\n    </tr>\n    <tr>\n      <th>0</th>\n      <td>1094376</td>\n      <td>2017-01-03</td>\n      <td>11530.200195</td>\n      <td>11530.200195</td>\n      <td>11530.200195</td>\n      <td>11530.200195</td>\n      <td>0.0</td>\n      <td>EMC</td>\n      <td>1</td>\n      <td>-1.097241e+08</td>\n      <td>...</td>\n      <td>637.860308</td>\n      <td>1.0</td>\n      <td>0.0</td>\n      <td>100.000000</td>\n      <td>59.694777</td>\n      <td>6.241863e+03</td>\n      <td>-1.772741e+03</td>\n      <td>8.014603e+03</td>\n      <td>-2.450337e+12</td>\n      <td>15501.746280</td>\n    </tr>\n    <tr>\n      <th>0</th>\n      <td>1094424</td>\n      <td>2017-01-03</td>\n      <td>61000.000000</td>\n      <td>61000.000000</td>\n      <td>59900.000000</td>\n      <td>60100.000000</td>\n      <td>119390.0</td>\n      <td>GAS</td>\n      <td>1</td>\n      <td>-1.607980e+07</td>\n      <td>...</td>\n      <td>3062.505218</td>\n      <td>1.0</td>\n      <td>0.0</td>\n      <td>98.523962</td>\n      <td>36.913309</td>\n      <td>4.896692e+03</td>\n      <td>3.775831e+03</td>\n      <td>1.120861e+03</td>\n      <td>-2.450422e+12</td>\n      <td>136018.344136</td>\n    </tr>\n    <tr>\n      <th>0</th>\n      <td>1094437</td>\n      <td>2017-01-03</td>\n      <td>800.619995</td>\n      <td>811.440002</td>\n      <td>796.890015</td>\n      <td>808.010010</td>\n      <td>1959000.0</td>\n      <td>GOOGL</td>\n      <td>1</td>\n      <td>-9.559019e+06</td>\n      <td>...</td>\n      <td>3150.076915</td>\n      <td>0.0</td>\n      <td>1.0</td>\n      <td>1.318702</td>\n      <td>0.390677</td>\n      <td>-4.442855e+02</td>\n      <td>-5.403511e+02</td>\n      <td>9.606565e+01</td>\n      <td>-2.450472e+12</td>\n      <td>2.781947</td>\n    </tr>\n  </tbody>\n</table>\n<p>5 rows × 23 columns</p>\n</div>"
     },
     "execution_count": 25,
     "metadata": {},
     "output_type": "execute_result"
    }
   ],
   "source": [
    "#Create test data\n",
    "df = portfolio.data\n",
    "df.head()"
   ],
   "metadata": {
    "collapsed": false,
    "pycharm": {
     "name": "#%%\n"
    }
   }
  },
  {
   "cell_type": "code",
   "execution_count": 6,
   "outputs": [
    {
     "data": {
      "text/plain": "          date  tic    close  daily_returns\n0   2017-01-03  BMC  15200.0   41607.004695\n1   2017-01-04  BMC  14700.0   39631.872122\n2   2017-01-05  BMC  15100.0   40734.256350\n3   2017-01-06  BMC  15000.0   40285.184211\n4   2017-01-09  BMC  15000.0   40933.642565\n..         ...  ...      ...            ...\n246 2017-12-22  BMC  15000.0   40573.754218\n247 2017-12-26  BMC  14900.0   40700.175069\n248 2017-12-27  BMC  15000.0   41017.742222\n249 2017-12-28  BMC  15000.0   40627.387225\n250 2017-12-29  BMC  15000.0   40702.701336\n\n[251 rows x 4 columns]",
      "text/html": "<div>\n<style scoped>\n    .dataframe tbody tr th:only-of-type {\n        vertical-align: middle;\n    }\n\n    .dataframe tbody tr th {\n        vertical-align: top;\n    }\n\n    .dataframe thead th {\n        text-align: right;\n    }\n</style>\n<table border=\"1\" class=\"dataframe\">\n  <thead>\n    <tr style=\"text-align: right;\">\n      <th></th>\n      <th>date</th>\n      <th>tic</th>\n      <th>close</th>\n      <th>daily_returns</th>\n    </tr>\n  </thead>\n  <tbody>\n    <tr>\n      <th>0</th>\n      <td>2017-01-03</td>\n      <td>BMC</td>\n      <td>15200.0</td>\n      <td>41607.004695</td>\n    </tr>\n    <tr>\n      <th>1</th>\n      <td>2017-01-04</td>\n      <td>BMC</td>\n      <td>14700.0</td>\n      <td>39631.872122</td>\n    </tr>\n    <tr>\n      <th>2</th>\n      <td>2017-01-05</td>\n      <td>BMC</td>\n      <td>15100.0</td>\n      <td>40734.256350</td>\n    </tr>\n    <tr>\n      <th>3</th>\n      <td>2017-01-06</td>\n      <td>BMC</td>\n      <td>15000.0</td>\n      <td>40285.184211</td>\n    </tr>\n    <tr>\n      <th>4</th>\n      <td>2017-01-09</td>\n      <td>BMC</td>\n      <td>15000.0</td>\n      <td>40933.642565</td>\n    </tr>\n    <tr>\n      <th>...</th>\n      <td>...</td>\n      <td>...</td>\n      <td>...</td>\n      <td>...</td>\n    </tr>\n    <tr>\n      <th>246</th>\n      <td>2017-12-22</td>\n      <td>BMC</td>\n      <td>15000.0</td>\n      <td>40573.754218</td>\n    </tr>\n    <tr>\n      <th>247</th>\n      <td>2017-12-26</td>\n      <td>BMC</td>\n      <td>14900.0</td>\n      <td>40700.175069</td>\n    </tr>\n    <tr>\n      <th>248</th>\n      <td>2017-12-27</td>\n      <td>BMC</td>\n      <td>15000.0</td>\n      <td>41017.742222</td>\n    </tr>\n    <tr>\n      <th>249</th>\n      <td>2017-12-28</td>\n      <td>BMC</td>\n      <td>15000.0</td>\n      <td>40627.387225</td>\n    </tr>\n    <tr>\n      <th>250</th>\n      <td>2017-12-29</td>\n      <td>BMC</td>\n      <td>15000.0</td>\n      <td>40702.701336</td>\n    </tr>\n  </tbody>\n</table>\n<p>251 rows × 4 columns</p>\n</div>"
     },
     "execution_count": 6,
     "metadata": {},
     "output_type": "execute_result"
    }
   ],
   "source": [
    "df.loc[df['tic']=='BMC',['date','tic','close','daily_returns']]"
   ],
   "metadata": {
    "collapsed": false,
    "pycharm": {
     "name": "#%%\n"
    }
   }
  },
  {
   "cell_type": "code",
   "execution_count": 23,
   "outputs": [
    {
     "data": {
      "text/plain": "0     -15.255442\n1      -3.289474\n2       2.721088\n3      -0.662252\n4       0.000000\n         ...    \n246    -0.662252\n247    -0.666667\n248     0.671141\n249     0.000000\n250     0.000000\nName: d_ret, Length: 251, dtype: float64"
     },
     "execution_count": 23,
     "metadata": {},
     "output_type": "execute_result"
    }
   ],
   "source": [
    "close_s = df.loc[df['tic']=='BMC',['close']].iloc[:,0]\n",
    "\n",
    "close_s\n",
    "daily_returns = DailyReturnIndicator(close=close_s)\n",
    "daily_returns.daily_return()"
   ],
   "metadata": {
    "collapsed": false,
    "pycharm": {
     "name": "#%%\n"
    }
   }
  },
  {
   "cell_type": "code",
   "execution_count": 82,
   "outputs": [],
   "source": [
    "yahoo = pd.read_csv('yahoo_daily_sp500_prices.csv', sep=',', parse_dates=[\"date\"],\n",
    "                    usecols=['date','open','high','low','close','volume','tic'])"
   ],
   "metadata": {
    "collapsed": false,
    "pycharm": {
     "name": "#%%\n"
    }
   }
  },
  {
   "cell_type": "code",
   "execution_count": 114,
   "outputs": [],
   "source": [
    "def set_tas(df):\n",
    "# Add Tech Indicators\n",
    "    # Exponential Moving Average\n",
    "    ema_50 = EMAIndicator(close=df[\"close\"], window=50, fillna=True)\n",
    "    ema_200 = EMAIndicator(close=df[\"close\"], window=200, fillna=True)\n",
    "    df[\"ema_50\"] = ema_50.ema_indicator()\n",
    "    df[\"ema_200\"] = ema_200.ema_indicator()\n",
    "\n",
    "    # Bollinger\n",
    "    bollinger = BollingerBands(close=df[\"close\"], window=20, window_dev=2, fillna=True)\n",
    "    # Bollinger Bands\n",
    "    df[\"bb_bbm\"] = bollinger.bollinger_mavg()\n",
    "    df[\"bb_bbh\"] = bollinger.bollinger_hband()\n",
    "    df[\"bb_bbl\"] = bollinger.bollinger_lband()\n",
    "    # Bollinger Band crossing\n",
    "    df[\"bb_bbhi\"] = bollinger.bollinger_hband_indicator()\n",
    "    df[\"bb_bbli\"] = bollinger.bollinger_lband_indicator()\n",
    "\n",
    "    # Stochastic\n",
    "    stochastic = StochasticOscillator(close=df[\"close\"], high=df[\"high\"],\n",
    "                                      low=df[\"low\"], window=14, smooth_window=7, fillna=True)\n",
    "    df[\"stoch\"] = stochastic.stoch()\n",
    "    df[\"stoch_signal\"] = stochastic.stoch_signal()\n",
    "\n",
    "    # MACD\n",
    "    macd = MACD(close=df[\"close\"], window_fast=12, window_slow=26, window_sign=9, fillna=True)\n",
    "    df[\"macd\"] = macd.macd()\n",
    "    df[\"macd_diff\"] = macd.macd_diff()\n",
    "    df[\"macd_signal\"] = macd.macd_signal()\n",
    "\n",
    "    # On Balance Volume\n",
    "    obv = OnBalanceVolumeIndicator(close=df[\"close\"], volume=df[\"volume\"], fillna=True)\n",
    "    df[\"obv\"] = obv.on_balance_volume()\n",
    "\n",
    "    # Returns\n",
    "    daily_returns = DailyReturnIndicator(close=df[\"close\"])\n",
    "    df[\"daily_returns\"] = daily_returns.daily_return()\n",
    "\n",
    "    return df"
   ],
   "metadata": {
    "collapsed": false,
    "pycharm": {
     "name": "#%%\n"
    }
   }
  },
  {
   "cell_type": "code",
   "execution_count": null,
   "outputs": [],
   "source": [
    "#get unique tics\n",
    "tics = yahoo.tic.unique()\n",
    "\n",
    "# get unique dates\n",
    "dates = yahoo.date.unique()"
   ],
   "metadata": {
    "collapsed": false,
    "pycharm": {
     "name": "#%%\n"
    }
   }
  },
  {
   "cell_type": "code",
   "execution_count": 67,
   "outputs": [
    {
     "data": {
      "text/plain": "          tic       date\n0           A 2009-01-02\n1           A 2009-01-05\n2           A 2009-01-06\n3           A 2009-01-07\n4           A 2009-01-08\n...       ...        ...\n1851255  SHLD 2020-12-23\n1851256  SHLD 2020-12-24\n1851257  SHLD 2020-12-28\n1851258  SHLD 2020-12-29\n1851259  SHLD 2020-12-30\n\n[1851260 rows x 2 columns]",
      "text/html": "<div>\n<style scoped>\n    .dataframe tbody tr th:only-of-type {\n        vertical-align: middle;\n    }\n\n    .dataframe tbody tr th {\n        vertical-align: top;\n    }\n\n    .dataframe thead th {\n        text-align: right;\n    }\n</style>\n<table border=\"1\" class=\"dataframe\">\n  <thead>\n    <tr style=\"text-align: right;\">\n      <th></th>\n      <th>tic</th>\n      <th>date</th>\n    </tr>\n  </thead>\n  <tbody>\n    <tr>\n      <th>0</th>\n      <td>A</td>\n      <td>2009-01-02</td>\n    </tr>\n    <tr>\n      <th>1</th>\n      <td>A</td>\n      <td>2009-01-05</td>\n    </tr>\n    <tr>\n      <th>2</th>\n      <td>A</td>\n      <td>2009-01-06</td>\n    </tr>\n    <tr>\n      <th>3</th>\n      <td>A</td>\n      <td>2009-01-07</td>\n    </tr>\n    <tr>\n      <th>4</th>\n      <td>A</td>\n      <td>2009-01-08</td>\n    </tr>\n    <tr>\n      <th>...</th>\n      <td>...</td>\n      <td>...</td>\n    </tr>\n    <tr>\n      <th>1851255</th>\n      <td>SHLD</td>\n      <td>2020-12-23</td>\n    </tr>\n    <tr>\n      <th>1851256</th>\n      <td>SHLD</td>\n      <td>2020-12-24</td>\n    </tr>\n    <tr>\n      <th>1851257</th>\n      <td>SHLD</td>\n      <td>2020-12-28</td>\n    </tr>\n    <tr>\n      <th>1851258</th>\n      <td>SHLD</td>\n      <td>2020-12-29</td>\n    </tr>\n    <tr>\n      <th>1851259</th>\n      <td>SHLD</td>\n      <td>2020-12-30</td>\n    </tr>\n  </tbody>\n</table>\n<p>1851260 rows × 2 columns</p>\n</div>"
     },
     "execution_count": 67,
     "metadata": {},
     "output_type": "execute_result"
    }
   ],
   "source": [
    "from itertools import product"
   ],
   "metadata": {
    "collapsed": false,
    "pycharm": {
     "name": "#%%\n"
    }
   }
  },
  {
   "cell_type": "code",
   "execution_count": 115,
   "outputs": [
    {
     "data": {
      "text/plain": "       tic       date       open       high        low      close      volume  \\\n0        A 2009-01-02  11.158798  11.659514  11.094421  10.643817   4236220.0   \n1        A 2009-01-05  11.530758  12.224607  11.444921  11.004292   7171321.0   \n2        A 2009-01-06  12.231760  13.383405  12.081545  11.882536  11834210.0   \n3        A 2009-01-07  12.768240  13.204578  12.653791  11.948078   9974171.0   \n4        A 2009-01-08  12.989986  13.218884  12.732475  12.026726   6242909.0   \n...    ...        ...        ...        ...        ...        ...         ...   \n3015  SHLD 2020-12-23  29.084999  29.084999  29.035999  28.927256      1100.0   \n3016  SHLD 2020-12-24  29.035999  29.035999  29.035999  28.927256       100.0   \n3017  SHLD 2020-12-28  29.035999  29.035999  29.035999  28.927256       100.0   \n3018  SHLD 2020-12-29  29.084999  29.084999  28.877001  28.768854         0.0   \n3019  SHLD 2020-12-30  29.084999  29.084999  29.020000  28.953163         0.0   \n\n         ema_50    ema_200     bb_bbm  ...     bb_bbl  bb_bbhi  bb_bbli  \\\n0     10.643817  10.643817  10.643817  ...  10.643817      0.0      0.0   \n1     10.657953  10.647404  10.824054  ...  10.463580      0.0      0.0   \n2     10.705976  10.659694  11.176881  ...  10.136437      0.0      0.0   \n3     10.754686  10.672513  11.369681  ...  10.248096      0.0      0.0   \n4     10.804570  10.685988  11.501090  ...  10.368546      0.0      0.0   \n...         ...        ...        ...  ...        ...      ...      ...   \n3015  27.872872  26.453719  29.050644  ...  28.298731      0.0      0.0   \n3016  27.914221  26.478332  29.042624  ...  28.289041      0.0      0.0   \n3017  27.953947  26.502699  29.037942  ...  28.282715      0.0      0.0   \n3018  27.985905  26.525248  29.056322  ...  28.347508      0.0      0.0   \n3019  28.023836  26.549406  29.083919  ...  28.439192      0.0      0.0   \n\n          stoch  stoch_signal      macd  macd_diff  macd_signal         obv  \\\n0    -79.739867    -79.739867  0.000000   0.000000     0.000000   4236220.0   \n1     -7.974780    -43.857323  0.028756   0.023005     0.005751  11407541.0   \n2     34.430768    -17.761293  0.121017   0.092213     0.028804  23241751.0   \n3     37.294145     -3.997433  0.197151   0.134677     0.062474  33215922.0   \n4     40.730064      4.948066  0.260827   0.158683     0.102144  39458831.0   \n...         ...           ...       ...        ...          ...         ...   \n3015  27.024158     25.341183  0.331810  -0.183520     0.515330     16000.0   \n3016  27.024158     23.192848  0.308166  -0.165731     0.473897     16100.0   \n3017  27.024158     21.044513  0.286130  -0.150214     0.436344     16200.0   \n3018  16.248542     17.356804  0.252968  -0.146701     0.399668     16200.0   \n3019  35.263572     17.473887  0.238806  -0.128690     0.367496     16200.0   \n\n      daily_returns  \n0        -75.734051  \n1          3.386704  \n2          7.980926  \n3          0.551584  \n4          0.658245  \n...             ...  \n3015       1.563525  \n3016       0.000000  \n3017       0.000000  \n3018      -0.547586  \n3019       0.640655  \n\n[1851260 rows x 21 columns]",
      "text/html": "<div>\n<style scoped>\n    .dataframe tbody tr th:only-of-type {\n        vertical-align: middle;\n    }\n\n    .dataframe tbody tr th {\n        vertical-align: top;\n    }\n\n    .dataframe thead th {\n        text-align: right;\n    }\n</style>\n<table border=\"1\" class=\"dataframe\">\n  <thead>\n    <tr style=\"text-align: right;\">\n      <th></th>\n      <th>tic</th>\n      <th>date</th>\n      <th>open</th>\n      <th>high</th>\n      <th>low</th>\n      <th>close</th>\n      <th>volume</th>\n      <th>ema_50</th>\n      <th>ema_200</th>\n      <th>bb_bbm</th>\n      <th>...</th>\n      <th>bb_bbl</th>\n      <th>bb_bbhi</th>\n      <th>bb_bbli</th>\n      <th>stoch</th>\n      <th>stoch_signal</th>\n      <th>macd</th>\n      <th>macd_diff</th>\n      <th>macd_signal</th>\n      <th>obv</th>\n      <th>daily_returns</th>\n    </tr>\n  </thead>\n  <tbody>\n    <tr>\n      <th>0</th>\n      <td>A</td>\n      <td>2009-01-02</td>\n      <td>11.158798</td>\n      <td>11.659514</td>\n      <td>11.094421</td>\n      <td>10.643817</td>\n      <td>4236220.0</td>\n      <td>10.643817</td>\n      <td>10.643817</td>\n      <td>10.643817</td>\n      <td>...</td>\n      <td>10.643817</td>\n      <td>0.0</td>\n      <td>0.0</td>\n      <td>-79.739867</td>\n      <td>-79.739867</td>\n      <td>0.000000</td>\n      <td>0.000000</td>\n      <td>0.000000</td>\n      <td>4236220.0</td>\n      <td>-75.734051</td>\n    </tr>\n    <tr>\n      <th>1</th>\n      <td>A</td>\n      <td>2009-01-05</td>\n      <td>11.530758</td>\n      <td>12.224607</td>\n      <td>11.444921</td>\n      <td>11.004292</td>\n      <td>7171321.0</td>\n      <td>10.657953</td>\n      <td>10.647404</td>\n      <td>10.824054</td>\n      <td>...</td>\n      <td>10.463580</td>\n      <td>0.0</td>\n      <td>0.0</td>\n      <td>-7.974780</td>\n      <td>-43.857323</td>\n      <td>0.028756</td>\n      <td>0.023005</td>\n      <td>0.005751</td>\n      <td>11407541.0</td>\n      <td>3.386704</td>\n    </tr>\n    <tr>\n      <th>2</th>\n      <td>A</td>\n      <td>2009-01-06</td>\n      <td>12.231760</td>\n      <td>13.383405</td>\n      <td>12.081545</td>\n      <td>11.882536</td>\n      <td>11834210.0</td>\n      <td>10.705976</td>\n      <td>10.659694</td>\n      <td>11.176881</td>\n      <td>...</td>\n      <td>10.136437</td>\n      <td>0.0</td>\n      <td>0.0</td>\n      <td>34.430768</td>\n      <td>-17.761293</td>\n      <td>0.121017</td>\n      <td>0.092213</td>\n      <td>0.028804</td>\n      <td>23241751.0</td>\n      <td>7.980926</td>\n    </tr>\n    <tr>\n      <th>3</th>\n      <td>A</td>\n      <td>2009-01-07</td>\n      <td>12.768240</td>\n      <td>13.204578</td>\n      <td>12.653791</td>\n      <td>11.948078</td>\n      <td>9974171.0</td>\n      <td>10.754686</td>\n      <td>10.672513</td>\n      <td>11.369681</td>\n      <td>...</td>\n      <td>10.248096</td>\n      <td>0.0</td>\n      <td>0.0</td>\n      <td>37.294145</td>\n      <td>-3.997433</td>\n      <td>0.197151</td>\n      <td>0.134677</td>\n      <td>0.062474</td>\n      <td>33215922.0</td>\n      <td>0.551584</td>\n    </tr>\n    <tr>\n      <th>4</th>\n      <td>A</td>\n      <td>2009-01-08</td>\n      <td>12.989986</td>\n      <td>13.218884</td>\n      <td>12.732475</td>\n      <td>12.026726</td>\n      <td>6242909.0</td>\n      <td>10.804570</td>\n      <td>10.685988</td>\n      <td>11.501090</td>\n      <td>...</td>\n      <td>10.368546</td>\n      <td>0.0</td>\n      <td>0.0</td>\n      <td>40.730064</td>\n      <td>4.948066</td>\n      <td>0.260827</td>\n      <td>0.158683</td>\n      <td>0.102144</td>\n      <td>39458831.0</td>\n      <td>0.658245</td>\n    </tr>\n    <tr>\n      <th>...</th>\n      <td>...</td>\n      <td>...</td>\n      <td>...</td>\n      <td>...</td>\n      <td>...</td>\n      <td>...</td>\n      <td>...</td>\n      <td>...</td>\n      <td>...</td>\n      <td>...</td>\n      <td>...</td>\n      <td>...</td>\n      <td>...</td>\n      <td>...</td>\n      <td>...</td>\n      <td>...</td>\n      <td>...</td>\n      <td>...</td>\n      <td>...</td>\n      <td>...</td>\n      <td>...</td>\n    </tr>\n    <tr>\n      <th>3015</th>\n      <td>SHLD</td>\n      <td>2020-12-23</td>\n      <td>29.084999</td>\n      <td>29.084999</td>\n      <td>29.035999</td>\n      <td>28.927256</td>\n      <td>1100.0</td>\n      <td>27.872872</td>\n      <td>26.453719</td>\n      <td>29.050644</td>\n      <td>...</td>\n      <td>28.298731</td>\n      <td>0.0</td>\n      <td>0.0</td>\n      <td>27.024158</td>\n      <td>25.341183</td>\n      <td>0.331810</td>\n      <td>-0.183520</td>\n      <td>0.515330</td>\n      <td>16000.0</td>\n      <td>1.563525</td>\n    </tr>\n    <tr>\n      <th>3016</th>\n      <td>SHLD</td>\n      <td>2020-12-24</td>\n      <td>29.035999</td>\n      <td>29.035999</td>\n      <td>29.035999</td>\n      <td>28.927256</td>\n      <td>100.0</td>\n      <td>27.914221</td>\n      <td>26.478332</td>\n      <td>29.042624</td>\n      <td>...</td>\n      <td>28.289041</td>\n      <td>0.0</td>\n      <td>0.0</td>\n      <td>27.024158</td>\n      <td>23.192848</td>\n      <td>0.308166</td>\n      <td>-0.165731</td>\n      <td>0.473897</td>\n      <td>16100.0</td>\n      <td>0.000000</td>\n    </tr>\n    <tr>\n      <th>3017</th>\n      <td>SHLD</td>\n      <td>2020-12-28</td>\n      <td>29.035999</td>\n      <td>29.035999</td>\n      <td>29.035999</td>\n      <td>28.927256</td>\n      <td>100.0</td>\n      <td>27.953947</td>\n      <td>26.502699</td>\n      <td>29.037942</td>\n      <td>...</td>\n      <td>28.282715</td>\n      <td>0.0</td>\n      <td>0.0</td>\n      <td>27.024158</td>\n      <td>21.044513</td>\n      <td>0.286130</td>\n      <td>-0.150214</td>\n      <td>0.436344</td>\n      <td>16200.0</td>\n      <td>0.000000</td>\n    </tr>\n    <tr>\n      <th>3018</th>\n      <td>SHLD</td>\n      <td>2020-12-29</td>\n      <td>29.084999</td>\n      <td>29.084999</td>\n      <td>28.877001</td>\n      <td>28.768854</td>\n      <td>0.0</td>\n      <td>27.985905</td>\n      <td>26.525248</td>\n      <td>29.056322</td>\n      <td>...</td>\n      <td>28.347508</td>\n      <td>0.0</td>\n      <td>0.0</td>\n      <td>16.248542</td>\n      <td>17.356804</td>\n      <td>0.252968</td>\n      <td>-0.146701</td>\n      <td>0.399668</td>\n      <td>16200.0</td>\n      <td>-0.547586</td>\n    </tr>\n    <tr>\n      <th>3019</th>\n      <td>SHLD</td>\n      <td>2020-12-30</td>\n      <td>29.084999</td>\n      <td>29.084999</td>\n      <td>29.020000</td>\n      <td>28.953163</td>\n      <td>0.0</td>\n      <td>28.023836</td>\n      <td>26.549406</td>\n      <td>29.083919</td>\n      <td>...</td>\n      <td>28.439192</td>\n      <td>0.0</td>\n      <td>0.0</td>\n      <td>35.263572</td>\n      <td>17.473887</td>\n      <td>0.238806</td>\n      <td>-0.128690</td>\n      <td>0.367496</td>\n      <td>16200.0</td>\n      <td>0.640655</td>\n    </tr>\n  </tbody>\n</table>\n<p>1851260 rows × 21 columns</p>\n</div>"
     },
     "execution_count": 115,
     "metadata": {},
     "output_type": "execute_result"
    }
   ],
   "source": [
    "all = pd.merge(temp, yahoo, on=['date','tic'], how='left')\n",
    "all.loc[all['open'].isnull()]\n",
    "count = 0\n",
    "for tic in tics:\n",
    "    count += 1\n",
    "    # one row for each tic/date\n",
    "    df = pd.DataFrame(product([tic],dates),columns=['tic','date'])\n",
    "    df = pd.merge(df, yahoo.loc[yahoo.tic==tic], on=['tic','date'], how='left')\n",
    "    df = set_tas(df)\n",
    "    final = pd.concat([final,df]) if count > 1 else df\n",
    "\n",
    "final"
   ],
   "metadata": {
    "collapsed": false,
    "pycharm": {
     "name": "#%%\n"
    }
   }
  },
  {
   "cell_type": "code",
   "execution_count": 90,
   "outputs": [
    {
     "data": {
      "text/plain": "     tic       date\n0      A 2009-01-02\n1      A 2009-01-05\n2      A 2009-01-06\n3      A 2009-01-07\n4      A 2009-01-08\n...   ..        ...\n3015   A 2020-12-23\n3016   A 2020-12-24\n3017   A 2020-12-28\n3018   A 2020-12-29\n3019   A 2020-12-30\n\n[3020 rows x 2 columns]",
      "text/html": "<div>\n<style scoped>\n    .dataframe tbody tr th:only-of-type {\n        vertical-align: middle;\n    }\n\n    .dataframe tbody tr th {\n        vertical-align: top;\n    }\n\n    .dataframe thead th {\n        text-align: right;\n    }\n</style>\n<table border=\"1\" class=\"dataframe\">\n  <thead>\n    <tr style=\"text-align: right;\">\n      <th></th>\n      <th>tic</th>\n      <th>date</th>\n    </tr>\n  </thead>\n  <tbody>\n    <tr>\n      <th>0</th>\n      <td>A</td>\n      <td>2009-01-02</td>\n    </tr>\n    <tr>\n      <th>1</th>\n      <td>A</td>\n      <td>2009-01-05</td>\n    </tr>\n    <tr>\n      <th>2</th>\n      <td>A</td>\n      <td>2009-01-06</td>\n    </tr>\n    <tr>\n      <th>3</th>\n      <td>A</td>\n      <td>2009-01-07</td>\n    </tr>\n    <tr>\n      <th>4</th>\n      <td>A</td>\n      <td>2009-01-08</td>\n    </tr>\n    <tr>\n      <th>...</th>\n      <td>...</td>\n      <td>...</td>\n    </tr>\n    <tr>\n      <th>3015</th>\n      <td>A</td>\n      <td>2020-12-23</td>\n    </tr>\n    <tr>\n      <th>3016</th>\n      <td>A</td>\n      <td>2020-12-24</td>\n    </tr>\n    <tr>\n      <th>3017</th>\n      <td>A</td>\n      <td>2020-12-28</td>\n    </tr>\n    <tr>\n      <th>3018</th>\n      <td>A</td>\n      <td>2020-12-29</td>\n    </tr>\n    <tr>\n      <th>3019</th>\n      <td>A</td>\n      <td>2020-12-30</td>\n    </tr>\n  </tbody>\n</table>\n<p>3020 rows × 2 columns</p>\n</div>"
     },
     "execution_count": 90,
     "metadata": {},
     "output_type": "execute_result"
    }
   ],
   "source": [
    "pd.DataFrame(product('A',dates),columns=['tic','date'])"
   ],
   "metadata": {
    "collapsed": false,
    "pycharm": {
     "name": "#%%\n"
    }
   }
  },
  {
   "cell_type": "code",
   "execution_count": 108,
   "outputs": [
    {
     "data": {
      "text/plain": "        tic       date\n0     GOOGL 2009-01-02\n1     GOOGL 2009-01-05\n2     GOOGL 2009-01-06\n3     GOOGL 2009-01-07\n4     GOOGL 2009-01-08\n...     ...        ...\n3015  GOOGL 2020-12-23\n3016  GOOGL 2020-12-24\n3017  GOOGL 2020-12-28\n3018  GOOGL 2020-12-29\n3019  GOOGL 2020-12-30\n\n[3020 rows x 2 columns]",
      "text/html": "<div>\n<style scoped>\n    .dataframe tbody tr th:only-of-type {\n        vertical-align: middle;\n    }\n\n    .dataframe tbody tr th {\n        vertical-align: top;\n    }\n\n    .dataframe thead th {\n        text-align: right;\n    }\n</style>\n<table border=\"1\" class=\"dataframe\">\n  <thead>\n    <tr style=\"text-align: right;\">\n      <th></th>\n      <th>tic</th>\n      <th>date</th>\n    </tr>\n  </thead>\n  <tbody>\n    <tr>\n      <th>0</th>\n      <td>GOOGL</td>\n      <td>2009-01-02</td>\n    </tr>\n    <tr>\n      <th>1</th>\n      <td>GOOGL</td>\n      <td>2009-01-05</td>\n    </tr>\n    <tr>\n      <th>2</th>\n      <td>GOOGL</td>\n      <td>2009-01-06</td>\n    </tr>\n    <tr>\n      <th>3</th>\n      <td>GOOGL</td>\n      <td>2009-01-07</td>\n    </tr>\n    <tr>\n      <th>4</th>\n      <td>GOOGL</td>\n      <td>2009-01-08</td>\n    </tr>\n    <tr>\n      <th>...</th>\n      <td>...</td>\n      <td>...</td>\n    </tr>\n    <tr>\n      <th>3015</th>\n      <td>GOOGL</td>\n      <td>2020-12-23</td>\n    </tr>\n    <tr>\n      <th>3016</th>\n      <td>GOOGL</td>\n      <td>2020-12-24</td>\n    </tr>\n    <tr>\n      <th>3017</th>\n      <td>GOOGL</td>\n      <td>2020-12-28</td>\n    </tr>\n    <tr>\n      <th>3018</th>\n      <td>GOOGL</td>\n      <td>2020-12-29</td>\n    </tr>\n    <tr>\n      <th>3019</th>\n      <td>GOOGL</td>\n      <td>2020-12-30</td>\n    </tr>\n  </tbody>\n</table>\n<p>3020 rows × 2 columns</p>\n</div>"
     },
     "execution_count": 108,
     "metadata": {},
     "output_type": "execute_result"
    }
   ],
   "source": [
    "tic='GOOGL'\n",
    "df = pd.DataFrame(product([tic],dates),columns=['tic','date'])\n",
    "#df = pd.merge(df, yahoo.loc[yahoo.tic==tic], on=['tic','date'], how='left')\n",
    "#final = df\n",
    "#final = pd.concat([final,df])\n",
    "#final\n",
    "df"
   ],
   "metadata": {
    "collapsed": false,
    "pycharm": {
     "name": "#%%\n"
    }
   }
  },
  {
   "cell_type": "code",
   "execution_count": 116,
   "outputs": [],
   "source": [
    "final.to_csv('all_sp500_ta.csv')\n",
    "\n",
    "\n",
    "\n",
    "\n",
    "\n",
    "\n",
    "\n",
    "\n",
    "\n",
    "\n",
    "\n",
    "\n",
    "\n",
    "\n"
   ],
   "metadata": {
    "collapsed": false,
    "pycharm": {
     "name": "#%%\n"
    }
   }
  }
 ],
 "metadata": {
  "kernelspec": {
   "display_name": "Python 3",
   "language": "python",
   "name": "python3"
  },
  "language_info": {
   "codemirror_mode": {
    "name": "ipython",
    "version": 2
   },
   "file_extension": ".py",
   "mimetype": "text/x-python",
   "name": "python",
   "nbconvert_exporter": "python",
   "pygments_lexer": "ipython2",
   "version": "2.7.6"
  }
 },
 "nbformat": 4,
 "nbformat_minor": 0
}