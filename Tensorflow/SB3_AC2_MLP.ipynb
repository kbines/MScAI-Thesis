{
 "nbformat": 4,
 "nbformat_minor": 0,
 "metadata": {
  "kernelspec": {
   "display_name": "Python 3",
   "language": "python",
   "name": "python3"
  },
  "language_info": {
   "codemirror_mode": {
    "name": "ipython",
    "version": 2
   },
   "file_extension": ".py",
   "mimetype": "text/x-python",
   "name": "python",
   "nbconvert_exporter": "python",
   "pygments_lexer": "ipython2",
   "version": "2.7.6"
  },
  "colab": {
   "name": "Example.ipynb",
   "provenance": [],
   "collapsed_sections": []
  },
  "accelerator": "GPU"
 },
 "cells": [
  {
   "cell_type": "code",
   "metadata": {
    "collapsed": true,
    "id": "UMwfnZQ48f3n",
    "executionInfo": {
     "status": "ok",
     "timestamp": 1628675770654,
     "user_tz": -60,
     "elapsed": 523,
     "user": {
      "displayName": "Keith Bines",
      "photoUrl": "https://lh3.googleusercontent.com/a-/AOh14Gh-1rHYFN7Yxp7RK0dmcaDIhb3bISQHVPcOLlyYAA=s64",
      "userId": "04847342589282886972"
     }
    }
   },
   "source": [
    "import gym\n",
    "import PortfolioAllocationGym\n",
    "import numpy as np\n",
    "from stable_baselines3.common.monitor import Monitor\n",
    "from stable_baselines3.common.evaluation import evaluate_policy\n",
    "from stable_baselines3.common.env_checker import check_env"
   ],
   "execution_count": 1,
   "outputs": []
  },
  {
   "cell_type": "code",
   "metadata": {
    "pycharm": {
     "name": "#%%\n"
    },
    "id": "Au1mKD618f3w",
    "executionInfo": {
     "status": "ok",
     "timestamp": 1628675850134,
     "user_tz": -60,
     "elapsed": 9939,
     "user": {
      "displayName": "Keith Bines",
      "photoUrl": "https://lh3.googleusercontent.com/a-/AOh14Gh-1rHYFN7Yxp7RK0dmcaDIhb3bISQHVPcOLlyYAA=s64",
      "userId": "04847342589282886972"
     }
    }
   },
   "source": [
    "env_kwargs = {'filename':'sp500.csv',\n",
    "    'date_from':'2008-01-01',\n",
    "    'date_to':'2017-12-31',\n",
    "    'investment':1000000,\n",
    "    'risk_free_rate': 0.5, # approx US Treasury Note return\n",
    "    'sample_size':100,\n",
    "    'random_sample':True,\n",
    "    'reward_function':'daily_returns'}\n",
    "\n",
    "train_env = gym.make('PortfolioAllocation-v0', **env_kwargs)"
   ],
   "execution_count": 27,
   "outputs": []
  },
  {
   "cell_type": "code",
   "execution_count": 28,
   "outputs": [
    {
     "name": "stderr",
     "output_type": "stream",
     "text": [
      "C:\\Users\\kbine\\anaconda3\\envs\\PortfolioAllocationRL\\lib\\site-packages\\stable_baselines3\\common\\env_checker.py:130: UserWarning: Your observation  has an unconventional shape (neither an image, nor a 1D vector). We recommend you to flatten the observation to have only a 1D vector or use a custom policy to properly process the data.\n",
      "  warnings.warn(\n",
      "C:\\Users\\kbine\\anaconda3\\envs\\PortfolioAllocationRL\\lib\\site-packages\\stable_baselines3\\common\\env_checker.py:272: UserWarning: We recommend you to use a symmetric and normalized Box action space (range=[-1, 1]) cf https://stable-baselines3.readthedocs.io/en/master/guide/rl_tips.html\n",
      "  warnings.warn(\n",
      "C:\\Users\\kbine\\anaconda3\\envs\\PortfolioAllocationRL\\lib\\site-packages\\pandas\\core\\frame.py:3607: SettingWithCopyWarning: \n",
      "A value is trying to be set on a copy of a slice from a DataFrame.\n",
      "Try using .loc[row_indexer,col_indexer] = value instead\n",
      "\n",
      "See the caveats in the documentation: https://pandas.pydata.org/pandas-docs/stable/user_guide/indexing.html#returning-a-view-versus-a-copy\n",
      "  self._set_item(key, value)\n"
     ]
    }
   ],
   "source": [
    "check_env(train_env)"
   ],
   "metadata": {
    "collapsed": false,
    "pycharm": {
     "name": "#%%\n"
    }
   }
  },
  {
   "cell_type": "code",
   "execution_count": 29,
   "outputs": [],
   "source": [
    "venv, obs = train_env.get_sb_env()"
   ],
   "metadata": {
    "collapsed": false,
    "pycharm": {
     "name": "#%%\n"
    }
   }
  },
  {
   "cell_type": "code",
   "metadata": {
    "pycharm": {
     "name": "#%%\n"
    },
    "id": "4cLMqQlb8f30"
   },
   "source": [
    "from stable_baselines3 import A2C\n",
    "from stable_baselines3.a2c import MlpPolicy"
   ],
   "execution_count": 30,
   "outputs": []
  },
  {
   "cell_type": "code",
   "metadata": {
    "pycharm": {
     "name": "#%%\n"
    },
    "id": "pmyfRQxy8f33"
   },
   "source": [
    "import torch\n",
    "\n",
    "model_kwargs =   {'gamma': 0.9999,\n",
    "    'normalize_advantage': False,\n",
    "    'max_grad_norm': 0.7,\n",
    "    'use_rms_prop': False,\n",
    "    'gae_lambda': 0.92,\n",
    "    'n_steps': 10,\n",
    "    'learning_rate': 0.0038610316815332825,\n",
    "    'ent_coef': 0.012292116134058367,\n",
    "    'vf_coef': 0.7960524189522955,\n",
    "    'policy_kwargs': dict(\n",
    "        log_std_init=-3.353286611055509,\n",
    "        ortho_init= False,\n",
    "        activation_fn=torch.nn.modules.activation.ReLU,\n",
    "        net_arch=[dict(pi=[64, 64, 64], vf=[64, 64, 64])])\n",
    "    }\n",
    "a2c_model = A2C(policy = MlpPolicy,\n",
    "                env = venv,\n",
    "                **model_kwargs)\n"
   ],
   "execution_count": 31,
   "outputs": []
  },
  {
   "cell_type": "code",
   "metadata": {
    "pycharm": {
     "name": "#%%\n"
    },
    "id": "1QwoU6Fu8f36"
   },
   "source": [
    "from PortfolioAllocationGym.callbacks import TensorBoardCallback as tbc\n",
    "from datetime import datetime"
   ],
   "execution_count": 32,
   "outputs": []
  },
  {
   "cell_type": "code",
   "execution_count": 34,
   "outputs": [
    {
     "name": "stdout",
     "output_type": "stream",
     "text": [
      "day: 2516                 reward: 30.821                 sharpe: 0.282                  psr: 0.000                  cum. rtns: 113.917                 portf val: 2,139,165.56\n",
      "day: 2516                 reward: 23.657                 sharpe: 0.282                  psr: 0.000                  cum. rtns: 127.399                 portf val: 2,273,989.57\n",
      "day: 2516                 reward: 31.044                 sharpe: 0.190                  psr: 0.000                  cum. rtns: 142.567                 portf val: 2,425,673.07\n",
      "day: 2516                 reward: 19.775                 sharpe: 0.391                  psr: 0.000                  cum. rtns: 234.174                 portf val: 3,341,744.99\n",
      "mean_reward:14.92 +/- 5.43\n",
      "day: 2516                 reward: 20.070                 sharpe: 0.270                  psr: 0.000                  cum. rtns: 203.444                 portf val: 3,034,441.53\n",
      "day: 2516                 reward: 13.728                 sharpe: 0.192                  psr: 0.000                  cum. rtns: 165.533                 portf val: 2,655,326.17\n",
      "day: 2516                 reward: 32.672                 sharpe: 0.290                  psr: 0.000                  cum. rtns: 205.599                 portf val: 3,055,992.37\n",
      "day: 2516                 reward: 24.743                 sharpe: 0.372                  psr: 0.000                  cum. rtns: 242.303                 portf val: 3,423,034.89\n",
      "day: 2516                 reward: 20.626                 sharpe: 0.389                  psr: 0.000                  cum. rtns: 207.913                 portf val: 3,079,127.18\n",
      "mean_reward:20.59 +/- 1.54\n"
     ]
    }
   ],
   "source": [
    "# Random Agent, before training\n",
    "mean_reward, std_reward = evaluate_policy(a2c_model, venv, n_eval_episodes=5)\n",
    "print(f\"mean_reward:{mean_reward:.2f} +/- {std_reward:.2f}\")"
   ],
   "metadata": {
    "collapsed": false,
    "pycharm": {
     "name": "#%%\n"
    }
   }
  },
  {
   "cell_type": "code",
   "metadata": {
    "pycharm": {
     "name": "#%%\n"
    },
    "id": "rC1P65268f3-"
   },
   "source": [
    "#total_timesteps = 2 * (len(train_env.venv.venv.envs[0].data.date.unique())-1)\n",
    "total_timesteps = 200 * (len(train_env.data.date.unique())-1)\n",
    "trained_a2c_model= a2c_model.learn(total_timesteps=total_timesteps,\n",
    "                                   tb_log_name='A2C'+datetime.now().strftime(\"%H-%M\"))"
   ],
   "execution_count": 35,
   "outputs": [
    {
     "name": "stdout",
     "output_type": "stream",
     "text": [
      "day: 2516                 reward: 30.884                 sharpe: 0.379                  psr: 0.000                  cum. rtns: 185.604                 portf val: 2,856,043.11\n",
      "day: 2516                 reward: 24.204                 sharpe: 0.363                  psr: 0.000                  cum. rtns: 179.938                 portf val: 2,799,375.63\n",
      "day: 2516                 reward: 24.051                 sharpe: 0.095                  psr: 0.000                  cum. rtns: 157.827                 portf val: 2,578,268.11\n",
      "day: 2516                 reward: 11.469                 sharpe: 0.365                  psr: 0.000                  cum. rtns: 127.689                 portf val: 2,276,893.38\n",
      "day: 2516                 reward: 21.310                 sharpe: 0.372                  psr: 0.000                  cum. rtns: 139.462                 portf val: 2,394,623.82\n",
      "day: 2516                 reward: 25.373                 sharpe: 0.220                  psr: 0.000                  cum. rtns: 145.405                 portf val: 2,454,053.51\n",
      "day: 2516                 reward: 22.091                 sharpe: 0.411                  psr: 0.000                  cum. rtns: 176.850                 portf val: 2,768,503.87\n",
      "day: 2516                 reward: 22.145                 sharpe: 0.217                  psr: 0.000                  cum. rtns: 157.110                 portf val: 2,571,102.47\n",
      "day: 2516                 reward: 39.792                 sharpe: 0.262                  psr: 0.000                  cum. rtns: 159.804                 portf val: 2,598,043.92\n",
      "day: 2516                 reward: 13.414                 sharpe: 0.319                  psr: 0.000                  cum. rtns: 183.349                 portf val: 2,833,492.97\n",
      "day: 2516                 reward: 16.928                 sharpe: 0.286                  psr: 0.000                  cum. rtns: 154.404                 portf val: 2,544,042.66\n",
      "day: 2516                 reward: 17.836                 sharpe: 0.452                  psr: 0.000                  cum. rtns: 110.553                 portf val: 2,105,533.61\n",
      "day: 2516                 reward: 24.113                 sharpe: 0.256                  psr: 0.000                  cum. rtns: 220.872                 portf val: 3,208,719.37\n",
      "day: 2516                 reward: 21.491                 sharpe: 0.306                  psr: 0.000                  cum. rtns: 133.802                 portf val: 2,338,023.11\n",
      "day: 2516                 reward: 18.061                 sharpe: 0.294                  psr: 0.000                  cum. rtns: 183.266                 portf val: 2,832,664.98\n",
      "day: 2516                 reward: 16.472                 sharpe: 0.327                  psr: 0.000                  cum. rtns: 141.914                 portf val: 2,419,140.75\n",
      "day: 2516                 reward: 13.596                 sharpe: 0.235                  psr: 0.000                  cum. rtns: 117.664                 portf val: 2,176,640.02\n",
      "day: 2516                 reward: 9.127                 sharpe: 0.510                  psr: 0.000                  cum. rtns: 171.651                 portf val: 2,716,512.82\n",
      "day: 2516                 reward: 34.683                 sharpe: 0.354                  psr: 0.000                  cum. rtns: 156.682                 portf val: 2,566,815.85\n",
      "day: 2516                 reward: 23.345                 sharpe: 0.272                  psr: 0.000                  cum. rtns: 177.248                 portf val: 2,772,484.84\n",
      "day: 2516                 reward: 13.440                 sharpe: 0.513                  psr: 0.000                  cum. rtns: 209.696                 portf val: 3,096,956.76\n",
      "day: 2516                 reward: 38.577                 sharpe: 0.510                  psr: 0.000                  cum. rtns: 231.356                 portf val: 3,313,561.14\n",
      "day: 2516                 reward: 13.496                 sharpe: 0.265                  psr: 0.000                  cum. rtns: 156.785                 portf val: 2,567,845.98\n",
      "day: 2516                 reward: 17.786                 sharpe: 0.361                  psr: 0.000                  cum. rtns: 123.976                 portf val: 2,239,759.18\n",
      "day: 2516                 reward: 18.273                 sharpe: 0.397                  psr: 0.000                  cum. rtns: 202.601                 portf val: 3,026,008.14\n",
      "day: 2516                 reward: 16.646                 sharpe: 0.530                  psr: 0.000                  cum. rtns: 249.089                 portf val: 3,490,885.68\n",
      "day: 2516                 reward: 16.643                 sharpe: 0.366                  psr: 0.000                  cum. rtns: 181.227                 portf val: 2,812,271.39\n",
      "day: 2516                 reward: 22.228                 sharpe: 0.430                  psr: 0.000                  cum. rtns: 176.708                 portf val: 2,767,083.93\n",
      "day: 2516                 reward: 18.717                 sharpe: 0.307                  psr: 0.000                  cum. rtns: 168.131                 portf val: 2,681,305.46\n",
      "day: 2516                 reward: 13.770                 sharpe: 0.443                  psr: 0.000                  cum. rtns: 198.612                 portf val: 2,986,115.42\n",
      "day: 2516                 reward: 23.309                 sharpe: 0.318                  psr: 0.000                  cum. rtns: 153.896                 portf val: 2,538,962.90\n",
      "day: 2516                 reward: 12.026                 sharpe: 0.156                  psr: 0.000                  cum. rtns: 153.695                 portf val: 2,536,954.59\n",
      "day: 2516                 reward: 31.480                 sharpe: 0.406                  psr: 0.000                  cum. rtns: 194.175                 portf val: 2,941,750.52\n",
      "day: 2516                 reward: 14.627                 sharpe: 0.257                  psr: 0.000                  cum. rtns: 151.968                 portf val: 2,519,681.45\n",
      "day: 2516                 reward: 18.658                 sharpe: 0.313                  psr: 0.000                  cum. rtns: 181.669                 portf val: 2,816,689.68\n",
      "day: 2516                 reward: 8.231                 sharpe: 0.271                  psr: 0.000                  cum. rtns: 238.658                 portf val: 3,386,575.27\n",
      "day: 2516                 reward: 6.332                 sharpe: 0.278                  psr: 0.000                  cum. rtns: 190.425                 portf val: 2,904,251.64\n",
      "day: 2516                 reward: 13.868                 sharpe: 0.403                  psr: 0.000                  cum. rtns: 124.892                 portf val: 2,248,918.96\n",
      "day: 2516                 reward: 19.356                 sharpe: 0.348                  psr: 0.000                  cum. rtns: 214.674                 portf val: 3,146,739.31\n",
      "day: 2516                 reward: 19.531                 sharpe: 0.340                  psr: 0.000                  cum. rtns: 206.401                 portf val: 3,064,011.60\n",
      "day: 2516                 reward: 19.605                 sharpe: 0.206                  psr: 0.000                  cum. rtns: 151.402                 portf val: 2,514,023.13\n",
      "day: 2516                 reward: 37.415                 sharpe: 0.304                  psr: 0.000                  cum. rtns: 161.152                 portf val: 2,611,515.01\n",
      "day: 2516                 reward: 15.473                 sharpe: 0.318                  psr: 0.000                  cum. rtns: 168.861                 portf val: 2,688,608.57\n",
      "day: 2516                 reward: 27.287                 sharpe: 0.330                  psr: 0.000                  cum. rtns: 174.628                 portf val: 2,746,283.59\n",
      "day: 2516                 reward: 10.823                 sharpe: 0.356                  psr: 0.000                  cum. rtns: 174.627                 portf val: 2,746,267.87\n",
      "day: 2516                 reward: 18.389                 sharpe: 0.201                  psr: 0.000                  cum. rtns: 175.852                 portf val: 2,758,520.23\n",
      "day: 2516                 reward: 17.858                 sharpe: 0.396                  psr: 0.000                  cum. rtns: 196.773                 portf val: 2,967,732.44\n",
      "day: 2516                 reward: 16.713                 sharpe: 0.370                  psr: 0.000                  cum. rtns: 133.756                 portf val: 2,337,557.68\n",
      "day: 2516                 reward: 29.354                 sharpe: 0.364                  psr: 0.000                  cum. rtns: 196.435                 portf val: 2,964,353.95\n",
      "day: 2516                 reward: 23.402                 sharpe: 0.244                  psr: 0.000                  cum. rtns: 138.778                 portf val: 2,387,775.16\n",
      "day: 2516                 reward: 19.384                 sharpe: 0.427                  psr: 0.000                  cum. rtns: 174.177                 portf val: 2,741,770.47\n",
      "day: 2516                 reward: 12.635                 sharpe: 0.383                  psr: 0.000                  cum. rtns: 158.939                 portf val: 2,589,386.36\n",
      "day: 2516                 reward: 17.738                 sharpe: 0.241                  psr: 0.000                  cum. rtns: 145.014                 portf val: 2,450,138.41\n",
      "day: 2516                 reward: 24.172                 sharpe: 0.403                  psr: 0.000                  cum. rtns: 191.461                 portf val: 2,914,612.84\n",
      "day: 2516                 reward: 19.968                 sharpe: 0.305                  psr: 0.000                  cum. rtns: 135.381                 portf val: 2,353,813.49\n",
      "day: 2516                 reward: 20.575                 sharpe: 0.270                  psr: 0.000                  cum. rtns: 170.908                 portf val: 2,709,076.54\n",
      "day: 2516                 reward: 16.425                 sharpe: 0.594                  psr: 0.000                  cum. rtns: 202.618                 portf val: 3,026,176.45\n",
      "day: 2516                 reward: 23.622                 sharpe: 0.325                  psr: 0.000                  cum. rtns: 169.149                 portf val: 2,691,489.56\n",
      "day: 2516                 reward: 33.255                 sharpe: 0.216                  psr: 0.000                  cum. rtns: 177.537                 portf val: 2,775,373.10\n",
      "day: 2516                 reward: 13.803                 sharpe: 0.513                  psr: 0.000                  cum. rtns: 192.217                 portf val: 2,922,174.13\n",
      "day: 2516                 reward: 18.717                 sharpe: 0.593                  psr: 0.000                  cum. rtns: 227.327                 portf val: 3,273,266.31\n",
      "day: 2516                 reward: 21.172                 sharpe: 0.240                  psr: 0.000                  cum. rtns: 176.950                 portf val: 2,769,502.54\n",
      "day: 2516                 reward: 22.056                 sharpe: 0.379                  psr: 0.000                  cum. rtns: 170.201                 portf val: 2,702,005.34\n",
      "day: 2516                 reward: 12.618                 sharpe: 0.447                  psr: 0.000                  cum. rtns: 202.482                 portf val: 3,024,821.40\n",
      "day: 2516                 reward: 8.775                 sharpe: 0.385                  psr: 0.000                  cum. rtns: 182.842                 portf val: 2,828,416.36\n",
      "day: 2516                 reward: 21.517                 sharpe: 0.353                  psr: 0.000                  cum. rtns: 167.915                 portf val: 2,679,146.85\n",
      "day: 2516                 reward: 16.395                 sharpe: 0.184                  psr: 0.000                  cum. rtns: 79.614                 portf val: 1,796,139.81\n",
      "day: 2516                 reward: 32.066                 sharpe: 0.377                  psr: 0.000                  cum. rtns: 186.261                 portf val: 2,862,612.15\n",
      "day: 2516                 reward: 21.106                 sharpe: 0.341                  psr: 0.000                  cum. rtns: 170.472                 portf val: 2,704,718.55\n",
      "day: 2516                 reward: 25.498                 sharpe: 0.313                  psr: 0.000                  cum. rtns: 136.092                 portf val: 2,360,920.45\n",
      "day: 2516                 reward: 13.786                 sharpe: 0.359                  psr: 0.000                  cum. rtns: 177.849                 portf val: 2,778,492.41\n",
      "day: 2516                 reward: 17.691                 sharpe: 0.582                  psr: 0.000                  cum. rtns: 154.687                 portf val: 2,546,866.12\n",
      "day: 2516                 reward: 26.087                 sharpe: 0.399                  psr: 0.000                  cum. rtns: 235.925                 portf val: 3,359,252.30\n",
      "day: 2516                 reward: 14.276                 sharpe: 0.240                  psr: 0.000                  cum. rtns: 136.641                 portf val: 2,366,414.04\n",
      "day: 2516                 reward: 21.385                 sharpe: 0.330                  psr: 0.000                  cum. rtns: 162.069                 portf val: 2,620,686.82\n",
      "day: 2516                 reward: 31.454                 sharpe: 0.237                  psr: 0.000                  cum. rtns: 151.532                 portf val: 2,515,316.93\n",
      "day: 2516                 reward: 16.755                 sharpe: 0.324                  psr: 0.000                  cum. rtns: 131.988                 portf val: 2,319,878.40\n",
      "day: 2516                 reward: 18.603                 sharpe: 0.356                  psr: 0.000                  cum. rtns: 196.382                 portf val: 2,963,818.58\n",
      "day: 2516                 reward: 19.111                 sharpe: 0.341                  psr: 0.000                  cum. rtns: 168.055                 portf val: 2,680,553.75\n",
      "day: 2516                 reward: 20.296                 sharpe: 0.455                  psr: 0.000                  cum. rtns: 207.146                 portf val: 3,071,461.01\n",
      "day: 2516                 reward: 12.574                 sharpe: 0.352                  psr: 0.000                  cum. rtns: 180.506                 portf val: 2,805,063.38\n",
      "day: 2516                 reward: 18.577                 sharpe: 0.386                  psr: 0.000                  cum. rtns: 152.247                 portf val: 2,522,467.44\n",
      "day: 2516                 reward: 14.560                 sharpe: 0.320                  psr: 0.000                  cum. rtns: 163.658                 portf val: 2,636,576.20\n",
      "day: 2516                 reward: 18.504                 sharpe: 0.143                  psr: 0.000                  cum. rtns: 160.532                 portf val: 2,605,315.52\n",
      "day: 2516                 reward: 31.383                 sharpe: 0.329                  psr: 0.000                  cum. rtns: 219.182                 portf val: 3,191,822.88\n",
      "day: 2516                 reward: 21.247                 sharpe: 0.344                  psr: 0.000                  cum. rtns: 144.102                 portf val: 2,441,016.55\n",
      "day: 2516                 reward: 12.252                 sharpe: 0.210                  psr: 0.000                  cum. rtns: 152.955                 portf val: 2,529,547.28\n",
      "day: 2516                 reward: 7.296                 sharpe: 0.211                  psr: 0.000                  cum. rtns: 164.746                 portf val: 2,647,457.47\n",
      "day: 2516                 reward: 19.517                 sharpe: 0.365                  psr: 0.000                  cum. rtns: 161.456                 portf val: 2,614,555.30\n",
      "day: 2516                 reward: 12.368                 sharpe: 0.383                  psr: 0.000                  cum. rtns: 167.638                 portf val: 2,676,375.83\n",
      "day: 2516                 reward: 17.631                 sharpe: 0.482                  psr: 0.000                  cum. rtns: 231.380                 portf val: 3,313,803.00\n",
      "day: 2516                 reward: 30.254                 sharpe: 0.384                  psr: 0.000                  cum. rtns: 199.379                 portf val: 2,993,790.72\n",
      "day: 2516                 reward: 34.370                 sharpe: 0.347                  psr: 0.000                  cum. rtns: 170.911                 portf val: 2,709,112.50\n",
      "day: 2516                 reward: 9.390                 sharpe: 0.615                  psr: 0.000                  cum. rtns: 203.056                 portf val: 3,030,562.34\n",
      "day: 2516                 reward: 15.077                 sharpe: 0.397                  psr: 0.000                  cum. rtns: 217.269                 portf val: 3,172,689.93\n",
      "day: 2516                 reward: 12.824                 sharpe: 0.309                  psr: 0.000                  cum. rtns: 173.941                 portf val: 2,739,408.72\n",
      "day: 2516                 reward: 10.721                 sharpe: 0.415                  psr: 0.000                  cum. rtns: 196.048                 portf val: 2,960,477.11\n",
      "day: 2516                 reward: 8.731                 sharpe: 0.319                  psr: 0.000                  cum. rtns: 144.084                 portf val: 2,440,836.15\n",
      "day: 2516                 reward: 5.467                 sharpe: 0.339                  psr: 0.000                  cum. rtns: 159.299                 portf val: 2,592,988.34\n",
      "day: 2516                 reward: 16.904                 sharpe: 0.210                  psr: 0.000                  cum. rtns: 146.839                 portf val: 2,468,388.24\n",
      "day: 2516                 reward: 18.448                 sharpe: 0.450                  psr: 0.000                  cum. rtns: 188.386                 portf val: 2,883,864.51\n",
      "day: 2516                 reward: 32.804                 sharpe: 0.357                  psr: 0.000                  cum. rtns: 171.961                 portf val: 2,719,610.13\n",
      "day: 2516                 reward: 24.473                 sharpe: 0.288                  psr: 0.000                  cum. rtns: 112.394                 portf val: 2,123,938.01\n",
      "day: 2516                 reward: 17.651                 sharpe: 0.370                  psr: 0.000                  cum. rtns: 213.741                 portf val: 3,137,413.80\n",
      "day: 2516                 reward: 15.361                 sharpe: 0.403                  psr: 0.000                  cum. rtns: 129.323                 portf val: 2,293,232.20\n",
      "day: 2516                 reward: 16.571                 sharpe: 0.285                  psr: 0.000                  cum. rtns: 180.234                 portf val: 2,802,336.01\n",
      "day: 2516                 reward: 9.755                 sharpe: 0.463                  psr: 0.000                  cum. rtns: 215.219                 portf val: 3,152,191.38\n",
      "day: 2516                 reward: 35.266                 sharpe: 0.222                  psr: 0.000                  cum. rtns: 128.708                 portf val: 2,287,079.77\n",
      "day: 2516                 reward: 17.725                 sharpe: 0.302                  psr: 0.000                  cum. rtns: 183.311                 portf val: 2,833,105.41\n",
      "day: 2516                 reward: 29.190                 sharpe: 0.241                  psr: 0.000                  cum. rtns: 151.765                 portf val: 2,517,648.55\n",
      "day: 2516                 reward: 18.282                 sharpe: 0.249                  psr: 0.000                  cum. rtns: 111.046                 portf val: 2,110,457.83\n",
      "day: 2516                 reward: 33.650                 sharpe: 0.330                  psr: 0.000                  cum. rtns: 181.880                 portf val: 2,818,801.52\n",
      "day: 2516                 reward: 18.652                 sharpe: 0.415                  psr: 0.000                  cum. rtns: 177.733                 portf val: 2,777,326.45\n",
      "day: 2516                 reward: 18.843                 sharpe: 0.218                  psr: 0.000                  cum. rtns: 134.712                 portf val: 2,347,115.25\n",
      "day: 2516                 reward: 10.838                 sharpe: 0.286                  psr: 0.000                  cum. rtns: 143.485                 portf val: 2,434,854.64\n",
      "day: 2516                 reward: 20.868                 sharpe: 0.360                  psr: 0.000                  cum. rtns: 146.415                 portf val: 2,464,149.56\n",
      "day: 2516                 reward: 22.970                 sharpe: 0.370                  psr: 0.000                  cum. rtns: 183.448                 portf val: 2,834,484.45\n",
      "day: 2516                 reward: 9.421                 sharpe: 0.183                  psr: 0.000                  cum. rtns: 155.088                 portf val: 2,550,881.84\n",
      "day: 2516                 reward: 17.912                 sharpe: 0.505                  psr: 0.000                  cum. rtns: 160.255                 portf val: 2,602,546.16\n",
      "day: 2516                 reward: 15.931                 sharpe: 0.307                  psr: 0.000                  cum. rtns: 184.392                 portf val: 2,843,921.83\n",
      "day: 2516                 reward: 12.796                 sharpe: 0.317                  psr: 0.000                  cum. rtns: 203.874                 portf val: 3,038,738.40\n",
      "day: 2516                 reward: 16.449                 sharpe: 0.349                  psr: 0.000                  cum. rtns: 242.606                 portf val: 3,426,055.48\n",
      "day: 2516                 reward: 9.986                 sharpe: 0.360                  psr: 0.000                  cum. rtns: 131.107                 portf val: 2,311,067.29\n",
      "day: 2516                 reward: 16.383                 sharpe: 0.297                  psr: 0.000                  cum. rtns: 165.742                 portf val: 2,657,420.76\n",
      "day: 2516                 reward: 7.529                 sharpe: 0.364                  psr: 0.000                  cum. rtns: 121.004                 portf val: 2,210,039.64\n",
      "day: 2516                 reward: 21.972                 sharpe: 0.258                  psr: 0.000                  cum. rtns: 229.666                 portf val: 3,296,655.47\n",
      "day: 2516                 reward: 6.054                 sharpe: 0.245                  psr: 0.000                  cum. rtns: 134.025                 portf val: 2,340,246.66\n",
      "day: 2516                 reward: 4.308                 sharpe: 0.434                  psr: 0.000                  cum. rtns: 153.778                 portf val: 2,537,775.01\n",
      "day: 2516                 reward: 21.554                 sharpe: 0.550                  psr: 0.000                  cum. rtns: 266.048                 portf val: 3,660,477.06\n",
      "day: 2516                 reward: 23.142                 sharpe: 0.295                  psr: 0.000                  cum. rtns: 180.302                 portf val: 2,803,020.38\n",
      "day: 2516                 reward: 12.057                 sharpe: 0.430                  psr: 0.000                  cum. rtns: 206.695                 portf val: 3,066,949.67\n",
      "day: 2516                 reward: 8.612                 sharpe: 0.490                  psr: 0.000                  cum. rtns: 181.239                 portf val: 2,812,388.50\n",
      "day: 2516                 reward: 11.239                 sharpe: 0.440                  psr: 0.000                  cum. rtns: 138.023                 portf val: 2,380,229.66\n",
      "day: 2516                 reward: 12.890                 sharpe: 0.393                  psr: 0.000                  cum. rtns: 221.844                 portf val: 3,218,443.31\n",
      "day: 2516                 reward: 24.336                 sharpe: 0.374                  psr: 0.000                  cum. rtns: 133.989                 portf val: 2,339,889.94\n",
      "day: 2516                 reward: 17.744                 sharpe: 0.342                  psr: 0.000                  cum. rtns: 168.593                 portf val: 2,685,932.67\n",
      "day: 2516                 reward: 20.435                 sharpe: 0.319                  psr: 0.000                  cum. rtns: 129.620                 portf val: 2,296,202.98\n",
      "day: 2516                 reward: 16.877                 sharpe: 0.434                  psr: 0.000                  cum. rtns: 148.962                 portf val: 2,489,622.92\n",
      "day: 2516                 reward: 14.120                 sharpe: 0.126                  psr: 0.000                  cum. rtns: 166.591                 portf val: 2,665,913.50\n",
      "day: 2516                 reward: 27.454                 sharpe: 0.411                  psr: 0.000                  cum. rtns: 199.914                 portf val: 2,999,137.36\n",
      "day: 2516                 reward: 33.736                 sharpe: 0.357                  psr: 0.000                  cum. rtns: 185.283                 portf val: 2,852,833.44\n",
      "day: 2516                 reward: 2.963                 sharpe: 0.278                  psr: 0.000                  cum. rtns: 133.550                 portf val: 2,335,498.66\n",
      "day: 2516                 reward: 14.800                 sharpe: 0.401                  psr: 0.000                  cum. rtns: 191.893                 portf val: 2,918,929.65\n",
      "day: 2516                 reward: 30.681                 sharpe: 0.325                  psr: 0.000                  cum. rtns: 210.030                 portf val: 3,100,297.88\n",
      "day: 2516                 reward: 22.834                 sharpe: 0.336                  psr: 0.000                  cum. rtns: 192.930                 portf val: 2,929,302.17\n",
      "day: 2516                 reward: 17.358                 sharpe: 0.419                  psr: 0.000                  cum. rtns: 176.250                 portf val: 2,762,502.26\n",
      "day: 2516                 reward: 30.812                 sharpe: 0.335                  psr: 0.000                  cum. rtns: 223.648                 portf val: 3,236,481.02\n",
      "day: 2516                 reward: 9.741                 sharpe: 0.198                  psr: 0.000                  cum. rtns: 144.126                 portf val: 2,441,262.42\n",
      "day: 2516                 reward: 21.630                 sharpe: 0.279                  psr: 0.000                  cum. rtns: 126.530                 portf val: 2,265,297.20\n",
      "day: 2516                 reward: 6.258                 sharpe: 0.258                  psr: 0.000                  cum. rtns: 186.124                 portf val: 2,861,236.25\n",
      "day: 2516                 reward: 14.662                 sharpe: 0.190                  psr: 0.000                  cum. rtns: 121.554                 portf val: 2,215,541.50\n",
      "day: 2516                 reward: -0.767                 sharpe: 0.341                  psr: 0.000                  cum. rtns: 157.728                 portf val: 2,577,275.24\n",
      "day: 2516                 reward: 32.214                 sharpe: 0.397                  psr: 0.000                  cum. rtns: 191.522                 portf val: 2,915,221.32\n",
      "day: 2516                 reward: 4.407                 sharpe: 0.224                  psr: 0.000                  cum. rtns: 126.500                 portf val: 2,264,998.45\n",
      "day: 2516                 reward: 25.482                 sharpe: 0.438                  psr: 0.000                  cum. rtns: 235.783                 portf val: 3,357,834.34\n",
      "day: 2516                 reward: 18.851                 sharpe: 0.279                  psr: 0.000                  cum. rtns: 127.921                 portf val: 2,279,211.32\n",
      "day: 2516                 reward: 14.534                 sharpe: 0.373                  psr: 0.000                  cum. rtns: 219.492                 portf val: 3,194,918.72\n",
      "day: 2516                 reward: 10.180                 sharpe: 0.186                  psr: 0.000                  cum. rtns: 166.170                 portf val: 2,661,700.93\n",
      "day: 2516                 reward: 14.841                 sharpe: 0.292                  psr: 0.000                  cum. rtns: 174.692                 portf val: 2,746,923.86\n",
      "day: 2516                 reward: 22.812                 sharpe: 0.310                  psr: 0.000                  cum. rtns: 139.929                 portf val: 2,399,288.14\n",
      "day: 2516                 reward: 27.438                 sharpe: 0.304                  psr: 0.000                  cum. rtns: 154.415                 portf val: 2,544,147.02\n",
      "day: 2516                 reward: 16.579                 sharpe: 0.401                  psr: 0.000                  cum. rtns: 178.111                 portf val: 2,781,106.36\n",
      "day: 2516                 reward: 11.525                 sharpe: 0.333                  psr: 0.000                  cum. rtns: 225.075                 portf val: 3,250,751.08\n",
      "day: 2516                 reward: 16.917                 sharpe: 0.450                  psr: 0.000                  cum. rtns: 157.550                 portf val: 2,575,498.36\n",
      "day: 2516                 reward: 7.998                 sharpe: 0.284                  psr: 0.000                  cum. rtns: 128.204                 portf val: 2,282,042.00\n",
      "day: 2516                 reward: 4.222                 sharpe: 0.309                  psr: 0.000                  cum. rtns: 136.009                 portf val: 2,360,085.16\n",
      "day: 2516                 reward: 26.669                 sharpe: 0.225                  psr: 0.000                  cum. rtns: 137.647                 portf val: 2,376,469.60\n",
      "day: 2516                 reward: 23.216                 sharpe: 0.422                  psr: 0.000                  cum. rtns: 202.741                 portf val: 3,027,413.55\n",
      "day: 2516                 reward: 3.393                 sharpe: 0.279                  psr: 0.000                  cum. rtns: 113.602                 portf val: 2,136,016.57\n",
      "day: 2516                 reward: 15.299                 sharpe: 0.416                  psr: 0.000                  cum. rtns: 154.455                 portf val: 2,544,549.07\n",
      "day: 2516                 reward: 21.711                 sharpe: 0.335                  psr: 0.000                  cum. rtns: 183.365                 portf val: 2,833,653.31\n",
      "day: 2516                 reward: 14.496                 sharpe: 0.301                  psr: 0.000                  cum. rtns: 162.980                 portf val: 2,629,798.30\n",
      "day: 2516                 reward: 25.494                 sharpe: 0.390                  psr: 0.000                  cum. rtns: 122.353                 portf val: 2,223,534.86\n",
      "day: 2516                 reward: 23.109                 sharpe: 0.128                  psr: 0.000                  cum. rtns: 135.965                 portf val: 2,359,651.21\n",
      "day: 2516                 reward: 8.420                 sharpe: 0.386                  psr: 0.000                  cum. rtns: 154.639                 portf val: 2,546,389.33\n",
      "day: 2516                 reward: 16.383                 sharpe: 0.369                  psr: 0.000                  cum. rtns: 157.898                 portf val: 2,578,979.80\n",
      "day: 2516                 reward: 10.658                 sharpe: 0.516                  psr: 0.000                  cum. rtns: 220.207                 portf val: 3,202,074.29\n",
      "day: 2516                 reward: 8.272                 sharpe: 0.182                  psr: 0.000                  cum. rtns: 178.525                 portf val: 2,785,246.11\n",
      "day: 2516                 reward: 35.651                 sharpe: 0.175                  psr: 0.000                  cum. rtns: 103.773                 portf val: 2,037,730.89\n",
      "day: 2516                 reward: 18.709                 sharpe: 0.340                  psr: 0.000                  cum. rtns: 201.473                 portf val: 3,014,725.54\n",
      "day: 2516                 reward: 23.978                 sharpe: 0.211                  psr: 0.000                  cum. rtns: 152.237                 portf val: 2,522,367.34\n",
      "day: 2516                 reward: 4.620                 sharpe: 0.334                  psr: 0.000                  cum. rtns: 155.424                 portf val: 2,554,235.55\n",
      "day: 2516                 reward: 8.287                 sharpe: 0.234                  psr: 0.000                  cum. rtns: 143.452                 portf val: 2,434,524.89\n",
      "day: 2516                 reward: 16.190                 sharpe: 0.332                  psr: 0.000                  cum. rtns: 121.086                 portf val: 2,210,862.53\n",
      "day: 2516                 reward: 8.455                 sharpe: 0.450                  psr: 0.000                  cum. rtns: 230.183                 portf val: 3,301,833.26\n",
      "day: 2516                 reward: 11.315                 sharpe: 0.382                  psr: 0.000                  cum. rtns: 152.476                 portf val: 2,524,763.31\n",
      "day: 2516                 reward: 2.995                 sharpe: 0.350                  psr: 0.000                  cum. rtns: 179.929                 portf val: 2,799,285.37\n",
      "day: 2516                 reward: 35.639                 sharpe: 0.414                  psr: 0.000                  cum. rtns: 191.426                 portf val: 2,914,258.55\n",
      "day: 2516                 reward: 36.651                 sharpe: 0.254                  psr: 0.000                  cum. rtns: 187.824                 portf val: 2,878,236.63\n",
      "day: 2516                 reward: 23.135                 sharpe: 0.224                  psr: 0.000                  cum. rtns: 226.038                 portf val: 3,260,377.60\n",
      "day: 2516                 reward: 16.883                 sharpe: 0.386                  psr: 0.000                  cum. rtns: 166.690                 portf val: 2,666,898.90\n",
      "day: 2516                 reward: 22.460                 sharpe: 0.406                  psr: 0.000                  cum. rtns: 210.113                 portf val: 3,101,129.96\n",
      "day: 2516                 reward: 24.984                 sharpe: 0.306                  psr: 0.000                  cum. rtns: 176.982                 portf val: 2,769,817.85\n",
      "day: 2516                 reward: 14.218                 sharpe: 0.273                  psr: 0.000                  cum. rtns: 151.604                 portf val: 2,516,038.28\n",
      "day: 2516                 reward: 25.393                 sharpe: 0.444                  psr: 0.000                  cum. rtns: 137.001                 portf val: 2,370,005.85\n",
      "day: 2516                 reward: 27.164                 sharpe: 0.328                  psr: 0.000                  cum. rtns: 215.682                 portf val: 3,156,816.36\n",
      "day: 2516                 reward: 28.738                 sharpe: 0.170                  psr: 0.000                  cum. rtns: 158.620                 portf val: 2,586,195.43\n",
      "day: 2516                 reward: 9.735                 sharpe: 0.445                  psr: 0.000                  cum. rtns: 147.484                 portf val: 2,474,840.68\n",
      "day: 2516                 reward: 0.932                 sharpe: 0.261                  psr: 0.000                  cum. rtns: 169.634                 portf val: 2,696,343.99\n",
      "day: 2516                 reward: 13.648                 sharpe: 0.188                  psr: 0.000                  cum. rtns: 162.474                 portf val: 2,624,744.78\n"
     ]
    }
   ]
  },
  {
   "cell_type": "code",
   "execution_count": 36,
   "outputs": [
    {
     "name": "stdout",
     "output_type": "stream",
     "text": [
      "day: 2516                 reward: 13.764                 sharpe: 0.315                  psr: 0.000                  cum. rtns: 103.846                 portf val: 2,038,460.38\n",
      "day: 2516                 reward: 18.366                 sharpe: 0.274                  psr: 0.000                  cum. rtns: 214.370                 portf val: 3,143,700.78\n",
      "day: 2516                 reward: 18.488                 sharpe: 0.373                  psr: 0.000                  cum. rtns: 195.657                 portf val: 2,956,566.45\n",
      "day: 2516                 reward: 12.679                 sharpe: 0.269                  psr: 0.000                  cum. rtns: 115.795                 portf val: 2,157,948.12\n",
      "day: 2516                 reward: 29.830                 sharpe: 0.245                  psr: 0.000                  cum. rtns: 223.343                 portf val: 3,233,430.63\n",
      "mean_reward:18.10 +/- 3.62\n"
     ]
    },
    {
     "data": {
      "text/plain": "'\\n\\neval_kwargs = {\\'filename\\':\\'sp500.csv\\',\\n    \\'date_from\\':\\'2018-01-01\\',\\n    \\'date_to\\':\\'2020-12-31\\',\\n    \\'investment\\':1000000,\\n    \\'risk_free_rate\\': 0.5,\\n    \\'reward_function\\':\\'daily_returns\\'}\\n\\neval_env =  Monitor(gym.make(\\'PortfolioAllocation-v0\\', **eval_kwargs))\\n\\nmean_reward, std_reward = evaluate_policy(trained_a2c_model, eval_env, n_eval_episodes=10)\\nprint(f\"mean_reward:{mean_reward:.2f} +/- {std_reward:.2f}\")\\n'"
     },
     "execution_count": 36,
     "metadata": {},
     "output_type": "execute_result"
    }
   ],
   "source": [
    "mean_reward, std_reward = evaluate_policy(trained_a2c_model, venv, n_eval_episodes=5)\n",
    "print(f\"mean_reward:{mean_reward:.2f} +/- {std_reward:.2f}\")\n",
    "\n",
    "'''\n",
    "\n",
    "eval_kwargs = {'filename':'sp500.csv',\n",
    "    'date_from':'2018-01-01',\n",
    "    'date_to':'2020-12-31',\n",
    "    'investment':1000000,\n",
    "    'risk_free_rate': 0.5,\n",
    "    'reward_function':'daily_returns'}\n",
    "\n",
    "eval_env =  Monitor(gym.make('PortfolioAllocation-v0', **eval_kwargs))\n",
    "\n",
    "mean_reward, std_reward = evaluate_policy(trained_a2c_model, eval_env, n_eval_episodes=10)\n",
    "print(f\"mean_reward:{mean_reward:.2f} +/- {std_reward:.2f}\")\n",
    "'''"
   ],
   "metadata": {
    "collapsed": false,
    "pycharm": {
     "name": "#%%\n"
    }
   }
  },
  {
   "cell_type": "code",
   "execution_count": 39,
   "outputs": [],
   "source": [
    "trained_a2c_model.save('sp500_08_17_opt_49')\n",
    "\n",
    "\n",
    "\n"
   ],
   "metadata": {
    "collapsed": false,
    "pycharm": {
     "name": "#%%\n"
    }
   }
  }
 ]
}