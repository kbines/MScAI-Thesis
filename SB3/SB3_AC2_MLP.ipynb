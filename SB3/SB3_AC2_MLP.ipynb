{
 "cells": [
  {
   "cell_type": "code",
   "source": [
    "import gym\n",
    "import PortfolioAllocationGym\n",
    "import numpy as np\n",
    "from stable_baselines3.common.monitor import Monitor\n",
    "from stable_baselines3.common.evaluation import evaluate_policy\n",
    "from stable_baselines3.common.env_checker import check_env\n",
    "import pandas as pd\n",
    "pd.options.mode.chained_assignment = None  # default='warn'"
   ],
   "outputs": [],
   "execution_count": 7,
   "metadata": {
    "collapsed": true,
    "id": "UMwfnZQ48f3n",
    "executionInfo": {
     "status": "ok",
     "timestamp": 1628675770654,
     "user_tz": -60,
     "elapsed": 523,
     "user": {
      "displayName": "Keith Bines",
      "photoUrl": "https://lh3.googleusercontent.com/a-/AOh14Gh-1rHYFN7Yxp7RK0dmcaDIhb3bISQHVPcOLlyYAA=s64",
      "userId": "04847342589282886972"
     }
    },
    "gather": {
     "logged": 1629736750321
    }
   }
  },
  {
   "cell_type": "code",
   "source": [
    "env_kwargs = {'filename':'sp500.csv',\n",
    "    'date_from':'2008-01-01',\n",
    "    'date_to':'2017-12-31',\n",
    "    'investment':1000000,\n",
    "    'risk_free_rate': 0.5, # approx US Treasury Note return\n",
    "    'sample_size':100,\n",
    "    'random_sample':False,\n",
    "    'reward_function':'portfolio_value'}\n",
    "\n",
    "train_env = gym.make('PortfolioAllocation-v0', **env_kwargs)"
   ],
   "outputs": [],
   "execution_count": 8,
   "metadata": {
    "pycharm": {
     "name": "#%%\n"
    },
    "id": "Au1mKD618f3w",
    "executionInfo": {
     "status": "ok",
     "timestamp": 1628675850134,
     "user_tz": -60,
     "elapsed": 9939,
     "user": {
      "displayName": "Keith Bines",
      "photoUrl": "https://lh3.googleusercontent.com/a-/AOh14Gh-1rHYFN7Yxp7RK0dmcaDIhb3bISQHVPcOLlyYAA=s64",
      "userId": "04847342589282886972"
     }
    },
    "gather": {
     "logged": 1629730801719
    }
   }
  },
  {
   "cell_type": "code",
   "source": [
    "check_env(train_env)"
   ],
   "outputs": [
    {
     "name": "stderr",
     "output_type": "stream",
     "text": [
      "C:\\Users\\kbine\\anaconda3\\envs\\PortfolioAllocationRL\\lib\\site-packages\\stable_baselines3\\common\\env_checker.py:26: UserWarning: It seems that your observation  is an image but the `dtype` of your observation_space is not `np.uint8`. If your observation is not an image, we recommend you to flatten the observation to have only a 1D vector\n",
      "  warnings.warn(\n",
      "C:\\Users\\kbine\\anaconda3\\envs\\PortfolioAllocationRL\\lib\\site-packages\\stable_baselines3\\common\\env_checker.py:34: UserWarning: It seems that your observation space  is an image but the upper and lower bounds are not in [0, 255]. Because the CNN policy normalize automatically the observation you may encounter issue if the values are not in that range.\n",
      "  warnings.warn(\n",
      "C:\\Users\\kbine\\anaconda3\\envs\\PortfolioAllocationRL\\lib\\site-packages\\stable_baselines3\\common\\preprocessing.py:23: UserWarning: Treating image space as channels-last, while second dimension was smallest of the three.\n",
      "  warnings.warn(\"Treating image space as channels-last, while second dimension was smallest of the three.\")\n",
      "C:\\Users\\kbine\\anaconda3\\envs\\PortfolioAllocationRL\\lib\\site-packages\\stable_baselines3\\common\\env_checker.py:47: UserWarning: The minimal resolution for an image is 36x36 for the default `CnnPolicy`. You might need to use a custom feature extractor cf. https://stable-baselines3.readthedocs.io/en/master/guide/custom_policy.html\n",
      "  warnings.warn(\n",
      "C:\\Users\\kbine\\anaconda3\\envs\\PortfolioAllocationRL\\lib\\site-packages\\stable_baselines3\\common\\env_checker.py:272: UserWarning: We recommend you to use a symmetric and normalized Box action space (range=[-1, 1]) cf https://stable-baselines3.readthedocs.io/en/master/guide/rl_tips.html\n",
      "  warnings.warn(\n"
     ]
    }
   ],
   "execution_count": 9,
   "metadata": {
    "collapsed": false,
    "pycharm": {
     "name": "#%%\n"
    },
    "gather": {
     "logged": 1629730802028
    }
   }
  },
  {
   "cell_type": "code",
   "source": [
    "venv, obs = train_env.get_sb_env()"
   ],
   "outputs": [],
   "execution_count": 10,
   "metadata": {
    "collapsed": false,
    "pycharm": {
     "name": "#%%\n"
    },
    "gather": {
     "logged": 1629730844525
    }
   }
  },
  {
   "cell_type": "code",
   "source": [
    "from stable_baselines3 import A2C\n",
    "from stable_baselines3.a2c import MlpPolicy"
   ],
   "outputs": [],
   "execution_count": 11,
   "metadata": {
    "pycharm": {
     "name": "#%%\n"
    },
    "id": "4cLMqQlb8f30",
    "gather": {
     "logged": 1629730847373
    }
   }
  },
  {
   "cell_type": "code",
   "source": [
    "import torch\n",
    "\n",
    "# Parameters from hyper tune @ Users/kbines/rl-baselines3-zoo/ac2_50_pv_normalized2\n",
    "model_kwargs =   {'gamma': 0.98,\n",
    "    'normalize_advantage': False,\n",
    "    'max_grad_norm': 1,\n",
    "    'use_rms_prop': False,\n",
    "    'gae_lambda': 1.0,\n",
    "    'n_steps': 5,\n",
    "    'learning_rate': 0.006091038442400068,\n",
    "    'ent_coef': 4.071869686147734e-06,\n",
    "    'vf_coef': 0.36340337458493177,\n",
    "    'policy_kwargs': dict(\n",
    "        log_std_init=0.5523434134392059,\n",
    "        ortho_init= True,\n",
    "        activation_fn=torch.nn.modules.activation.Tanh,\n",
    "        net_arch=[dict(pi=[256,256], vf=[256,256])])\n",
    "    }\n",
    "a2c_model = A2C(policy = MlpPolicy,\n",
    "                env = venv,\n",
    "                **model_kwargs)\n"
   ],
   "outputs": [],
   "execution_count": 12,
   "metadata": {
    "pycharm": {
     "name": "#%%\n"
    },
    "id": "pmyfRQxy8f33",
    "gather": {
     "logged": 1629730855107
    }
   }
  },
  {
   "cell_type": "code",
   "source": [
    "from PortfolioAllocationGym.callbacks import TensorBoardCallback as tbc\n",
    "from datetime import datetime"
   ],
   "outputs": [],
   "execution_count": 13,
   "metadata": {
    "pycharm": {
     "name": "#%%\n"
    },
    "id": "1QwoU6Fu8f36",
    "gather": {
     "logged": 1629730858937
    }
   }
  },
  {
   "cell_type": "code",
   "source": [
    "train_env.data.head()"
   ],
   "outputs": [
    {
     "data": {
      "text/plain": "   tic       date     open      low     high    close  adj_close      ema_50  \\\n0  ADS 2008-01-02    74.23    73.48    75.00    74.18      69.52   72.000821   \n0  AET 2008-01-02    57.81    56.31    57.96    56.64      51.24   50.843909   \n0  AIG 2008-01-02  1161.20  1124.00  1181.40  1126.00     778.32  815.676941   \n0  AIZ 2008-01-02    66.99    65.54    66.99    65.70      49.67   48.560024   \n0  AMG 2008-01-02   117.49   111.96   118.36   112.32     108.85  118.126769   \n\n      ema_200    bb_bbm      bb_bbh      bb_bbl  bb_bbhi  bb_bbli       stoch  \\\n0   69.983579   71.1745   73.988632   68.360368      0.0      0.0  -61.929825   \n0   46.863639   52.3900   53.828833   50.951167      0.0      0.0 -182.374101   \n0  887.124643  803.0615  855.727415  750.395585      0.0      0.0 -238.966565   \n0   44.328743   50.4250   52.561638   48.288362      0.0      0.0 -267.458867   \n0  116.363668  117.7990  126.765511  108.832489      0.0      0.0  -18.998167   \n\n   stoch_signal      macd  macd_signal          obv  daily_returns  \n0    -65.658055 -0.947575    -0.815673  -59951500.0      -1.081389  \n0   -137.447320  0.425078     0.630939   46705600.0      -1.895462  \n0   -192.106023 -1.752432    -2.300637 -221198000.0      -3.430649  \n0   -211.672085  0.624353     0.830878    1241900.0      -1.799130  \n0     -1.774477 -2.036778    -1.298258   13445500.0      -4.374945  ",
      "text/html": "<div>\n<style scoped>\n    .dataframe tbody tr th:only-of-type {\n        vertical-align: middle;\n    }\n\n    .dataframe tbody tr th {\n        vertical-align: top;\n    }\n\n    .dataframe thead th {\n        text-align: right;\n    }\n</style>\n<table border=\"1\" class=\"dataframe\">\n  <thead>\n    <tr style=\"text-align: right;\">\n      <th></th>\n      <th>tic</th>\n      <th>date</th>\n      <th>open</th>\n      <th>low</th>\n      <th>high</th>\n      <th>close</th>\n      <th>adj_close</th>\n      <th>ema_50</th>\n      <th>ema_200</th>\n      <th>bb_bbm</th>\n      <th>bb_bbh</th>\n      <th>bb_bbl</th>\n      <th>bb_bbhi</th>\n      <th>bb_bbli</th>\n      <th>stoch</th>\n      <th>stoch_signal</th>\n      <th>macd</th>\n      <th>macd_signal</th>\n      <th>obv</th>\n      <th>daily_returns</th>\n    </tr>\n  </thead>\n  <tbody>\n    <tr>\n      <th>0</th>\n      <td>ADS</td>\n      <td>2008-01-02</td>\n      <td>74.23</td>\n      <td>73.48</td>\n      <td>75.00</td>\n      <td>74.18</td>\n      <td>69.52</td>\n      <td>72.000821</td>\n      <td>69.983579</td>\n      <td>71.1745</td>\n      <td>73.988632</td>\n      <td>68.360368</td>\n      <td>0.0</td>\n      <td>0.0</td>\n      <td>-61.929825</td>\n      <td>-65.658055</td>\n      <td>-0.947575</td>\n      <td>-0.815673</td>\n      <td>-59951500.0</td>\n      <td>-1.081389</td>\n    </tr>\n    <tr>\n      <th>0</th>\n      <td>AET</td>\n      <td>2008-01-02</td>\n      <td>57.81</td>\n      <td>56.31</td>\n      <td>57.96</td>\n      <td>56.64</td>\n      <td>51.24</td>\n      <td>50.843909</td>\n      <td>46.863639</td>\n      <td>52.3900</td>\n      <td>53.828833</td>\n      <td>50.951167</td>\n      <td>0.0</td>\n      <td>0.0</td>\n      <td>-182.374101</td>\n      <td>-137.447320</td>\n      <td>0.425078</td>\n      <td>0.630939</td>\n      <td>46705600.0</td>\n      <td>-1.895462</td>\n    </tr>\n    <tr>\n      <th>0</th>\n      <td>AIG</td>\n      <td>2008-01-02</td>\n      <td>1161.20</td>\n      <td>1124.00</td>\n      <td>1181.40</td>\n      <td>1126.00</td>\n      <td>778.32</td>\n      <td>815.676941</td>\n      <td>887.124643</td>\n      <td>803.0615</td>\n      <td>855.727415</td>\n      <td>750.395585</td>\n      <td>0.0</td>\n      <td>0.0</td>\n      <td>-238.966565</td>\n      <td>-192.106023</td>\n      <td>-1.752432</td>\n      <td>-2.300637</td>\n      <td>-221198000.0</td>\n      <td>-3.430649</td>\n    </tr>\n    <tr>\n      <th>0</th>\n      <td>AIZ</td>\n      <td>2008-01-02</td>\n      <td>66.99</td>\n      <td>65.54</td>\n      <td>66.99</td>\n      <td>65.70</td>\n      <td>49.67</td>\n      <td>48.560024</td>\n      <td>44.328743</td>\n      <td>50.4250</td>\n      <td>52.561638</td>\n      <td>48.288362</td>\n      <td>0.0</td>\n      <td>0.0</td>\n      <td>-267.458867</td>\n      <td>-211.672085</td>\n      <td>0.624353</td>\n      <td>0.830878</td>\n      <td>1241900.0</td>\n      <td>-1.799130</td>\n    </tr>\n    <tr>\n      <th>0</th>\n      <td>AMG</td>\n      <td>2008-01-02</td>\n      <td>117.49</td>\n      <td>111.96</td>\n      <td>118.36</td>\n      <td>112.32</td>\n      <td>108.85</td>\n      <td>118.126769</td>\n      <td>116.363668</td>\n      <td>117.7990</td>\n      <td>126.765511</td>\n      <td>108.832489</td>\n      <td>0.0</td>\n      <td>0.0</td>\n      <td>-18.998167</td>\n      <td>-1.774477</td>\n      <td>-2.036778</td>\n      <td>-1.298258</td>\n      <td>13445500.0</td>\n      <td>-4.374945</td>\n    </tr>\n  </tbody>\n</table>\n</div>"
     },
     "execution_count": 14,
     "metadata": {},
     "output_type": "execute_result"
    }
   ],
   "execution_count": 14,
   "metadata": {
    "collapsed": true,
    "jupyter": {
     "source_hidden": false,
     "outputs_hidden": false
    },
    "nteract": {
     "transient": {
      "deleting": false
     }
    },
    "gather": {
     "logged": 1629730935910
    }
   }
  },
  {
   "cell_type": "code",
   "source": [
    "# Random Agent, before training\n",
    "mean_reward, std_reward = evaluate_policy(a2c_model, venv, n_eval_episodes=5)\n",
    "print(f\"mean_reward:{mean_reward:.2f} +/- {std_reward:.2f}\")"
   ],
   "outputs": [
    {
     "name": "stdout",
     "output_type": "stream",
     "text": [
      "day: 2516                 reward: 2386601.100                 sharpe: 0.363                  psr: 0.000                  cum. rtns: 138.660                 portf val: 2,386,601.10\n",
      "day: 2516                 reward: 2206407.131                 sharpe: 0.349                  psr: 0.000                  cum. rtns: 120.641                 portf val: 2,206,407.13\n",
      "day: 2516                 reward: 2180480.656                 sharpe: 0.345                  psr: 0.000                  cum. rtns: 118.048                 portf val: 2,180,480.66\n",
      "day: 2516                 reward: 2172903.532                 sharpe: 0.343                  psr: 0.000                  cum. rtns: 117.290                 portf val: 2,172,903.53\n",
      "day: 2516                 reward: 2167495.626                 sharpe: 0.342                  psr: 0.000                  cum. rtns: 116.750                 portf val: 2,167,495.63\n",
      "mean_reward:79.85 +/- 27.42\n"
     ]
    }
   ],
   "execution_count": 9,
   "metadata": {
    "collapsed": false,
    "pycharm": {
     "name": "#%%\n"
    },
    "gather": {
     "logged": 1629730897754
    }
   }
  },
  {
   "cell_type": "code",
   "source": [
    "total_timesteps = 1 * (len(venv.venv.envs[0].data.date.unique())-1)\n",
    "#total_timesteps = 2 * (len(train_env.data.date.unique())-1)\n",
    "trained_a2c_model= a2c_model.learn(total_timesteps=total_timesteps,\n",
    "                                   tb_log_name='A2C'+datetime.now().strftime(\"%H-%M\"))"
   ],
   "outputs": [
    {
     "name": "stdout",
     "output_type": "stream",
     "text": [
      "day: 2516                 reward: 2439331.456                 sharpe: 0.291                  psr: 0.000                  cum. rtns: 143.933                 portf val: 2,439,331.46\n"
     ]
    }
   ],
   "execution_count": 15,
   "metadata": {
    "pycharm": {
     "name": "#%%\n"
    },
    "id": "rC1P65268f3-",
    "gather": {
     "logged": 1629730298975
    }
   }
  },
  {
   "cell_type": "code",
   "source": [
    "trained_a2c_model.save('ac2_tuned_2000')"
   ],
   "outputs": [],
   "execution_count": 14,
   "metadata": {
    "collapsed": false,
    "pycharm": {
     "name": "#%%\n"
    }
   }
  },
  {
   "cell_type": "code",
   "execution_count": 15,
   "outputs": [
    {
     "name": "stdout",
     "output_type": "stream",
     "text": [
      "day: 2516                 reward: 2863442.950                 sharpe: 0.406                  psr: 0.000                  cum. rtns: 186.344                 portf val: 2,863,442.95\n",
      "day: 2516                 reward: 2863442.950                 sharpe: 0.406                  psr: 0.000                  cum. rtns: 186.344                 portf val: 2,863,442.95\n",
      "day: 2516                 reward: 2863442.950                 sharpe: 0.406                  psr: 0.000                  cum. rtns: 186.344                 portf val: 2,863,442.95\n",
      "day: 2516                 reward: 2863442.950                 sharpe: 0.406                  psr: 0.000                  cum. rtns: 186.344                 portf val: 2,863,442.95\n",
      "day: 2516                 reward: 2863442.950                 sharpe: 0.406                  psr: 0.000                  cum. rtns: 186.344                 portf val: 2,863,442.95\n",
      "mean_reward:68.48 +/- 0.01\n"
     ]
    }
   ],
   "source": [
    "mean_reward, std_reward = evaluate_policy(trained_a2c_model, venv, n_eval_episodes=5)\n",
    "print(f\"mean_reward:{mean_reward:.2f} +/- {std_reward:.2f}\")"
   ],
   "metadata": {
    "collapsed": false,
    "pycharm": {
     "name": "#%%\n"
    }
   }
  },
  {
   "cell_type": "code",
   "source": [
    "'''\n",
    "\n",
    "eval_kwargs = {'filename':'sp500.csv',\n",
    "    'date_from':'2018-01-01',\n",
    "    'date_to':'2020-12-31',\n",
    "    'investment':1000000,\n",
    "    'risk_free_rate': 0.5,\n",
    "    'reward_function':'daily_returns'}\n",
    "\n",
    "eval_env =  Monitor(gym.make('PortfolioAllocation-v0', **eval_kwargs))\n",
    "\n",
    "mean_reward, std_reward = evaluate_policy(trained_a2c_model, eval_env, n_eval_episodes=10)\n",
    "print(f\"mean_reward:{mean_reward:.2f} +/- {std_reward:.2f}\")\n",
    "'''"
   ],
   "outputs": [],
   "execution_count": null,
   "metadata": {
    "collapsed": false,
    "pycharm": {
     "name": "#%%\n"
    }
   }
  },
  {
   "cell_type": "code",
   "source": [
    "trained_a2c_model.save('sp500_08_17_opt_49')\n",
    "\n",
    "\n"
   ],
   "outputs": [],
   "execution_count": 39,
   "metadata": {
    "collapsed": false,
    "pycharm": {
     "name": "#%%\n"
    }
   }
  },
  {
   "cell_type": "code",
   "execution_count": 20,
   "outputs": [
    {
     "data": {
      "text/plain": "array([0.15737927, 0.12885125, 0.19222347, 0.23478228, 0.28676373])"
     },
     "execution_count": 20,
     "metadata": {},
     "output_type": "execute_result"
    }
   ],
   "source": [
    "x = np.array([-0.2,-0.4,0,0.2,0.4])\n",
    "np.true_divide(np.exp(x), np.sum(np.exp(x)))"
   ],
   "metadata": {
    "collapsed": false,
    "pycharm": {
     "name": "#%%\n"
    }
   }
  }
 ],
 "metadata": {
  "kernelspec": {
   "name": "python3",
   "language": "python",
   "display_name": "Python 3 (ipykernel)"
  },
  "language_info": {
   "name": "python",
   "version": "3.8.1",
   "mimetype": "text/x-python",
   "codemirror_mode": {
    "name": "ipython",
    "version": 3
   },
   "pygments_lexer": "ipython3",
   "nbconvert_exporter": "python",
   "file_extension": ".py"
  },
  "colab": {
   "name": "Example.ipynb",
   "provenance": [],
   "collapsed_sections": []
  },
  "accelerator": "GPU",
  "kernel_info": {
   "name": "azureml_py38_pytorch"
  },
  "nteract": {
   "version": "nteract-front-end@1.0.0"
  },
  "microsoft": {
   "host": {
    "AzureML": {
     "notebookHasBeenCompleted": true
    }
   }
  }
 },
 "nbformat": 4,
 "nbformat_minor": 0
}