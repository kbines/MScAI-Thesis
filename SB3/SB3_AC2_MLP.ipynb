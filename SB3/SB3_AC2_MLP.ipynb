{
  "cells": [
    {
      "cell_type": "code",
      "source": [
        "import gym\n",
        "import PortfolioAllocationGym\n",
        "import numpy as np\n",
        "from stable_baselines3.common.monitor import Monitor\n",
        "from stable_baselines3.common.evaluation import evaluate_policy\n",
        "from stable_baselines3.common.env_checker import check_env\n",
        "import pandas as pd\n",
        "pd.options.mode.chained_assignment = None  # default='warn'"
      ],
      "outputs": [],
      "execution_count": 1,
      "metadata": {
        "collapsed": true,
        "id": "UMwfnZQ48f3n",
        "executionInfo": {
          "status": "ok",
          "timestamp": 1628675770654,
          "user_tz": -60,
          "elapsed": 523,
          "user": {
            "displayName": "Keith Bines",
            "photoUrl": "https://lh3.googleusercontent.com/a-/AOh14Gh-1rHYFN7Yxp7RK0dmcaDIhb3bISQHVPcOLlyYAA=s64",
            "userId": "04847342589282886972"
          }
        },
        "gather": {
          "logged": 1629730763981
        }
      }
    },
    {
      "cell_type": "code",
      "source": [
        "env_kwargs = {'filename':'sp500.csv',\n",
        "    'date_from':'2008-01-01',\n",
        "    'date_to':'2017-12-31',\n",
        "    'investment':1000000,\n",
        "    'risk_free_rate': 0.5, # approx US Treasury Note return\n",
        "    'sample_size':100,\n",
        "    'random_sample':False,\n",
        "    'reward_function':'portfolio_value'}\n",
        "\n",
        "train_env = gym.make('PortfolioAllocation-v0', **env_kwargs)"
      ],
      "outputs": [],
      "execution_count": 2,
      "metadata": {
        "pycharm": {
          "name": "#%%\n"
        },
        "id": "Au1mKD618f3w",
        "executionInfo": {
          "status": "ok",
          "timestamp": 1628675850134,
          "user_tz": -60,
          "elapsed": 9939,
          "user": {
            "displayName": "Keith Bines",
            "photoUrl": "https://lh3.googleusercontent.com/a-/AOh14Gh-1rHYFN7Yxp7RK0dmcaDIhb3bISQHVPcOLlyYAA=s64",
            "userId": "04847342589282886972"
          }
        },
        "gather": {
          "logged": 1629730801719
        }
      }
    },
    {
      "cell_type": "code",
      "source": [
        "check_env(train_env)"
      ],
      "outputs": [
        {
          "output_type": "stream",
          "name": "stderr",
          "text": [
            "/anaconda/envs/azureml_py38_pytorch/lib/python3.8/site-packages/stable_baselines3/common/env_checker.py:26: UserWarning: It seems that your observation  is an image but the `dtype` of your observation_space is not `np.uint8`. If your observation is not an image, we recommend you to flatten the observation to have only a 1D vector\n",
            "  warnings.warn(\n",
            "/anaconda/envs/azureml_py38_pytorch/lib/python3.8/site-packages/stable_baselines3/common/env_checker.py:34: UserWarning: It seems that your observation space  is an image but the upper and lower bounds are not in [0, 255]. Because the CNN policy normalize automatically the observation you may encounter issue if the values are not in that range.\n",
            "  warnings.warn(\n",
            "/anaconda/envs/azureml_py38_pytorch/lib/python3.8/site-packages/stable_baselines3/common/preprocessing.py:23: UserWarning: Treating image space as channels-last, while second dimension was smallest of the three.\n",
            "  warnings.warn(\"Treating image space as channels-last, while second dimension was smallest of the three.\")\n",
            "/anaconda/envs/azureml_py38_pytorch/lib/python3.8/site-packages/stable_baselines3/common/env_checker.py:47: UserWarning: The minimal resolution for an image is 36x36 for the default `CnnPolicy`. You might need to use a custom feature extractor cf. https://stable-baselines3.readthedocs.io/en/master/guide/custom_policy.html\n",
            "  warnings.warn(\n",
            "/anaconda/envs/azureml_py38_pytorch/lib/python3.8/site-packages/stable_baselines3/common/env_checker.py:272: UserWarning: We recommend you to use a symmetric and normalized Box action space (range=[-1, 1]) cf https://stable-baselines3.readthedocs.io/en/master/guide/rl_tips.html\n",
            "  warnings.warn(\n"
          ]
        }
      ],
      "execution_count": 3,
      "metadata": {
        "collapsed": false,
        "pycharm": {
          "name": "#%%\n"
        },
        "gather": {
          "logged": 1629730802028
        }
      }
    },
    {
      "cell_type": "code",
      "source": [
        "venv, obs = train_env.get_sb_env()"
      ],
      "outputs": [],
      "execution_count": 4,
      "metadata": {
        "collapsed": false,
        "pycharm": {
          "name": "#%%\n"
        },
        "gather": {
          "logged": 1629730844525
        }
      }
    },
    {
      "cell_type": "code",
      "source": [
        "from stable_baselines3 import A2C\n",
        "from stable_baselines3.a2c import MlpPolicy"
      ],
      "outputs": [],
      "execution_count": 5,
      "metadata": {
        "pycharm": {
          "name": "#%%\n"
        },
        "id": "4cLMqQlb8f30",
        "gather": {
          "logged": 1629730847373
        }
      }
    },
    {
      "cell_type": "code",
      "source": [
        "import torch\n",
        "\n",
        "# Parameters from hyper tune @ Users/kbines/rl-baselines3-zoo/ac2_50_pv_normalized2\n",
        "model_kwargs =   {'gamma': 0.98,\n",
        "    'normalize_advantage': False,\n",
        "    'max_grad_norm': 1,\n",
        "    'use_rms_prop': False,\n",
        "    'gae_lambda': 1.0,\n",
        "    'n_steps': 5,\n",
        "    'learning_rate': 0.006091038442400068,\n",
        "    'ent_coef': 4.071869686147734e-06,\n",
        "    'vf_coef': 0.36340337458493177,\n",
        "    'policy_kwargs': dict(\n",
        "        log_std_init=0.5523434134392059,\n",
        "        ortho_init= True,\n",
        "        activation_fn=torch.nn.modules.activation.Tanh,\n",
        "        net_arch=[dict(pi=[256,256], vf=[256,256])])\n",
        "    }\n",
        "a2c_model = A2C(policy = MlpPolicy,\n",
        "                env = venv,\n",
        "                **model_kwargs)\n"
      ],
      "outputs": [],
      "execution_count": 6,
      "metadata": {
        "pycharm": {
          "name": "#%%\n"
        },
        "id": "pmyfRQxy8f33",
        "gather": {
          "logged": 1629730855107
        }
      }
    },
    {
      "cell_type": "code",
      "source": [
        "from PortfolioAllocationGym.callbacks import TensorBoardCallback as tbc\n",
        "from datetime import datetime"
      ],
      "outputs": [],
      "execution_count": 7,
      "metadata": {
        "pycharm": {
          "name": "#%%\n"
        },
        "id": "1QwoU6Fu8f36",
        "gather": {
          "logged": 1629730858937
        }
      }
    },
    {
      "cell_type": "code",
      "source": [
        "train_env.data.head()"
      ],
      "outputs": [
        {
          "output_type": "execute_result",
          "execution_count": 9,
          "data": {
            "text/plain": "   tic       date     open      low     high      close  adj_close    ema_50  \\\n0  ADS 2008-01-02    74.23    73.48    75.00   0.236298   0.248366  0.281037   \n0  AET 2008-01-02    57.81    56.31    57.96   0.070947   0.071515  0.072913   \n0  AIG 2008-01-02  1161.20  1124.00  1181.40  10.151912   7.105668  7.596702   \n0  AIZ 2008-01-02    66.99    65.54    66.99   0.156356   0.056326  0.050446   \n0  AMG 2008-01-02   117.49   111.96   118.36   0.595848   0.628865  0.734786   \n\n    ema_200    bb_bbm    bb_bbh    bb_bbl   bb_bbhi   bb_bbli     stoch  \\\n0  0.284947  0.267884  0.256992  0.279459 -0.220206 -0.193997  0.066845   \n0  0.047411  0.084877  0.071229  0.099954 -0.220206 -0.193997 -0.536298   \n0  8.680340  7.398261  7.460343  7.311878 -0.220206 -0.193997 -0.819693   \n0  0.021367  0.065733  0.059553  0.072498 -0.220206 -0.193997 -0.962372   \n0  0.761461  0.722121  0.743306  0.696765 -0.220206 -0.193997  0.281832   \n\n   stoch_signal      macd  macd_signal       obv  daily_returns  \n0      0.051535 -0.452985    -0.424347 -0.213241      -1.081389  \n0     -0.310090  0.129000     0.232274 -0.165315      -1.895462  \n0     -0.585422 -0.794233    -1.098376 -0.285696      -3.430649  \n0     -0.683983  0.213489     0.323027 -0.185744      -1.799130  \n0      0.373337 -0.914791    -0.643394 -0.180260      -4.374945  ",
            "text/html": "<div>\n<style scoped>\n    .dataframe tbody tr th:only-of-type {\n        vertical-align: middle;\n    }\n\n    .dataframe tbody tr th {\n        vertical-align: top;\n    }\n\n    .dataframe thead th {\n        text-align: right;\n    }\n</style>\n<table border=\"1\" class=\"dataframe\">\n  <thead>\n    <tr style=\"text-align: right;\">\n      <th></th>\n      <th>tic</th>\n      <th>date</th>\n      <th>open</th>\n      <th>low</th>\n      <th>high</th>\n      <th>close</th>\n      <th>adj_close</th>\n      <th>ema_50</th>\n      <th>ema_200</th>\n      <th>bb_bbm</th>\n      <th>bb_bbh</th>\n      <th>bb_bbl</th>\n      <th>bb_bbhi</th>\n      <th>bb_bbli</th>\n      <th>stoch</th>\n      <th>stoch_signal</th>\n      <th>macd</th>\n      <th>macd_signal</th>\n      <th>obv</th>\n      <th>daily_returns</th>\n    </tr>\n  </thead>\n  <tbody>\n    <tr>\n      <th>0</th>\n      <td>ADS</td>\n      <td>2008-01-02</td>\n      <td>74.23</td>\n      <td>73.48</td>\n      <td>75.00</td>\n      <td>0.236298</td>\n      <td>0.248366</td>\n      <td>0.281037</td>\n      <td>0.284947</td>\n      <td>0.267884</td>\n      <td>0.256992</td>\n      <td>0.279459</td>\n      <td>-0.220206</td>\n      <td>-0.193997</td>\n      <td>0.066845</td>\n      <td>0.051535</td>\n      <td>-0.452985</td>\n      <td>-0.424347</td>\n      <td>-0.213241</td>\n      <td>-1.081389</td>\n    </tr>\n    <tr>\n      <th>0</th>\n      <td>AET</td>\n      <td>2008-01-02</td>\n      <td>57.81</td>\n      <td>56.31</td>\n      <td>57.96</td>\n      <td>0.070947</td>\n      <td>0.071515</td>\n      <td>0.072913</td>\n      <td>0.047411</td>\n      <td>0.084877</td>\n      <td>0.071229</td>\n      <td>0.099954</td>\n      <td>-0.220206</td>\n      <td>-0.193997</td>\n      <td>-0.536298</td>\n      <td>-0.310090</td>\n      <td>0.129000</td>\n      <td>0.232274</td>\n      <td>-0.165315</td>\n      <td>-1.895462</td>\n    </tr>\n    <tr>\n      <th>0</th>\n      <td>AIG</td>\n      <td>2008-01-02</td>\n      <td>1161.20</td>\n      <td>1124.00</td>\n      <td>1181.40</td>\n      <td>10.151912</td>\n      <td>7.105668</td>\n      <td>7.596702</td>\n      <td>8.680340</td>\n      <td>7.398261</td>\n      <td>7.460343</td>\n      <td>7.311878</td>\n      <td>-0.220206</td>\n      <td>-0.193997</td>\n      <td>-0.819693</td>\n      <td>-0.585422</td>\n      <td>-0.794233</td>\n      <td>-1.098376</td>\n      <td>-0.285696</td>\n      <td>-3.430649</td>\n    </tr>\n    <tr>\n      <th>0</th>\n      <td>AIZ</td>\n      <td>2008-01-02</td>\n      <td>66.99</td>\n      <td>65.54</td>\n      <td>66.99</td>\n      <td>0.156356</td>\n      <td>0.056326</td>\n      <td>0.050446</td>\n      <td>0.021367</td>\n      <td>0.065733</td>\n      <td>0.059553</td>\n      <td>0.072498</td>\n      <td>-0.220206</td>\n      <td>-0.193997</td>\n      <td>-0.962372</td>\n      <td>-0.683983</td>\n      <td>0.213489</td>\n      <td>0.323027</td>\n      <td>-0.185744</td>\n      <td>-1.799130</td>\n    </tr>\n    <tr>\n      <th>0</th>\n      <td>AMG</td>\n      <td>2008-01-02</td>\n      <td>117.49</td>\n      <td>111.96</td>\n      <td>118.36</td>\n      <td>0.595848</td>\n      <td>0.628865</td>\n      <td>0.734786</td>\n      <td>0.761461</td>\n      <td>0.722121</td>\n      <td>0.743306</td>\n      <td>0.696765</td>\n      <td>-0.220206</td>\n      <td>-0.193997</td>\n      <td>0.281832</td>\n      <td>0.373337</td>\n      <td>-0.914791</td>\n      <td>-0.643394</td>\n      <td>-0.180260</td>\n      <td>-4.374945</td>\n    </tr>\n  </tbody>\n</table>\n</div>"
          },
          "metadata": {}
        }
      ],
      "execution_count": 9,
      "metadata": {
        "collapsed": true,
        "jupyter": {
          "source_hidden": false,
          "outputs_hidden": false
        },
        "nteract": {
          "transient": {
            "deleting": false
          }
        },
        "gather": {
          "logged": 1629730935910
        }
      }
    },
    {
      "cell_type": "code",
      "source": [
        "# Random Agent, before training\n",
        "mean_reward, std_reward = evaluate_policy(a2c_model, venv, n_eval_episodes=5)\n",
        "print(f\"mean_reward:{mean_reward:.2f} +/- {std_reward:.2f}\")"
      ],
      "outputs": [
        {
          "output_type": "stream",
          "name": "stdout",
          "text": [
            "day: 2516                 reward: 0.000                 sharpe: -0.008                  psr: 0.000                  cum. rtns: -100.000                 portf val: 0.00\n",
            "day: 2516                 reward: 0.000                 sharpe: -0.008                  psr: 0.000                  cum. rtns: -100.000                 portf val: 0.00\n",
            "day: 2516                 reward: 0.000                 sharpe: -0.008                  psr: 0.000                  cum. rtns: -100.000                 portf val: 0.00\n",
            "day: 2516                 reward: 0.000                 sharpe: -0.008                  psr: 0.000                  cum. rtns: -100.000                 portf val: 0.00\n",
            "day: 2516                 reward: 0.000                 sharpe: -0.008                  psr: 0.000                  cum. rtns: -100.000                 portf val: 0.00\n",
            "mean_reward:27542794.00 +/- 0.00\n"
          ]
        }
      ],
      "execution_count": 8,
      "metadata": {
        "collapsed": false,
        "pycharm": {
          "name": "#%%\n"
        },
        "gather": {
          "logged": 1629730897754
        }
      }
    },
    {
      "cell_type": "code",
      "source": [
        "total_timesteps = 2 * (len(venv.venv.envs[0].data.date.unique())-1)\n",
        "#total_timesteps = 2 * (len(train_env.data.date.unique())-1)\n",
        "trained_a2c_model= a2c_model.learn(total_timesteps=total_timesteps,\n",
        "                                   tb_log_name='A2C'+datetime.now().strftime(\"%H-%M\"))"
      ],
      "outputs": [
        {
          "output_type": "stream",
          "name": "stdout",
          "text": [
            "day: 2516                 reward: 0.000                 sharpe: -0.009                  psr: 0.000                  cum. rtns: -100.000                 portf val: 0.00\n",
            "day: 2516                 reward: 0.000                 sharpe: -0.009                  psr: 0.000                  cum. rtns: -100.000                 portf val: 0.00\n"
          ]
        }
      ],
      "execution_count": 10,
      "metadata": {
        "pycharm": {
          "name": "#%%\n"
        },
        "id": "rC1P65268f3-",
        "gather": {
          "logged": 1629730298975
        }
      }
    },
    {
      "cell_type": "code",
      "source": [
        "mean_reward, std_reward = evaluate_policy(trained_a2c_model, venv, n_eval_episodes=5)\n",
        "print(f\"mean_reward:{mean_reward:.2f} +/- {std_reward:.2f}\")"
      ],
      "outputs": [
        {
          "output_type": "stream",
          "name": "stdout",
          "text": [
            "day: 2516                 reward: 2489789.039                 sharpe: 0.276                  psr: 0.000                  cum. rtns: 148.979                 portf val: 2,489,789.04\n",
            "day: 2516                 reward: 2489401.154                 sharpe: 0.276                  psr: 0.000                  cum. rtns: 148.940                 portf val: 2,489,401.15\n",
            "day: 2516                 reward: 2489093.883                 sharpe: 0.276                  psr: 0.000                  cum. rtns: 148.909                 portf val: 2,489,093.88\n",
            "day: 2516                 reward: 2488820.449                 sharpe: 0.276                  psr: 0.000                  cum. rtns: 148.882                 portf val: 2,488,820.45\n",
            "day: 2516                 reward: 2488584.486                 sharpe: 0.276                  psr: 0.000                  cum. rtns: 148.858                 portf val: 2,488,584.49\n",
            "mean_reward:57.55 +/- 0.54\n"
          ]
        }
      ],
      "execution_count": 25,
      "metadata": {
        "collapsed": false,
        "pycharm": {
          "name": "#%%\n"
        }
      }
    },
    {
      "cell_type": "code",
      "source": [
        "'''\n",
        "\n",
        "eval_kwargs = {'filename':'sp500.csv',\n",
        "    'date_from':'2018-01-01',\n",
        "    'date_to':'2020-12-31',\n",
        "    'investment':1000000,\n",
        "    'risk_free_rate': 0.5,\n",
        "    'reward_function':'daily_returns'}\n",
        "\n",
        "eval_env =  Monitor(gym.make('PortfolioAllocation-v0', **eval_kwargs))\n",
        "\n",
        "mean_reward, std_reward = evaluate_policy(trained_a2c_model, eval_env, n_eval_episodes=10)\n",
        "print(f\"mean_reward:{mean_reward:.2f} +/- {std_reward:.2f}\")\n",
        "'''"
      ],
      "outputs": [],
      "execution_count": null,
      "metadata": {
        "collapsed": false,
        "pycharm": {
          "name": "#%%\n"
        }
      }
    },
    {
      "cell_type": "code",
      "source": [
        "trained_a2c_model.save('sp500_08_17_opt_49')\n",
        "\n",
        "\n",
        "\n"
      ],
      "outputs": [],
      "execution_count": 39,
      "metadata": {
        "collapsed": false,
        "pycharm": {
          "name": "#%%\n"
        }
      }
    }
  ],
  "metadata": {
    "kernelspec": {
      "name": "azureml_py38_pytorch",
      "language": "python",
      "display_name": "Python 3.8 - PyTorch"
    },
    "language_info": {
      "name": "python",
      "version": "3.8.1",
      "mimetype": "text/x-python",
      "codemirror_mode": {
        "name": "ipython",
        "version": 3
      },
      "pygments_lexer": "ipython3",
      "nbconvert_exporter": "python",
      "file_extension": ".py"
    },
    "colab": {
      "name": "Example.ipynb",
      "provenance": [],
      "collapsed_sections": []
    },
    "accelerator": "GPU",
    "kernel_info": {
      "name": "azureml_py38_pytorch"
    },
    "nteract": {
      "version": "nteract-front-end@1.0.0"
    },
    "microsoft": {
      "host": {
        "AzureML": {
          "notebookHasBeenCompleted": true
        }
      }
    }
  },
  "nbformat": 4,
  "nbformat_minor": 0
}