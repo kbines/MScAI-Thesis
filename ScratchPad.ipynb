{
 "cells": [
  {
   "cell_type": "code",
   "execution_count": 2,
   "metadata": {},
   "outputs": [
    {
     "data": {
      "text/plain": [
       "1"
      ]
     },
     "execution_count": 2,
     "metadata": {},
     "output_type": "execute_result"
    }
   ],
   "source": [
    "100 % 9"
   ]
  },
  {
   "cell_type": "code",
   "execution_count": 4,
   "metadata": {},
   "outputs": [],
   "source": [
    "import numpy as np"
   ]
  },
  {
   "cell_type": "code",
   "execution_count": 3,
   "metadata": {
    "jupyter": {
     "source_hidden": true
    },
    "tags": []
   },
   "outputs": [],
   "source": [
    "w = np.array([0.0000000e+00, 4.8938165e-03, 0.0000000e+00, 8.7765692e-04, 0.0000000e+00\n",
    ", 0.0000000e+00, 0.0000000e+00, 0.0000000e+00, 0.0000000e+00, 1.7618630e-03\n",
    ", 1.6832582e-03, 7.4703936e-03, 0.0000000e+00, 7.4703936e-03, 7.4703936e-03\n",
    ", 0.0000000e+00, 7.4703936e-03, 0.0000000e+00, 0.0000000e+00, 0.0000000e+00\n",
    ", 0.0000000e+00, 0.0000000e+00, 0.0000000e+00, 3.3179331e-03, 7.4703936e-03\n",
    ", 2.9956133e-03, 0.0000000e+00, 7.4703936e-03, 7.3291087e-03, 3.5115716e-03\n",
    ", 0.0000000e+00, 0.0000000e+00, 0.0000000e+00, 0.0000000e+00, 0.0000000e+00\n",
    ", 0.0000000e+00, 0.0000000e+00, 7.4703936e-03, 7.4703936e-03, 7.4703936e-03\n",
    ", 0.0000000e+00, 0.0000000e+00, 7.4703936e-03, 0.0000000e+00, 0.0000000e+00\n",
    ", 0.0000000e+00, 1.2145840e-03, 7.4703936e-03, 0.0000000e+00, 7.4703936e-03\n",
    ", 2.1565885e-03, 7.4703936e-03, 0.0000000e+00, 4.3547632e-05, 7.4703936e-03\n",
    ", 7.4703936e-03, 6.5353974e-03, 0.0000000e+00, 7.4703936e-03, 6.1868443e-03\n",
    ", 1.1176964e-03, 1.0204569e-03, 0.0000000e+00, 0.0000000e+00, 6.0442705e-03\n",
    ", 0.0000000e+00, 0.0000000e+00, 8.0280693e-04, 0.0000000e+00, 1.9087032e-03\n",
    ", 0.0000000e+00, 6.3525261e-03, 4.4938023e-03, 3.9483900e-03, 7.4703936e-03\n",
    ", 5.9221368e-03, 0.0000000e+00, 0.0000000e+00, 6.2213890e-04, 0.0000000e+00\n",
    ", 0.0000000e+00, 2.6297575e-04, 0.0000000e+00, 0.0000000e+00, 8.1655203e-04\n",
    ", 7.4703936e-03, 0.0000000e+00, 7.4703936e-03, 8.6984003e-04, 0.0000000e+00\n",
    ", 7.4703936e-03, 0.0000000e+00, 0.0000000e+00, 0.0000000e+00, 0.0000000e+00\n",
    ", 2.5834891e-04, 0.0000000e+00, 2.9411339e-03, 0.0000000e+00, 7.4703936e-03\n",
    ", 2.2310710e-03, 0.0000000e+00, 0.0000000e+00, 2.1224816e-03, 7.4703936e-03\n",
    ", 0.0000000e+00, 6.0695065e-03, 0.0000000e+00, 6.0583069e-04, 2.8750894e-03\n",
    ", 0.0000000e+00, 1.9780369e-03, 0.0000000e+00, 0.0000000e+00, 0.0000000e+00\n",
    ", 0.0000000e+00, 2.3988030e-04, 7.4703936e-03, 0.0000000e+00, 0.0000000e+00\n",
    ", 2.9863543e-03, 0.0000000e+00, 0.0000000e+00, 0.0000000e+00, 2.3933139e-03\n",
    ", 0.0000000e+00, 0.0000000e+00, 4.7388733e-03, 3.9530362e-04, 0.0000000e+00\n",
    ", 0.0000000e+00, 6.9509414e-03, 0.0000000e+00, 0.0000000e+00, 0.0000000e+00\n",
    ", 2.1942717e-03, 0.0000000e+00, 0.0000000e+00, 7.4703936e-03, 8.0433313e-04\n",
    ", 0.0000000e+00, 3.2551100e-03, 0.0000000e+00, 4.3625464e-03, 5.5313655e-03\n",
    ", 0.0000000e+00, 0.0000000e+00, 0.0000000e+00, 2.2889595e-03, 4.7132289e-03\n",
    ", 0.0000000e+00, 0.0000000e+00, 1.7744756e-03, 0.0000000e+00, 0.0000000e+00\n",
    ", 0.0000000e+00, 0.0000000e+00, 6.9402419e-03, 0.0000000e+00, 0.0000000e+00\n",
    ", 5.8709946e-03, 0.0000000e+00, 0.0000000e+00, 3.6568404e-03, 4.2767494e-04\n",
    ", 0.0000000e+00, 7.4703936e-03, 0.0000000e+00, 0.0000000e+00, 1.3602239e-03\n",
    ", 1.9455735e-03, 0.0000000e+00, 0.0000000e+00, 0.0000000e+00, 0.0000000e+00\n",
    ", 9.4163284e-04, 0.0000000e+00, 7.4703936e-03, 2.6130874e-03, 3.3749335e-03\n",
    ", 5.5340109e-03, 0.0000000e+00, 2.0487616e-03, 0.0000000e+00, 0.0000000e+00\n",
    ", 2.6964562e-03, 0.0000000e+00, 7.4703936e-03, 4.5705214e-03, 0.0000000e+00\n",
    ", 2.5629213e-03, 0.0000000e+00, 0.0000000e+00, 0.0000000e+00, 0.0000000e+00\n",
    ", 0.0000000e+00, 0.0000000e+00, 1.0129805e-03, 0.0000000e+00, 7.4703936e-03\n",
    ", 7.4703936e-03, 0.0000000e+00, 4.7229012e-03, 0.0000000e+00, 4.7881049e-03\n",
    ", 3.1138491e-03, 0.0000000e+00, 0.0000000e+00, 0.0000000e+00, 0.0000000e+00\n",
    ", 0.0000000e+00, 0.0000000e+00, 0.0000000e+00, 0.0000000e+00, 0.0000000e+00\n",
    ", 4.6182508e-03, 2.4753204e-03, 6.5828860e-03, 0.0000000e+00, 0.0000000e+00\n",
    ", 3.2796750e-03, 7.4703936e-03, 4.5326138e-03, 5.1447661e-03, 0.0000000e+00\n",
    ", 0.0000000e+00, 0.0000000e+00, 5.3527164e-03, 3.8246065e-03, 7.4703936e-03\n",
    ", 2.8737553e-04, 0.0000000e+00, 2.0652718e-03, 4.2785006e-03, 0.0000000e+00\n",
    ", 0.0000000e+00, 2.8083182e-03, 3.1632562e-03, 0.0000000e+00, 0.0000000e+00\n",
    ", 0.0000000e+00, 7.4703936e-03, 6.5262616e-04, 0.0000000e+00, 7.1670781e-03\n",
    ", 0.0000000e+00, 6.6892020e-03, 0.0000000e+00, 4.8372471e-03, 2.8457711e-03\n",
    ", 3.2443053e-03, 1.7977068e-03, 0.0000000e+00, 6.5706377e-03, 0.0000000e+00\n",
    ", 0.0000000e+00, 0.0000000e+00, 1.1115350e-03, 0.0000000e+00, 0.0000000e+00\n",
    ", 0.0000000e+00, 7.4703936e-03, 0.0000000e+00, 0.0000000e+00, 1.5040332e-03\n",
    ", 0.0000000e+00, 0.0000000e+00, 7.4703936e-03, 0.0000000e+00, 2.3448837e-03\n",
    ", 4.1892636e-03, 0.0000000e+00, 0.0000000e+00, 0.0000000e+00, 0.0000000e+00\n",
    ", 1.8480527e-03, 0.0000000e+00, 0.0000000e+00, 0.0000000e+00, 4.8628918e-04\n",
    ", 0.0000000e+00, 0.0000000e+00, 0.0000000e+00, 0.0000000e+00, 0.0000000e+00\n",
    ", 0.0000000e+00, 5.3159840e-04, 3.3169768e-03, 0.0000000e+00, 0.0000000e+00\n",
    ", 0.0000000e+00, 0.0000000e+00, 0.0000000e+00, 1.0355497e-03, 0.0000000e+00\n",
    ", 0.0000000e+00, 0.0000000e+00, 2.8584502e-03, 0.0000000e+00, 1.5799776e-03\n",
    ", 0.0000000e+00, 7.4703936e-03, 0.0000000e+00, 1.9332288e-03, 7.4703936e-03\n",
    ", 0.0000000e+00, 2.9776087e-03, 3.4339741e-04, 0.0000000e+00, 0.0000000e+00\n",
    ", 0.0000000e+00, 0.0000000e+00, 5.4902271e-03, 7.0907217e-03, 3.7049663e-03\n",
    ", 7.4703936e-03, 0.0000000e+00, 0.0000000e+00, 0.0000000e+00, 7.4703936e-03\n",
    ", 0.0000000e+00, 0.0000000e+00, 1.1903328e-03, 0.0000000e+00, 0.0000000e+00\n",
    ", 0.0000000e+00, 0.0000000e+00, 0.0000000e+00, 0.0000000e+00, 2.2288037e-03\n",
    ", 1.6813939e-03, 4.0870388e-03, 0.0000000e+00, 0.0000000e+00, 2.1578639e-03\n",
    ", 7.4703936e-03, 7.4703936e-03, 7.4703936e-03, 5.4036938e-03, 7.4703936e-03\n",
    ", 2.5762159e-03, 0.0000000e+00, 0.0000000e+00, 2.3548437e-04, 0.0000000e+00\n",
    ", 0.0000000e+00, 0.0000000e+00, 4.6167816e-03, 7.1598105e-03, 9.8635466e-04\n",
    ", 7.4703936e-03, 6.3732909e-03, 0.0000000e+00, 7.4703936e-03, 7.4426564e-03\n",
    ", 0.0000000e+00, 1.5770402e-03, 1.0473626e-03, 7.4703936e-03, 7.4703936e-03\n",
    ", 0.0000000e+00, 7.4703936e-03, 0.0000000e+00, 5.5238511e-03, 0.0000000e+00\n",
    ", 3.4482655e-04, 0.0000000e+00, 0.0000000e+00, 0.0000000e+00, 3.6001166e-03\n",
    ", 0.0000000e+00, 7.4601490e-03, 6.8846252e-03, 7.4703936e-03, 0.0000000e+00\n",
    ", 0.0000000e+00, 0.0000000e+00, 0.0000000e+00, 1.5278030e-03, 7.4703936e-03\n",
    ", 0.0000000e+00, 0.0000000e+00, 0.0000000e+00, 0.0000000e+00, 0.0000000e+00\n",
    ", 0.0000000e+00, 0.0000000e+00, 7.4703936e-03, 4.3465458e-03, 0.0000000e+00\n",
    ", 0.0000000e+00, 7.4703936e-03, 1.1565140e-03, 4.2180931e-03, 0.0000000e+00\n",
    ", 0.0000000e+00, 0.0000000e+00, 0.0000000e+00, 7.4703936e-03, 0.0000000e+00\n",
    ", 0.0000000e+00, 1.6992745e-03, 0.0000000e+00, 0.0000000e+00, 0.0000000e+00\n",
    ", 0.0000000e+00, 7.4703936e-03, 3.2229519e-03, 2.0039042e-03, 5.0023720e-03\n",
    ", 9.5165154e-04, 0.0000000e+00, 7.4703936e-03, 1.9348166e-03, 0.0000000e+00\n",
    ", 0.0000000e+00, 2.7913929e-04, 0.0000000e+00, 5.5955851e-04, 0.0000000e+00\n",
    ", 0.0000000e+00, 4.1299802e-03, 0.0000000e+00, 0.0000000e+00, 7.4703936e-03\n",
    ", 3.6614584e-03, 0.0000000e+00, 7.4703936e-03, 7.4703936e-03, 7.4703936e-03\n",
    ", 0.0000000e+00, 1.4270861e-03, 0.0000000e+00, 7.4703936e-03, 4.9302541e-03\n",
    ", 0.0000000e+00, 7.4703936e-03, 5.2567391e-04, 7.4703936e-03, 0.0000000e+00\n",
    ", 7.4703936e-03, 0.0000000e+00, 2.7698276e-03, 6.6344719e-03, 3.4318666e-03\n",
    ", 0.0000000e+00, 0.0000000e+00, 0.0000000e+00, 0.0000000e+00, 0.0000000e+00\n",
    ", 2.6167657e-03, 6.2847012e-03, 7.4703936e-03, 0.0000000e+00, 0.0000000e+00\n",
    ", 3.6013990e-03, 0.0000000e+00, 0.0000000e+00, 7.7594537e-04, 2.6999912e-03\n",
    ", 0.0000000e+00, 0.0000000e+00, 0.0000000e+00, 0.0000000e+00, 2.4587382e-03\n",
    ", 3.2619280e-03, 3.2786251e-04, 0.0000000e+00, 0.0000000e+00, 6.7857695e-03\n",
    ", 2.0532683e-03, 4.0840833e-03, 0.0000000e+00, 0.0000000e+00, 1.4553624e-03\n",
    ", 0.0000000e+00, 6.4486340e-03, 1.6522647e-03, 0.0000000e+00, 0.0000000e+00\n",
    ", 0.0000000e+00, 6.2393921e-04, 1.8885005e-03, 5.7401680e-03, 0.0000000e+00\n",
    ", 7.4703936e-03, 4.7017122e-03, 3.4956314e-04, 0.0000000e+00, 3.8625116e-03\n",
    ", 0.0000000e+00, 4.6131453e-03, 0.0000000e+00, 0.0000000e+00, 7.4703936e-03])"
   ]
  },
  {
   "cell_type": "markdown",
   "metadata": {},
   "source": [
    "# Sharpe - https://medium.com/the-innovation/portfolio-analysis-basics-volatility-sharpe-ratio-d7521d79ba0"
   ]
  },
  {
   "cell_type": "code",
   "execution_count": 1,
   "metadata": {},
   "outputs": [],
   "source": [
    "import pandas as pd\n",
    "import numpy as np\n",
    "def daily_returns(prices):\n",
    "    # cur_price / prev_price - 1.0 = daily_returns\n",
    "    res = (prices/prices.shift(1) - 1.0)[1:]\n",
    "    res.columns = ['return']\n",
    "\n",
    "    return res\n",
    "def brownian_prices(start, end,\n",
    "                    mu=0.0001, sigma=0.01, s0=100.0):\n",
    "\n",
    "    bdates = pd.bdate_range(start, end)\n",
    "    size = len(bdates)\n",
    "\n",
    "    np.random.seed(1)\n",
    "    wt = np.random.standard_normal(size)\n",
    "    # GBM process\n",
    "    st = s0 * np.cumprod(\n",
    "        np.exp(mu - (sigma * sigma / 2.0)\n",
    "        + sigma * wt))\n",
    "\n",
    "    return pd.DataFrame(data={'date': bdates,\n",
    "                              'price': st}).set_index('date')"
   ]
  },
  {
   "cell_type": "code",
   "execution_count": 2,
   "metadata": {},
   "outputs": [],
   "source": [
    "start = '20100101'\n",
    "end = '20200101'\n",
    "returns1 = daily_returns(brownian_prices(start,\n",
    "                                         end,\n",
    "                                         mu=0.002,\n",
    "                                         sigma=0.01,\n",
    "                                         s0=100.0))\n",
    "\n",
    "returns2 = daily_returns(brownian_prices(start,\n",
    "                                         end,\n",
    "                                         mu=0.002,\n",
    "                                         sigma=0.02,\n",
    "                                         s0=100.0))\n",
    "\n",
    "returns3 = daily_returns(brownian_prices(start,\n",
    "                                         end,\n",
    "                                         mu=0.0022,\n",
    "                                         sigma=0.05,\n",
    "                                         s0=100.0))\n",
    "\n",
    "returns4 = daily_returns(brownian_prices(start,\n",
    "                                         end,\n",
    "                                         mu=0.0054,\n",
    "                                         sigma=0.1,\n",
    "                                         s0=100.0))"
   ]
  },
  {
   "cell_type": "code",
   "execution_count": 4,
   "metadata": {},
   "outputs": [
    {
     "data": {
      "text/html": [
       "<div>\n",
       "<style scoped>\n",
       "    .dataframe tbody tr th:only-of-type {\n",
       "        vertical-align: middle;\n",
       "    }\n",
       "\n",
       "    .dataframe tbody tr th {\n",
       "        vertical-align: top;\n",
       "    }\n",
       "\n",
       "    .dataframe thead th {\n",
       "        text-align: right;\n",
       "    }\n",
       "</style>\n",
       "<table border=\"1\" class=\"dataframe\">\n",
       "  <thead>\n",
       "    <tr style=\"text-align: right;\">\n",
       "      <th></th>\n",
       "      <th>return</th>\n",
       "    </tr>\n",
       "    <tr>\n",
       "      <th>date</th>\n",
       "      <th></th>\n",
       "    </tr>\n",
       "  </thead>\n",
       "  <tbody>\n",
       "    <tr>\n",
       "      <th>2010-01-04</th>\n",
       "      <td>-0.004159</td>\n",
       "    </tr>\n",
       "    <tr>\n",
       "      <th>2010-01-05</th>\n",
       "      <td>-0.003326</td>\n",
       "    </tr>\n",
       "    <tr>\n",
       "      <th>2010-01-06</th>\n",
       "      <td>-0.008741</td>\n",
       "    </tr>\n",
       "    <tr>\n",
       "      <th>2010-01-07</th>\n",
       "      <td>0.010660</td>\n",
       "    </tr>\n",
       "    <tr>\n",
       "      <th>2010-01-08</th>\n",
       "      <td>-0.020845</td>\n",
       "    </tr>\n",
       "    <tr>\n",
       "      <th>...</th>\n",
       "      <td>...</td>\n",
       "    </tr>\n",
       "    <tr>\n",
       "      <th>2019-12-26</th>\n",
       "      <td>0.002696</td>\n",
       "    </tr>\n",
       "    <tr>\n",
       "      <th>2019-12-27</th>\n",
       "      <td>-0.008546</td>\n",
       "    </tr>\n",
       "    <tr>\n",
       "      <th>2019-12-30</th>\n",
       "      <td>0.001946</td>\n",
       "    </tr>\n",
       "    <tr>\n",
       "      <th>2019-12-31</th>\n",
       "      <td>0.006036</td>\n",
       "    </tr>\n",
       "    <tr>\n",
       "      <th>2020-01-01</th>\n",
       "      <td>0.013667</td>\n",
       "    </tr>\n",
       "  </tbody>\n",
       "</table>\n",
       "<p>2608 rows × 1 columns</p>\n",
       "</div>"
      ],
      "text/plain": [
       "              return\n",
       "date                \n",
       "2010-01-04 -0.004159\n",
       "2010-01-05 -0.003326\n",
       "2010-01-06 -0.008741\n",
       "2010-01-07  0.010660\n",
       "2010-01-08 -0.020845\n",
       "...              ...\n",
       "2019-12-26  0.002696\n",
       "2019-12-27 -0.008546\n",
       "2019-12-30  0.001946\n",
       "2019-12-31  0.006036\n",
       "2020-01-01  0.013667\n",
       "\n",
       "[2608 rows x 1 columns]"
      ]
     },
     "execution_count": 4,
     "metadata": {},
     "output_type": "execute_result"
    }
   ],
   "source": [
    "returns1"
   ]
  },
  {
   "cell_type": "code",
   "execution_count": 5,
   "metadata": {},
   "outputs": [
    {
     "name": "stdout",
     "output_type": "stream",
     "text": [
      "0.01005330534613989\n",
      "0.020109030209555907\n",
      "0.050316302807302545\n",
      "0.10117352761398334\n"
     ]
    }
   ],
   "source": [
    "print(np.nanstd(returns1))\n",
    "print(np.nanstd(returns2))\n",
    "print(np.nanstd(returns3))\n",
    "print(np.nanstd(returns4))"
   ]
  },
  {
   "cell_type": "code",
   "execution_count": 193,
   "metadata": {},
   "outputs": [],
   "source": [
    "def sharpe(returns, risk_free=0.1):\n",
    "    adj_returns = returns - risk_free\n",
    "    return (np.nanmean(adj_returns) * np.sqrt(252)) \\\n",
    "           / np.nanstd(adj_returns)"
   ]
  },
  {
   "cell_type": "code",
   "execution_count": 194,
   "metadata": {},
   "outputs": [
    {
     "name": "stdout",
     "output_type": "stream",
     "text": [
      "-154.4273669320855\n",
      "-77.04650243719105\n",
      "-30.538064133447165\n",
      "-14.522850543390465\n"
     ]
    }
   ],
   "source": [
    "print(sharpe(returns1))\n",
    "print(sharpe(returns2))\n",
    "print(sharpe(returns3))\n",
    "print(sharpe(returns4))"
   ]
  },
  {
   "cell_type": "code",
   "execution_count": 28,
   "metadata": {},
   "outputs": [],
   "source": [
    "def sortino(returns, risk_free=0):\n",
    "    adj_returns = returns - risk_free\n",
    "    \n",
    "    sqr_downside = np.square(np.clip(adj_returns, np.NINF, 0))\n",
    "    drisk = np.sqrt(np.nanmean(sqr_downside) * 252)\n",
    "\n",
    "    if drisk == 0:\n",
    "        return np.nan\n",
    "\n",
    "    return (np.nanmean(adj_returns) * np.sqrt(252))  / drisk"
   ]
  },
  {
   "cell_type": "code",
   "execution_count": 27,
   "metadata": {},
   "outputs": [
    {
     "name": "stdout",
     "output_type": "stream",
     "text": [
      "0.3703086929584153\n",
      "0.18661284367980077\n",
      "0.09636439957056862\n",
      "0.11485292733996215\n"
     ]
    }
   ],
   "source": [
    "print(sortino(returns1))\n",
    "print(sortino(returns2))\n",
    "print(sortino(returns3))\n",
    "print(sortino(returns4))"
   ]
  },
  {
   "cell_type": "code",
   "execution_count": 29,
   "metadata": {},
   "outputs": [
    {
     "name": "stdout",
     "output_type": "stream",
     "text": [
      "0.3703086929584153\n",
      "0.18661284367980077\n",
      "0.09636439957056862\n",
      "0.11485292733996215\n"
     ]
    }
   ],
   "source": [
    "print(sortino(returns1))\n",
    "print(sortino(returns2))\n",
    "print(sortino(returns3))\n",
    "print(sortino(returns4))"
   ]
  },
  {
   "cell_type": "code",
   "execution_count": null,
   "metadata": {},
   "outputs": [],
   "source": [
    "    def get_sharpe(self):\n",
    "        \n",
    "        # If the standard deviation is 0 then this means we a risk free investment - very unlikley\n",
    "        # However in the early stages of a portfolio this could be true so we set the sharp ratio to 0\n",
    "        # which infers a return equal to the risk free rate\n",
    "        \n",
    "        if np.std(self.portfolio_returns_history) == 0:\n",
    "            sharpe = 0\n",
    "        \n",
    "        else:\n",
    "            \n",
    "            # Risk free interest rate is the minimum of the risk free rate param and the risk free rate apportioned across lookback days\n",
    "            sharpe = (np.mean(self.adj_returns) \\\n",
    "                      * np.sqrt(self.effective_lookback)) \\\n",
    "                      / np.std(self.adj_returns)\n",
    "        \n",
    "        return sharpe\n",
    "    \n",
    "    def get_sortino(self):\n",
    "        \n",
    "        # Downside risk\n",
    "        sqr_downside = np.square(np.clip(self.adj_returns, np.NINF, 0))\n",
    "        downside_risk = np.sqrt(np.nanmean(sqr_downside) * self.effective_lookback)\n",
    "        \n",
    "        if downside_risk == 0:\n",
    "            sortino = 0\n",
    "        else:\n",
    "            sortino = (np.nanmean(self.adj_returns) * np.sqrt(self.effective_lookback))\n",
    "            \n",
    "        return sortino"
   ]
  },
  {
   "cell_type": "code",
   "execution_count": 30,
   "metadata": {},
   "outputs": [],
   "source": [
    "rfr =0.5"
   ]
  },
  {
   "cell_type": "code",
   "execution_count": 31,
   "metadata": {},
   "outputs": [],
   "source": [
    "lb = 252"
   ]
  },
  {
   "cell_type": "code",
   "execution_count": 32,
   "metadata": {},
   "outputs": [],
   "source": [
    "day = 252/2\n"
   ]
  },
  {
   "cell_type": "code",
   "execution_count": 34,
   "metadata": {},
   "outputs": [
    {
     "data": {
      "text/plain": [
       "0.25"
      ]
     },
     "execution_count": 34,
     "metadata": {},
     "output_type": "execute_result"
    }
   ],
   "source": [
    "day/lb * rfr"
   ]
  },
  {
   "cell_type": "code",
   "execution_count": 83,
   "metadata": {},
   "outputs": [],
   "source": [
    "def sharpe(returns, risk_free=0):\n",
    "    adj_returns = returns - risk_free\n",
    "    return (np.nanmean(adj_returns) * np.sqrt(252)) \\\n",
    "           / np.nanstd(adj_returns)"
   ]
  },
  {
   "cell_type": "code",
   "execution_count": 81,
   "metadata": {},
   "outputs": [
    {
     "name": "stdout",
     "output_type": "stream",
     "text": [
      "3.4760023561335767\n",
      "1.8956827450854112\n",
      "1.0113681195196318\n",
      "1.1675264166331212\n"
     ]
    }
   ],
   "source": [
    "print(sharpe(returns1))\n",
    "print(sharpe(returns2))\n",
    "print(sharpe(returns3))\n",
    "print(sharpe(returns4))"
   ]
  },
  {
   "cell_type": "code",
   "execution_count": 66,
   "metadata": {},
   "outputs": [],
   "source": [
    "def sharpe2(returns, risk_free=0, lb=252, day=252):\n",
    "    adj_returns = returns[-min(day,lb):] - ((min(day,lb)/lb) * risk_free)\n",
    "    return np.nanmean(adj_returns) / np.nanstd(adj_returns)"
   ]
  },
  {
   "cell_type": "code",
   "execution_count": 84,
   "metadata": {},
   "outputs": [
    {
     "name": "stdout",
     "output_type": "stream",
     "text": [
      "-786.0408440849619\n",
      "-392.815243166297\n",
      "-156.73579314531435\n",
      "-77.28435838348481\n"
     ]
    }
   ],
   "source": [
    "print(sharpe(returns1,0.5))\n",
    "print(sharpe(returns2,0.5))\n",
    "print(sharpe(returns3,0.5))\n",
    "print(sharpe(returns4,0.5))"
   ]
  },
  {
   "cell_type": "code",
   "execution_count": 74,
   "metadata": {},
   "outputs": [
    {
     "name": "stdout",
     "output_type": "stream",
     "text": [
      "-50.0297746038411\n",
      "-25.015236338855665\n",
      "-9.997460630441553\n",
      "-4.943012105718515\n"
     ]
    }
   ],
   "source": [
    "print(sharpe2(returns1,0.5))\n",
    "print(sharpe2(returns2,0.5))\n",
    "print(sharpe2(returns3,0.5))\n",
    "print(sharpe2(returns4,0.5))"
   ]
  },
  {
   "cell_type": "code",
   "execution_count": 52,
   "metadata": {},
   "outputs": [
    {
     "data": {
      "text/plain": [
       "(              return\n",
       " date                \n",
       " 2019-12-26  0.002696\n",
       " 2019-12-27 -0.008546\n",
       " 2019-12-30  0.001946\n",
       " 2019-12-31  0.006036\n",
       " 2020-01-01  0.013667,\n",
       "               return\n",
       " date                \n",
       " 2020-01-01  0.013667)"
      ]
     },
     "execution_count": 52,
     "metadata": {},
     "output_type": "execute_result"
    }
   ],
   "source": [
    "returns1.tail(), returns1[-1:]"
   ]
  },
  {
   "cell_type": "code",
   "execution_count": 76,
   "metadata": {},
   "outputs": [],
   "source": [
    "import quantstats as qs"
   ]
  },
  {
   "cell_type": "code",
   "execution_count": 96,
   "metadata": {},
   "outputs": [
    {
     "data": {
      "text/plain": [
       "0.25"
      ]
     },
     "execution_count": 96,
     "metadata": {},
     "output_type": "execute_result"
    }
   ],
   "source": [
    "126/252 * 0.5"
   ]
  },
  {
   "cell_type": "code",
   "execution_count": 164,
   "metadata": {},
   "outputs": [
    {
     "data": {
      "text/plain": [
       "return    0.933131\n",
       "dtype: float64"
      ]
     },
     "execution_count": 164,
     "metadata": {},
     "output_type": "execute_result"
    }
   ],
   "source": [
    "qs.stats.sharpe(returns = returns1, rf = 0.5)"
   ]
  },
  {
   "cell_type": "code",
   "execution_count": 165,
   "metadata": {},
   "outputs": [
    {
     "data": {
      "text/plain": [
       "return    3.475336\n",
       "dtype: float64"
      ]
     },
     "execution_count": 165,
     "metadata": {},
     "output_type": "execute_result"
    }
   ],
   "source": [
    "qs.stats.sharpe(returns = returns1, rf = 0.0)\n"
   ]
  },
  {
   "cell_type": "code",
   "execution_count": 108,
   "metadata": {},
   "outputs": [
    {
     "data": {
      "text/plain": [
       "(return   -1.613167\n",
       " dtype: float64,)"
      ]
     },
     "execution_count": 108,
     "metadata": {},
     "output_type": "execute_result"
    }
   ],
   "source": [
    "qs.stats.sharpe(returns = returns1, rf = 0.5, periods=126, annualize=True, trading_year_days = 252),"
   ]
  },
  {
   "cell_type": "code",
   "execution_count": 129,
   "metadata": {},
   "outputs": [],
   "source": [
    "r = np.array(returns1['return'])"
   ]
  },
  {
   "cell_type": "code",
   "execution_count": 130,
   "metadata": {},
   "outputs": [
    {
     "data": {
      "text/plain": [
       "array([-0.00415889, -0.00332617, -0.00874126, ...,  0.00194576,\n",
       "        0.00603574,  0.01366713])"
      ]
     },
     "execution_count": 130,
     "metadata": {},
     "output_type": "execute_result"
    }
   ],
   "source": [
    "r"
   ]
  },
  {
   "cell_type": "code",
   "execution_count": 159,
   "metadata": {},
   "outputs": [
    {
     "data": {
      "text/plain": [
       "array([-785.89013162])"
      ]
     },
     "execution_count": 159,
     "metadata": {},
     "output_type": "execute_result"
    }
   ],
   "source": [
    "ep.sharpe_ratio(returns1,0.5)"
   ]
  },
  {
   "cell_type": "code",
   "execution_count": 116,
   "metadata": {},
   "outputs": [
    {
     "data": {
      "text/plain": [
       "array([-785.89013162])"
      ]
     },
     "execution_count": 116,
     "metadata": {},
     "output_type": "execute_result"
    }
   ],
   "source": [
    "ep.sharpe_ratio(returns = returns1, risk_free = 0.5, annualization=252 )"
   ]
  },
  {
   "cell_type": "code",
   "execution_count": 176,
   "metadata": {},
   "outputs": [],
   "source": [
    "def qsharpe(returns, rf=0., periods=252, trading_year_days=252):\n",
    "    \n",
    "    rf = returns - np.power(1 + rf, 1. / periods) - 1.\n",
    "    \n",
    "    adj_returns = returns - rf\n",
    "    \n",
    "    sharpe = np.mean(adj_returns) / adj_returns.std() * np.sqrt(trading_year_days)\n",
    "    \n",
    "    return sharpe\n",
    "    "
   ]
  },
  {
   "cell_type": "code",
   "execution_count": 177,
   "metadata": {},
   "outputs": [
    {
     "name": "stderr",
     "output_type": "stream",
     "text": [
      "<ipython-input-176-7ecd0be38ff9>:7: RuntimeWarning: divide by zero encountered in double_scalars\n",
      "  sharpe = np.mean(adj_returns) / adj_returns.std() * np.sqrt(trading_year_days)\n"
     ]
    },
    {
     "data": {
      "text/plain": [
       "inf"
      ]
     },
     "execution_count": 177,
     "metadata": {},
     "output_type": "execute_result"
    }
   ],
   "source": [
    "qsharpe(returns = r, rf = 0.5)"
   ]
  },
  {
   "cell_type": "code",
   "execution_count": 187,
   "metadata": {},
   "outputs": [],
   "source": [
    "r1 = qs.utils._prepare_returns(returns1, 0.5, 252)"
   ]
  },
  {
   "cell_type": "code",
   "execution_count": 203,
   "metadata": {},
   "outputs": [],
   "source": [
    "    def get_sharpe(r): \n",
    "                                                  \n",
    "        adj_returns =  r -  0.5                                    \n",
    "        sharpe  = (adj_returns.mean() / r.std()) #* np.sqrt(252)\n",
    "        \n",
    "        return sharpe"
   ]
  },
  {
   "cell_type": "code",
   "execution_count": 204,
   "metadata": {},
   "outputs": [
    {
     "data": {
      "text/plain": [
       "-49.50642490693479"
      ]
     },
     "execution_count": 204,
     "metadata": {},
     "output_type": "execute_result"
    }
   ],
   "source": [
    "get_sharpe(returns1['return'])"
   ]
  },
  {
   "cell_type": "code",
   "execution_count": 189,
   "metadata": {},
   "outputs": [
    {
     "data": {
      "text/plain": [
       "return    0.933131\n",
       "dtype: float64"
      ]
     },
     "execution_count": 189,
     "metadata": {},
     "output_type": "execute_result"
    }
   ],
   "source": [
    "qs.stats.sharpe(returns = returns1, rf = 0.5)"
   ]
  },
  {
   "cell_type": "code",
   "execution_count": 200,
   "metadata": {},
   "outputs": [
    {
     "data": {
      "text/plain": [
       "0.0022013478064479217"
      ]
     },
     "execution_count": 200,
     "metadata": {},
     "output_type": "execute_result"
    }
   ],
   "source": [
    "returns1['return'].mean()"
   ]
  },
  {
   "cell_type": "code",
   "execution_count": 201,
   "metadata": {},
   "outputs": [
    {
     "data": {
      "text/plain": [
       "0.010055233298088988"
      ]
     },
     "execution_count": 201,
     "metadata": {},
     "output_type": "execute_result"
    }
   ],
   "source": [
    "returns1['return'].std()"
   ]
  },
  {
   "cell_type": "code",
   "execution_count": 205,
   "metadata": {},
   "outputs": [],
   "source": [
    "def sharpe_ratio(return_series, N, rf):\n",
    "    mean = return_series.mean() * N -rf\n",
    "    sigma = return_series.std() * np.sqrt(N)\n",
    "    return mean / sigma"
   ]
  },
  {
   "cell_type": "code",
   "execution_count": 207,
   "metadata": {},
   "outputs": [
    {
     "data": {
      "text/plain": [
       "0.34293323192533404"
      ]
     },
     "execution_count": 207,
     "metadata": {},
     "output_type": "execute_result"
    }
   ],
   "source": [
    "sharpe_ratio(returns1['return'], 252, 0.5)"
   ]
  },
  {
   "cell_type": "code",
   "execution_count": 257,
   "metadata": {},
   "outputs": [],
   "source": [
    "import ffn"
   ]
  },
  {
   "cell_type": "code",
   "execution_count": 209,
   "metadata": {},
   "outputs": [],
   "source": [
    "cumulative_ret=r.cumprod()"
   ]
  },
  {
   "cell_type": "code",
   "execution_count": 212,
   "metadata": {},
   "outputs": [
    {
     "data": {
      "text/plain": [
       "<Figure size 432x288 with 0 Axes>"
      ]
     },
     "metadata": {},
     "output_type": "display_data"
    }
   ],
   "source": [
    "import matplotlib.pyplot as plt\n",
    "fig = plt.figure()\n",
    "#ax1 = fig.add_axes([0.1,0.1,0.8,0.8])\n",
    "ax1.plot(cumulative_ret)\n",
    "ax1.set_xlabel('Date')\n",
    "ax1.set_ylabel(\"Cumulative Returns\")\n",
    "ax1.set_title(\"Portfolio Cumulative Returns\")\n",
    "plt.show();"
   ]
  },
  {
   "cell_type": "code",
   "execution_count": 218,
   "metadata": {},
   "outputs": [
    {
     "data": {
      "text/plain": [
       "2608"
      ]
     },
     "execution_count": 218,
     "metadata": {},
     "output_type": "execute_result"
    }
   ],
   "source": [
    "len(cumulative_ret)"
   ]
  },
  {
   "cell_type": "code",
   "execution_count": 221,
   "metadata": {},
   "outputs": [
    {
     "data": {
      "text/plain": [
       "1.3833196046540004e-05"
      ]
     },
     "execution_count": 221,
     "metadata": {},
     "output_type": "execute_result"
    }
   ],
   "source": [
    "cumulative_ret[1]"
   ]
  },
  {
   "cell_type": "code",
   "execution_count": 228,
   "metadata": {},
   "outputs": [],
   "source": [
    "x = np.array([0.78662558,1.18723672, 1.53037466, 1.41413817, 0., 1.43687504 ,1.1500508,  1.6526738,  1.48494461, 1.11052821, 1.6424263])"
   ]
  },
  {
   "cell_type": "code",
   "execution_count": 229,
   "metadata": {},
   "outputs": [
    {
     "data": {
      "text/plain": [
       "array([0.78662558, 0.93391077, 1.42923338, 2.02113348, 0.        ,\n",
       "       0.        , 0.        , 0.        , 0.        , 0.        ,\n",
       "       0.        ])"
      ]
     },
     "execution_count": 229,
     "metadata": {},
     "output_type": "execute_result"
    }
   ],
   "source": [
    "x.cumprod()"
   ]
  },
  {
   "cell_type": "code",
   "execution_count": 252,
   "metadata": {},
   "outputs": [],
   "source": [
    "x = np.array([1,0.78662558,1.18723672, 1.53037466, 1.41413817, 0.68399145, 1.43687504 ,1.1500508,  1.6526738,  1.48494461, 1.11052821, 1.6424263])"
   ]
  },
  {
   "cell_type": "code",
   "execution_count": 253,
   "metadata": {},
   "outputs": [
    {
     "data": {
      "text/plain": [
       "array([ 1.        ,  0.78662558,  0.93391077,  1.42923338,  2.02113348,\n",
       "        1.38243802,  1.98639068,  2.2844502 ,  3.77545099,  5.60633559,\n",
       "        6.22599383, 10.22573601])"
      ]
     },
     "execution_count": 253,
     "metadata": {},
     "output_type": "execute_result"
    }
   ],
   "source": [
    "x.cumprod()"
   ]
  },
  {
   "cell_type": "code",
   "execution_count": 256,
   "metadata": {},
   "outputs": [
    {
     "data": {
      "text/plain": [
       "(10.225736010362425, 10.225736010362425)"
      ]
     },
     "execution_count": 256,
     "metadata": {},
     "output_type": "execute_result"
    }
   ],
   "source": [
    "x.prod(), x.prod().squeeze()"
   ]
  },
  {
   "cell_type": "code",
   "execution_count": 232,
   "metadata": {},
   "outputs": [
    {
     "data": {
      "text/plain": [
       "array([2.00000000e+00, 3.57325116e+00, 7.81554615e+00, 1.97762599e+01,\n",
       "       4.77426239e+01, 8.03981705e+01, 1.95920295e+02, 4.21238587e+02,\n",
       "       1.11740856e+03, 2.77669839e+03, 5.86030028e+03, 1.54854116e+04])"
      ]
     },
     "execution_count": 232,
     "metadata": {},
     "output_type": "execute_result"
    }
   ],
   "source": [
    "(x+1).cumprod()"
   ]
  },
  {
   "cell_type": "code",
   "execution_count": null,
   "metadata": {},
   "outputs": [],
   "source": []
  },
  {
   "cell_type": "code",
   "execution_count": 248,
   "metadata": {},
   "outputs": [
    {
     "data": {
      "text/plain": [
       "-0.9863328732882632"
      ]
     },
     "execution_count": 248,
     "metadata": {},
     "output_type": "execute_result"
    }
   ],
   "source": [
    " r[-1]-r[-2]/r[-2]"
   ]
  },
  {
   "cell_type": "code",
   "execution_count": 239,
   "metadata": {},
   "outputs": [
    {
     "data": {
      "text/plain": [
       "array([-0.00415889, -0.00332617, -0.00874126, ...,  0.00194576,\n",
       "        0.00603574,  0.01366713])"
      ]
     },
     "execution_count": 239,
     "metadata": {},
     "output_type": "execute_result"
    }
   ],
   "source": [
    "r"
   ]
  },
  {
   "cell_type": "code",
   "execution_count": 240,
   "metadata": {},
   "outputs": [
    {
     "data": {
      "text/plain": [
       "200.0"
      ]
     },
     "execution_count": 240,
     "metadata": {},
     "output_type": "execute_result"
    }
   ],
   "source": [
    "6/3 *100"
   ]
  },
  {
   "cell_type": "code",
   "execution_count": null,
   "metadata": {},
   "outputs": [],
   "source": []
  },
  {
   "cell_type": "code",
   "execution_count": 249,
   "metadata": {},
   "outputs": [
    {
     "data": {
      "text/plain": [
       "100.0"
      ]
     },
     "execution_count": 249,
     "metadata": {},
     "output_type": "execute_result"
    }
   ],
   "source": [
    "(2-1)/1 *100"
   ]
  },
  {
   "cell_type": "code",
   "execution_count": 244,
   "metadata": {},
   "outputs": [
    {
     "data": {
      "text/plain": [
       "-1699.9999999999986"
      ]
     },
     "execution_count": 244,
     "metadata": {},
     "output_type": "execute_result"
    }
   ],
   "source": [
    "(1.7 -1.8) * 100"
   ]
  },
  {
   "cell_type": "code",
   "execution_count": 250,
   "metadata": {},
   "outputs": [
    {
     "data": {
      "text/plain": [
       "0.25"
      ]
     },
     "execution_count": 250,
     "metadata": {},
     "output_type": "execute_result"
    }
   ],
   "source": [
    "(10-8) / 8"
   ]
  },
  {
   "cell_type": "code",
   "execution_count": 251,
   "metadata": {},
   "outputs": [
    {
     "data": {
      "text/plain": [
       "0.25"
      ]
     },
     "execution_count": 251,
     "metadata": {},
     "output_type": "execute_result"
    }
   ],
   "source": [
    "(10/8) -1"
   ]
  },
  {
   "cell_type": "code",
   "execution_count": 265,
   "metadata": {},
   "outputs": [],
   "source": [
    "x=np.array([1,2,-3,-4,5,6,-7,8,9,17,-18,-12,-4,-6,1,2,4,-9])"
   ]
  },
  {
   "cell_type": "code",
   "execution_count": 270,
   "metadata": {},
   "outputs": [
    {
     "data": {
      "text/plain": [
       "array([ 4, -9])"
      ]
     },
     "execution_count": 270,
     "metadata": {},
     "output_type": "execute_result"
    }
   ],
   "source": [
    "x[-2:]"
   ]
  },
  {
   "cell_type": "code",
   "execution_count": 263,
   "metadata": {},
   "outputs": [],
   "source": [
    "y=x[x <0]"
   ]
  },
  {
   "cell_type": "code",
   "execution_count": 264,
   "metadata": {},
   "outputs": [
    {
     "data": {
      "text/plain": [
       "array([-3, -4, -7])"
      ]
     },
     "execution_count": 264,
     "metadata": {},
     "output_type": "execute_result"
    }
   ],
   "source": [
    "y"
   ]
  },
  {
   "cell_type": "code",
   "execution_count": 274,
   "metadata": {},
   "outputs": [
    {
     "data": {
      "text/plain": [
       "74"
      ]
     },
     "execution_count": 274,
     "metadata": {},
     "output_type": "execute_result"
    }
   ],
   "source": [
    "np.square(y).sum()"
   ]
  },
  {
   "cell_type": "code",
   "execution_count": 275,
   "metadata": {},
   "outputs": [
    {
     "data": {
      "text/plain": [
       "4.111111111111111"
      ]
     },
     "execution_count": 275,
     "metadata": {},
     "output_type": "execute_result"
    }
   ],
   "source": [
    "np.square(y).sum() / 18"
   ]
  },
  {
   "cell_type": "code",
   "execution_count": 278,
   "metadata": {},
   "outputs": [
    {
     "data": {
      "text/plain": [
       "2.0275875100994063"
      ]
     },
     "execution_count": 278,
     "metadata": {},
     "output_type": "execute_result"
    }
   ],
   "source": [
    "np.sqrt(np.square(y).sum() / 18)"
   ]
  },
  {
   "cell_type": "code",
   "execution_count": 279,
   "metadata": {},
   "outputs": [
    {
     "data": {
      "text/plain": [
       "0.10668191970032148"
      ]
     },
     "execution_count": 279,
     "metadata": {},
     "output_type": "execute_result"
    }
   ],
   "source": [
    "((50000 + 25000) / 50000) ** (1/4) - 1"
   ]
  },
  {
   "cell_type": "code",
   "execution_count": 281,
   "metadata": {},
   "outputs": [
    {
     "data": {
      "text/plain": [
       "0.10668191970032148"
      ]
     },
     "execution_count": 281,
     "metadata": {},
     "output_type": "execute_result"
    }
   ],
   "source": [
    "(75000 / 50000) ** (1/4) - 1"
   ]
  },
  {
   "cell_type": "code",
   "execution_count": 282,
   "metadata": {},
   "outputs": [
    {
     "data": {
      "text/plain": [
       "array([  1,   2,  -3,  -4,   5,   6,  -7,   8,   9,  17, -18, -12,  -4,\n",
       "        -6,   1,   2,   4,  -9])"
      ]
     },
     "execution_count": 282,
     "metadata": {},
     "output_type": "execute_result"
    }
   ],
   "source": [
    "x"
   ]
  },
  {
   "cell_type": "code",
   "execution_count": 283,
   "metadata": {},
   "outputs": [
    {
     "data": {
      "text/plain": [
       "-9"
      ]
     },
     "execution_count": 283,
     "metadata": {},
     "output_type": "execute_result"
    }
   ],
   "source": [
    "x[-1]"
   ]
  },
  {
   "cell_type": "code",
   "execution_count": null,
   "metadata": {},
   "outputs": [],
   "source": [
    "d = x"
   ]
  }
 ],
 "metadata": {
  "kernelspec": {
   "display_name": "Python 3",
   "language": "python",
   "name": "python3"
  },
  "language_info": {
   "codemirror_mode": {
    "name": "ipython",
    "version": 3
   },
   "file_extension": ".py",
   "mimetype": "text/x-python",
   "name": "python",
   "nbconvert_exporter": "python",
   "pygments_lexer": "ipython3",
   "version": "3.8.5"
  }
 },
 "nbformat": 4,
 "nbformat_minor": 4
}
